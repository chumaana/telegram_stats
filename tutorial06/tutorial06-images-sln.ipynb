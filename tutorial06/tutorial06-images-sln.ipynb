{
 "cells": [
  {
   "cell_type": "markdown",
   "metadata": {},
   "source": [
    "# Základní grafické operace – Numpy a Pillow\n",
    "\n",
    "V těchto cvičeních budeme opět pracovat s obrázkem:\n",
    "\n",
    "![Kvetina](images/kvetina/kvetina.jpg)\n",
    "\n",
    "Byl vyfocen digitálním fotoaparátem a uložen v barvovém prostoru sRGB ve formátu JPEG. (A samozřejmě také výrazně zmenšen.) Jelikož úkolem tohoto cvičení je naučit se používat Numpy a další dostupné nástroje, pro načítání a ukládání už budeme používat metody knihovny Pillow.\n",
    "\n",
    "Jsou-li k práci potřeba nějaké rovnice, jsou uvedeny v nápovědě (a také odkázány na zdroj), proto se jí nevyhýbejte."
   ]
  },
  {
   "cell_type": "code",
   "execution_count": null,
   "metadata": {},
   "outputs": [],
   "source": [
    "# Vynucení kontroly souladu s PEP8\n",
    "!pip install flake8 pycodestyle pycodestyle_magic\n",
    "%load_ext pycodestyle_magic\n",
    "%pycodestyle_on"
   ]
  },
  {
   "cell_type": "code",
   "execution_count": null,
   "metadata": {},
   "outputs": [],
   "source": [
    "from PIL import Image\n",
    "import numpy as np"
   ]
  },
  {
   "cell_type": "markdown",
   "metadata": {},
   "source": [
    "## Načtení obrázku"
   ]
  },
  {
   "cell_type": "code",
   "execution_count": null,
   "metadata": {},
   "outputs": [],
   "source": [
    "img = Image.open('images/kvetina/kvetina.jpg')\n",
    "img"
   ]
  },
  {
   "cell_type": "markdown",
   "metadata": {},
   "source": [
    "Pro převod `Image` objektu na `numpy` array lze použít `np.array` nebo `np.asarray`."
   ]
  },
  {
   "cell_type": "code",
   "execution_count": null,
   "metadata": {},
   "outputs": [],
   "source": [
    "data = np.asarray(img, dtype=np.float)\n",
    "data.shape"
   ]
  },
  {
   "cell_type": "markdown",
   "metadata": {},
   "source": [
    "Pro převod zpět na `Image` nejdříve pole přetypujte na pole celých čísel (8 bitové) a poté použijte [`Image.fromarray`](https://pillow.readthedocs.io/en/3.1.x/reference/Image.html#PIL.Image.fromarray)."
   ]
  },
  {
   "cell_type": "code",
   "execution_count": null,
   "metadata": {
    "tags": [
     "solution"
    ]
   },
   "outputs": [],
   "source": [
    "from IPython.display import display\n",
    "\n",
    "\n",
    "def display_img(array, mode='RGB'):\n",
    "    display(Image.fromarray(array.astype(np.int8), mode=mode))"
   ]
  },
  {
   "cell_type": "markdown",
   "metadata": {},
   "source": [
    "## 1. Převeďte uvedený obrázek z pozitivu do negativu.\n",
    "\n",
    "**Nápověda:**\n",
    "\n",
    "Tohle je asi první cvičení na broadcasting – potřebujeme všechny barvové složky v každém pixelu odečíst od 255 a nemusíme kvůli tomu vyrábět matici 375×500×3."
   ]
  },
  {
   "cell_type": "code",
   "execution_count": null,
   "metadata": {
    "tags": [
     "solution"
    ]
   },
   "outputs": [],
   "source": [
    "negativ = 255 - data\n",
    "Image.fromarray(negativ.astype(np.int8), 'RGB')"
   ]
  },
  {
   "cell_type": "markdown",
   "metadata": {},
   "source": [
    "## 2. Převeďte uvedený obrázek do odstínů šedi\n",
    "\n",
    "**Nápověda:**\n",
    "\n",
    "Pro převod použijte konverzní výraz podle ITU-R 601-2 luma transform pro převod z nelineárních hodnot R, G a B na tzv. lumu (nikoli tedy luminanci!):\n",
    "\n",
    "$$Y_{601} = 0.299 * R + 0.587 * G + 0.114 * B$$\n",
    "\n",
    "PS: Pro podrobnosti viz [What is \"luma\"?](http://www.poynton.com/notes/colour_and_gamma/ColorFAQ.html#RTFToC11)."
   ]
  },
  {
   "cell_type": "code",
   "execution_count": null,
   "metadata": {
    "tags": [
     "solution"
    ]
   },
   "outputs": [],
   "source": [
    "# gray = data.mean(axis=2)\n",
    "gray = np.average(data, weights=[0.299, 0.587, 0.114], axis=2)\n",
    "# gray = (data * [0.299, 0.587, 0.114]).sum(axis=2)\n",
    "\n",
    "Image.fromarray(gray.astype(np.int8), 'L')"
   ]
  },
  {
   "cell_type": "markdown",
   "metadata": {},
   "source": [
    "## 3. Nyní v rámci procvičení výřezů numpyovských polí vyextrahujte z originálního obrázku jednotlivé barevné kanály\n",
    "\n",
    "**Nápověda:**\n",
    "\n",
    "Jedna barvová složka představuje světlost v příslušném jednom barevném kanálu, proto se zobrazují v odstínech šedi. Čistě teoreticky si můžete dát tu práci a pokusit se je zobrazit v „přirozené“ barvě, ale jelikož to na webu umíme jenom přes plné RGB-spektrum, není to vůbec jednoduché."
   ]
  },
  {
   "cell_type": "code",
   "execution_count": null,
   "metadata": {
    "tags": [
     "solution"
    ]
   },
   "outputs": [],
   "source": [
    "from IPython.display import display\n",
    "\n",
    "for i in range(3):\n",
    "    out = data[:, :, i]\n",
    "    display(Image.fromarray(out.astype(np.int8), 'L'))"
   ]
  },
  {
   "cell_type": "markdown",
   "metadata": {},
   "source": [
    "## 4. Jako další procvičení na výřezy numpyovských polí zmenšete vstupní obrázek třebas na polovinu\n",
    "\n",
    "**Nápověda:**\n",
    "\n",
    "Při zmenšování jde o ztrátu informace a překvapivě se dá rozumných (tedy koukatelných) výsledků dosáhnout pouhým výběrem podmnožiny všech pixelů, což je smyslem této úlohy. Správně by se „zahazované“ pixely nějakým způsobem průměrovaly, ale to si necháme na jindy."
   ]
  },
  {
   "cell_type": "code",
   "execution_count": null,
   "metadata": {
    "tags": [
     "solution"
    ]
   },
   "outputs": [],
   "source": [
    "out = data[::2, ::2, :]\n",
    "Image.fromarray(out.astype(np.int8), 'RGB')"
   ]
  },
  {
   "cell_type": "markdown",
   "metadata": {},
   "source": [
    "## 5. Jako další operaci na broadcasting zkuste originální obrázek ztmavit\n",
    "\n",
    "**Nápověda:**\n",
    "\n",
    "Ztmavit obrázek znamená zmenšit světlost v jeho jednotlivých barvových kanálech. V nejjednodušším případě ve všech stejně, jedná se tedy o broadcasting skaláru. Reálně by se spíše počítal každý kanál jiným koeficientem a šlo by tak o broadcasting vektorem, ale to si také necháme na jindy. (Natožpak pak ztmavování pomocí vhodné nelineární funkce.)\n",
    "\n",
    "Mimochodem – při ztmavování obrázku pochopitelně začneme přicházet o informace, především ve stínech. Za prvé menší rozdíly asi nerozeznáme tak dobře a za druhé zmenšováním čísel blízko nuly můžeme informaci prostě ztratit i díky konečné přesnosti výpočtu. V praxi se snadno a rychle stane, že se tmavé plochy začnou za chvíli všechny mapovat na jednolitou černou."
   ]
  },
  {
   "cell_type": "code",
   "execution_count": null,
   "metadata": {
    "tags": [
     "solution"
    ]
   },
   "outputs": [],
   "source": [
    "out = data * 0.5\n",
    "Image.fromarray(out.astype(np.int8), 'RGB')"
   ]
  },
  {
   "cell_type": "markdown",
   "metadata": {},
   "source": [
    "## 6. Doplňkovou operací ke ztmavení je zesvětlání\n",
    "\n",
    "Pozor – tato úloha už není tak přímočará jako předchozí na ztmavení!\n",
    "\n",
    "**Nápověda:**\n",
    "\n",
    "Zcela naopak k předchozí úloze musíme nyní světlost v jednotlivých barvových kanálech zvětšit (a zase v zájmu zjednodušení použijeme pouze broadcasting skalárem místo vektorem nebo dokonce rovnou nějakou nelineární funkcí). Jenomže zatímco přibližovat se k nule jsme mohli bez nesnází, jen tak si zvětšovat čísla dost dobře nemůžeme – typický výstupní obrázek má na jeden barvový kanál vyhrazen pouze jeden bajt a do něj se vleze nejvyšší číslo 255. \n",
    "\n",
    "Je jasné, že vypočítané hodnoty musíme držet v rozmezí 0-255 a že tak při zesvětlování začneme ztrácet informace nejdříve z těch světlejších míst – prostě se dřív všechny namapují na čistou bílou. (A když to přeženete, tak tam kromě čisté černé namapujete úplně všechno.)"
   ]
  },
  {
   "cell_type": "code",
   "execution_count": null,
   "metadata": {
    "tags": [
     "solution"
    ]
   },
   "outputs": [],
   "source": [
    "out = np.clip(data * 2, 0, 255)\n",
    "Image.fromarray(out.astype(np.int8), 'RGB')"
   ]
  },
  {
   "cell_type": "markdown",
   "metadata": {},
   "source": [
    "## 7. Ať si vyzkoušíme také něco složitějšího než jen násobení skalárem – „vypněte“ ve výstupních obrázcích vždy jeden kanál a druhé dva zachovejte"
   ]
  },
  {
   "cell_type": "code",
   "execution_count": null,
   "metadata": {
    "tags": [
     "solution"
    ]
   },
   "outputs": [],
   "source": [
    "# out = data * np.array([0, 1, 1])\n",
    "out = data * np.array([1, 0, 1])\n",
    "# out = data * np.array([1, 1, 0])\n",
    "\n",
    "Image.fromarray(out.astype(np.int8), 'RGB')"
   ]
  },
  {
   "cell_type": "markdown",
   "metadata": {},
   "source": [
    "## 8. Na závěr si zahrajeme na analogového fotografa vybaveného digitální technikou\n",
    "\n",
    "Dostali jste barevný negativ a máte za úkol ho zkopírovat (tedy zachovat velikost) pomocí zvětšovacího přístroje se zeleným filtrem. Jelikož ale nemáte možnost změřit osvit pozitivu, musíte provést klasickou proužkovou zkoušku – rozdělit pozitiv na několik (obdélníkových) oblastí a postupným posouváním krycí masky po nich vyzkoušet, jak se délka osvitu projeví (samozřejmě pouze v dané části obrazu). Programově tedy:\n",
    "\n",
    "* Výstupem je pozitiv, musíte proto barvy převést z negativu.\n",
    "* Zelený filtr je ideální, ze tří barvových složek originálu tak použijete pouze zelený kanál.\n",
    "* „Osvit“ testujte v pěti oblastech následujícím způsobem – prostřední část prostě zkopírujte, dvě krajní na jedné straně „podsviťte“ (tedy ztmavte) a druhé dvě krajní naopak „přesviťte“ (tedy zesvětlete).\n",
    "\n",
    "V zájmu procvičení práce s numpy-poli spočítejte výstup pro horizontální i vertikální směr.\n",
    "\n",
    "**Nápověda:**\n",
    "\n",
    "Možná trochu zamotané, ale relativně přímočaré cvičení. Jen si dejte pozor, abyste nepřišli o originální obrázek – potřebujete ho pro dva výpočty."
   ]
  },
  {
   "cell_type": "code",
   "execution_count": null,
   "metadata": {
    "tags": [
     "solution"
    ]
   },
   "outputs": [],
   "source": [
    "from IPython.display import display\n",
    "\n",
    "obr = 255 - data[:, :, 1]\n",
    "obr_copy = np.copy(obr)\n",
    "\n",
    "osvit = 0.25, 0.5, 1, 2, 4\n",
    "\n",
    "for i, j in enumerate(range(0, 500, 100)):\n",
    "    pohled = obr[:, i*100:i*100+100]\n",
    "    pohled *= osvit[i]\n",
    "\n",
    "obr = np.clip(obr, 0, 255)\n",
    "display(Image.fromarray(obr.astype(dtype=np.uint8), 'L'))\n",
    "\n",
    "osvit = 0.3, 0.6, 1, 1.3, 1.6\n",
    "\n",
    "for i, j in enumerate(range(0, 375, 75)):\n",
    "    pohled = obr_copy[i*75:i*75+75, :]\n",
    "    pohled *= osvit[i]\n",
    "\n",
    "obr_copy = np.clip(obr_copy, 0, 255)\n",
    "display(Image.fromarray(obr_copy.astype(dtype=np.uint8), 'L'))"
   ]
  }
 ],
 "metadata": {
  "kernelspec": {
   "display_name": "Python 3 (ipykernel)",
   "language": "python",
   "name": "python3"
  },
  "language_info": {
   "codemirror_mode": {
    "name": "ipython",
    "version": 3
   },
   "file_extension": ".py",
   "mimetype": "text/x-python",
   "name": "python",
   "nbconvert_exporter": "python",
   "pygments_lexer": "ipython3",
   "version": "3.9.6"
  }
 },
 "nbformat": 4,
 "nbformat_minor": 4
}
