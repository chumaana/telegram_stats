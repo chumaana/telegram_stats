{
 "cells": [
  {
   "cell_type": "code",
   "execution_count": null,
   "metadata": {},
   "outputs": [],
   "source": [
    "# Vynucení kontroly souladu s PEP8\n",
    "!pip install flake8 pycodestyle pycodestyle_magic\n",
    "%load_ext pycodestyle_magic\n",
    "%pycodestyle_on"
   ]
  },
  {
   "cell_type": "markdown",
   "metadata": {},
   "source": [
    "# Čísla\n"
   ]
  },
  {
   "cell_type": "markdown",
   "metadata": {},
   "source": [
    "### 1. Vypište všechna čísla mezi 2 a 100, která jsou dělitelná buď 3 nebo 7.\n",
    "\n"
   ]
  },
  {
   "cell_type": "code",
   "execution_count": null,
   "metadata": {
    "tags": [
     "solution"
    ]
   },
   "outputs": [],
   "source": [
    "for i in range(2, 101):\n",
    "    if i % 3 == 0 or i % 7 == 0:\n",
    "        print(i)"
   ]
  },
  {
   "cell_type": "markdown",
   "metadata": {},
   "source": [
    "### 2. Upravte předchozí program, aby vypisoval čísla, která jsou dělitelná 3 nebo 7, ale ne oběma najednou."
   ]
  },
  {
   "cell_type": "code",
   "execution_count": null,
   "metadata": {
    "tags": [
     "solution"
    ]
   },
   "outputs": [],
   "source": [
    "for i in range(2, 101):\n",
    "    if (i % 3 == 0 and i % 7 != 0) or (i % 3 != 0 and i % 7 == 0):\n",
    "        print(i)"
   ]
  },
  {
   "cell_type": "markdown",
   "metadata": {},
   "source": [
    "### 3. Vypište všechna prvočísla mezi 2 a 100. (Použijte lepší algoritmus, než je ve slajdech :)"
   ]
  },
  {
   "cell_type": "code",
   "execution_count": null,
   "metadata": {
    "tags": [
     "solution"
    ]
   },
   "outputs": [],
   "source": [
    "import math\n",
    "\n",
    "for n in range(2, 101):\n",
    "    for x in range(2, int(math.sqrt(n)) + 1):\n",
    "        if n % x == 0:\n",
    "            break\n",
    "    else:\n",
    "        print(n, end=' ')"
   ]
  },
  {
   "cell_type": "code",
   "execution_count": null,
   "metadata": {
    "tags": [
     "solution"
    ]
   },
   "outputs": [],
   "source": [
    "def sieve_of_eratosthenes(max_integer):\n",
    "    sieve = [True for _ in range(max_integer + 1)]\n",
    "    sieve[0:1] = [False, False]\n",
    "    for start in range(2, max_integer + 1):\n",
    "        if sieve[start]:\n",
    "            for i in range(2 * start, max_integer + 1, start):\n",
    "                sieve[i] = False\n",
    "    primes = []\n",
    "    for i in range(2, max_integer + 1):\n",
    "        if sieve[i]:\n",
    "            primes.append(i)\n",
    "    return primes\n",
    "\n",
    "\n",
    "for x in sieve_of_eratosthenes(100):\n",
    "    print(x)"
   ]
  },
  {
   "cell_type": "markdown",
   "metadata": {},
   "source": [
    "### 4. „Implementujte“ umocňování celočíselným exponentem, tj. předpokládejte, že nemáte k dispozici operaci umocňování \\*\\*, ale pouze základní matematické operace +-*/. Zkuste to vyřešit na méně než (n-1) násobení."
   ]
  },
  {
   "cell_type": "code",
   "execution_count": null,
   "metadata": {
    "tags": [
     "solution"
    ]
   },
   "outputs": [],
   "source": [
    "# pouze ukázkové zadání\n",
    "base = 3.14\n",
    "exponent = 5\n",
    "\n",
    "# proveď „umocňování“\n",
    "result = base\n",
    "for i in range(exponent-1):\n",
    "    result *= base\n",
    "\n",
    "# vypiš výsledek\n",
    "txt = f\"Result: {base}^{exponent} = {result}\"\n",
    "print(txt)"
   ]
  },
  {
   "cell_type": "markdown",
   "metadata": {},
   "source": [
    "### 5. Spočítejte faktoriál daného čísla."
   ]
  },
  {
   "cell_type": "code",
   "execution_count": null,
   "metadata": {
    "tags": [
     "solution"
    ]
   },
   "outputs": [],
   "source": [
    "# vstup\n",
    "n = int(input('Insert integer: '))\n",
    "\n",
    "# výpočet\n",
    "f = 1\n",
    "for i in range(2, n+1):\n",
    "    f *= i\n",
    "\n",
    "# vypiš výsledek\n",
    "print(f\"Result: {n}! = {f}\")"
   ]
  },
  {
   "cell_type": "markdown",
   "metadata": {},
   "source": [
    "### 6.  Vypište daný počet členů Fibonacciho posloupnosti, tj. řady 1, 1, 2, 3, 5, 8..."
   ]
  },
  {
   "cell_type": "code",
   "execution_count": null,
   "metadata": {
    "tags": [
     "solution"
    ]
   },
   "outputs": [],
   "source": [
    "LIMIT = 13\n",
    "\n",
    "\n",
    "def fib(n):\n",
    "    if n <= 1:\n",
    "        return n\n",
    "    else:\n",
    "        return fib(n-1) + fib(n-2)\n",
    "\n",
    "\n",
    "for i in range(1, LIMIT+1):\n",
    "    print(fib(i), end=' ')"
   ]
  },
  {
   "cell_type": "markdown",
   "metadata": {},
   "source": [
    "### 7. Vyřešte iterací rovnici x<sup>3</sup> - x - 1 = 0 s rozumnou přesností."
   ]
  },
  {
   "cell_type": "code",
   "execution_count": null,
   "metadata": {
    "tags": [
     "solution"
    ]
   },
   "outputs": [],
   "source": [
    "x = 2\n",
    "oldx = 1  # start_value\n",
    "tolerance = 0.000001\n",
    "\n",
    "while abs(oldx-x) > tolerance:\n",
    "    oldx = x\n",
    "    x = (1+x)**(1/3.0)  # iterace pro x\n",
    "    print(\"Kořen {0}   se liší od předchozího o {1}\".format(x, abs(oldx-x)))"
   ]
  },
  {
   "cell_type": "code",
   "execution_count": null,
   "metadata": {
    "tags": [
     "removed"
    ]
   },
   "outputs": [],
   "source": [
    "# x^3 - x - 1 = 0\n",
    "def fn(x): return x**3 - x - 1\n",
    "\n",
    "\n",
    "# Solution by bisection method.\n",
    "# Make sure that f(a) is negative and f(b) is positive.\n",
    "\n",
    "tol = 1e-10\n",
    "a = 1\n",
    "b = 2\n",
    "residual = 1\n",
    "print(f\"f(a) = {fn(a)}, f(b) = {fn(b)}\")\n",
    "\n",
    "while abs(residual) > tol:\n",
    "    c = (a + b)/2\n",
    "    residual = fn(c)\n",
    "    if residual > 0:\n",
    "        b = c\n",
    "    else:\n",
    "        a = c\n",
    "    print(c)"
   ]
  },
  {
   "cell_type": "markdown",
   "metadata": {},
   "source": [
    "### 8. Vstupní řetězec jedniček a nul představující číslo ve dvojkové soustavě převeďte na číslo v soustavě desítkové.\n",
    "\n",
    "**HINT**: Jde to buď pomocí vhodného výpočtu nebo si stačí projít seznam vestavěných funkcí."
   ]
  },
  {
   "cell_type": "code",
   "execution_count": null,
   "metadata": {
    "tags": [
     "solution"
    ]
   },
   "outputs": [],
   "source": [
    "# vstup\n",
    "ns = input('Zadejte číslo v binárním tvaru: ')\n",
    "\n",
    "# výpočet\n",
    "vysledek = 0\n",
    "for i in ns:\n",
    "    vysledek *= 2\n",
    "    vysledek += int(i)\n",
    "print('{0} binárně = {1} desítkově'.format(ns, vysledek))"
   ]
  },
  {
   "cell_type": "code",
   "execution_count": null,
   "metadata": {
    "tags": [
     "solution"
    ]
   },
   "outputs": [],
   "source": [
    "# vstup\n",
    "ns = input('Zadejte číslo v binárním tvaru: ')\n",
    "\n",
    "# výpočet\n",
    "výsledek = int(ns, 2)\n",
    "print('{0} binárně = {1} desítkově'.format(ns, výsledek))"
   ]
  },
  {
   "cell_type": "code",
   "execution_count": null,
   "metadata": {
    "tags": [
     "removed"
    ]
   },
   "outputs": [],
   "source": [
    "val = 0\n",
    "binary = \"10001010100\"\n",
    "for i, num in enumerate(binary[::-1]):\n",
    "    val += (2**i) * int(num)\n",
    "val"
   ]
  },
  {
   "cell_type": "markdown",
   "metadata": {},
   "source": [
    "### 9. Doplňte předchozí skript o ověření, že vstupní řetězec je opravdu zápis čísla ve dvojkové soustavě."
   ]
  },
  {
   "cell_type": "code",
   "execution_count": null,
   "metadata": {
    "tags": [
     "solution"
    ]
   },
   "outputs": [],
   "source": [
    "import sys\n",
    "\n",
    "# vstup\n",
    "ns = input('Zadejte číslo v binárním tvaru: ')\n",
    "\n",
    "# ověření podmínky\n",
    "for ch in ns:\n",
    "    if (ch != '0') and (ch != '1'):\n",
    "        raise ValueError('Zadaný řetězec není obrazem čísla v binárním tvaru.')\n",
    "\n",
    "# výpočet\n",
    "vysledek = 0\n",
    "for i in ns:\n",
    "    vysledek *= 2\n",
    "    vysledek += int(i)\n",
    "print('{0} binárně = {1} desítkově'.format(ns, vysledek))"
   ]
  },
  {
   "cell_type": "code",
   "execution_count": null,
   "metadata": {
    "tags": [
     "solution"
    ]
   },
   "outputs": [],
   "source": [
    "# vstup\n",
    "ns = input('Zadejte číslo v binárním tvaru: ')\n",
    "\n",
    "# výpočet\n",
    "try:\n",
    "    výsledek = int(ns, 2)\n",
    "    print('{0} binárně = {1} desítkově'.format(ns, výsledek))\n",
    "except ValueError:\n",
    "    print('Zadaný řetězec zřejmě není obrazem čísla v binárním tvaru.')"
   ]
  },
  {
   "cell_type": "markdown",
   "metadata": {},
   "source": [
    "### 10. Napište opačnou funkci – vstupní číslo v desítkové soustavě převeďte do soustavy dvojkové.\n",
    "\n",
    "**HINT**: Řešení s výpočtem používá toho, že pro typ int fungují i binární operace. Jako takové ovšem nedokáže převádět necelá čísla. To ovšem nedokáže ale ani příslušná vestavěná funkce (druhé řešení)."
   ]
  },
  {
   "cell_type": "code",
   "execution_count": null,
   "metadata": {
    "tags": [
     "solution"
    ]
   },
   "outputs": [],
   "source": [
    "# vstup\n",
    "x = int(input('Zadejte číslo v desítkovém tvaru: '))\n",
    "\n",
    "# výpočet\n",
    "num = x\n",
    "binary = \"\"\n",
    "while num:\n",
    "    binary = str(num & 1) + binary\n",
    "    num >>= 1\n",
    "\n",
    "print('{0} desítkově = {1} binárně'.format(x, binary))"
   ]
  },
  {
   "cell_type": "code",
   "execution_count": null,
   "metadata": {
    "tags": [
     "solution"
    ]
   },
   "outputs": [],
   "source": [
    "# vstup\n",
    "ns = input('Zadejte číslo v desítkovém tvaru: ')\n",
    "\n",
    "# výpočet\n",
    "try:\n",
    "    výsledek = bin(int(ns))\n",
    "    print('{0} desítkově = {1} binárně'.format(ns, výsledek))\n",
    "except Exception:\n",
    "    print('Zadaný řetězec zřejmě není obrazem čísla v desítkovém tvaru.')"
   ]
  }
 ],
 "metadata": {
  "celltoolbar": "Tags",
  "kernelspec": {
   "display_name": "Python 3 (ipykernel)",
   "language": "python",
   "name": "python3"
  },
  "language_info": {
   "codemirror_mode": {
    "name": "ipython",
    "version": 3
   },
   "file_extension": ".py",
   "mimetype": "text/x-python",
   "name": "python",
   "nbconvert_exporter": "python",
   "pygments_lexer": "ipython3",
   "version": "3.9.6"
  }
 },
 "nbformat": 4,
 "nbformat_minor": 4
}
