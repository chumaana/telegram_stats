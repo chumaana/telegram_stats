{
 "cells": [
  {
   "cell_type": "code",
   "execution_count": null,
   "metadata": {},
   "outputs": [],
   "source": [
    "# Vynucení kontroly souladu s PEP8\n",
    "!pip install flake8 pycodestyle pycodestyle_magic\n",
    "%load_ext pycodestyle_magic\n",
    "%pycodestyle_on"
   ]
  },
  {
   "cell_type": "markdown",
   "metadata": {},
   "source": [
    "# Řetězce"
   ]
  },
  {
   "cell_type": "markdown",
   "metadata": {},
   "source": [
    "### 1. Vypište všechny znaky z řetězce a pokud jsou alfabetické, přidejte ještě 'souhláska' nebo 'samohláska', podle toho, co je daný znak zač.\n",
    "\n",
    "**HINT**: isalpha(), in\n",
    "\n",
    "Output:\n",
    "\n",
    "```\n",
    "text = \"Ahoj, světe!\"\n",
    "\n",
    "A samohláska\n",
    "h souhláska\n",
    "o samohláska\n",
    "j souhláska\n",
    ",\n",
    " \n",
    "s souhláska\n",
    "v souhláska\n",
    "ě samohláska\n",
    "t souhláska\n",
    "e samohláska\n",
    "!\n",
    "```"
   ]
  },
  {
   "cell_type": "code",
   "execution_count": null,
   "metadata": {},
   "outputs": [],
   "source": [
    "text = \"Ahoj, světe!\""
   ]
  },
  {
   "cell_type": "code",
   "execution_count": null,
   "metadata": {
    "tags": [
     "solution"
    ]
   },
   "outputs": [],
   "source": [
    "for char in text:\n",
    "    if char.isalpha():\n",
    "        if char.lower() in \"aáeéěiíoóuúůyý\":\n",
    "            print(char, \"samohláska\")\n",
    "        else:\n",
    "            print(char, \"souhláska\")\n",
    "    else:\n",
    "        print(char)"
   ]
  },
  {
   "cell_type": "markdown",
   "metadata": {},
   "source": [
    "### 2. Napište program, který vypíše první polovinu řetězce."
   ]
  },
  {
   "cell_type": "code",
   "execution_count": null,
   "metadata": {},
   "outputs": [],
   "source": [
    "text = \"Ahoj! Jak se máš?\""
   ]
  },
  {
   "cell_type": "code",
   "execution_count": null,
   "metadata": {
    "tags": [
     "solution"
    ]
   },
   "outputs": [],
   "source": [
    "print(text)\n",
    "print(text[:len(text)//2])"
   ]
  },
  {
   "cell_type": "markdown",
   "metadata": {},
   "source": [
    "### 3. Přepište předchozí program do podoby funkce, která daný řetězec bude brát jako argument."
   ]
  },
  {
   "cell_type": "code",
   "execution_count": null,
   "metadata": {
    "tags": [
     "solution"
    ]
   },
   "outputs": [],
   "source": [
    "def half(text):\n",
    "    return text[:len(text)//2]\n",
    "\n",
    "\n",
    "t = \"Ahoj! Jak se máš?\"\n",
    "print(t)\n",
    "print(half(t))"
   ]
  },
  {
   "cell_type": "markdown",
   "metadata": {},
   "source": [
    "### 4. Napište program, který vypíše část řetězce před prvním výskytem písmene „m“.\n",
    "\n",
    "**HINT**: Nezapomeňte ošetřit případ, kdy se „m“ v zadaném řetězci vůbec nevyskytuje.\n",
    "\n"
   ]
  },
  {
   "cell_type": "code",
   "execution_count": null,
   "metadata": {},
   "outputs": [],
   "source": [
    "text = \"Jak jsi na tom, co dnes podniknem?\""
   ]
  },
  {
   "cell_type": "code",
   "execution_count": null,
   "metadata": {
    "tags": [
     "solution"
    ]
   },
   "outputs": [],
   "source": [
    "for znak in text:\n",
    "    if znak == 'm':\n",
    "        break\n",
    "    print(znak, end='')"
   ]
  },
  {
   "cell_type": "markdown",
   "metadata": {},
   "source": [
    "### 5. Vypište počet výskytů písmene „a“ v zadaném řetězci.\n"
   ]
  },
  {
   "cell_type": "code",
   "execution_count": null,
   "metadata": {},
   "outputs": [],
   "source": [
    "text = \"A jak jsi na tom, co dnes podniknem?\""
   ]
  },
  {
   "cell_type": "code",
   "execution_count": null,
   "metadata": {
    "tags": [
     "solution"
    ]
   },
   "outputs": [],
   "source": [
    "a_count = 0\n",
    "for letter in text:\n",
    "    if letter == \"a\":\n",
    "        a_count += 1\n",
    "print(\"Písmeno 'a' nalezeno \", a_count, \"-krát.\", sep='')"
   ]
  },
  {
   "cell_type": "code",
   "execution_count": null,
   "metadata": {
    "tags": [
     "solution"
    ]
   },
   "outputs": [],
   "source": [
    "print(\"Písmeno 'a' nalezeno \", text.count('a'), \"-krát.\", sep='')"
   ]
  },
  {
   "cell_type": "markdown",
   "metadata": {},
   "source": [
    "### 6.  Upravte předchozí program, aby ignoroval velikost písmen (tj. „a“ i „A“ se budou uvažovat stejně)."
   ]
  },
  {
   "cell_type": "code",
   "execution_count": null,
   "metadata": {},
   "outputs": [],
   "source": [
    "text = \"A jak jsi na tom, co dnes podniknem?\""
   ]
  },
  {
   "cell_type": "code",
   "execution_count": null,
   "metadata": {
    "tags": [
     "solution"
    ]
   },
   "outputs": [],
   "source": [
    "a_count = 0\n",
    "\n",
    "for letter in text:\n",
    "    if letter == \"a\" or letter == \"A\":\n",
    "        a_count += 1\n",
    "print(\"Písmeno 'a' nalezeno \", a_count, \"-krát.\", sep='')"
   ]
  },
  {
   "cell_type": "code",
   "execution_count": null,
   "metadata": {
    "tags": [
     "solution"
    ]
   },
   "outputs": [],
   "source": [
    "pocet = text.count('a') + text.count('A')\n",
    "print(\"Písmeno 'a' nalezeno \", pocet, \"-krát.\", sep='')"
   ]
  },
  {
   "cell_type": "markdown",
   "metadata": {},
   "source": [
    "### 7. Napište program, který z řetězce zadaného jako první argument vypíše tu část, která předchází prvnímu výskytu znaku zadaného jako druhý argument.\n",
    "\n",
    "f(\"hello\",\"l\") → \"he\"\n",
    "\n",
    "f(\"hello\",\"o\") → \"hell\""
   ]
  },
  {
   "cell_type": "code",
   "execution_count": null,
   "metadata": {},
   "outputs": [],
   "source": [
    "txt = \"Do you have time?\"\n",
    "ch = \"a\""
   ]
  },
  {
   "cell_type": "code",
   "execution_count": null,
   "metadata": {
    "tags": [
     "solution"
    ]
   },
   "outputs": [],
   "source": [
    "def string_until_letter(text, letter):\n",
    "    if letter in text:\n",
    "        return text[:text.index(letter)]\n",
    "    else:\n",
    "        return text\n",
    "\n",
    "\n",
    "print(txt, ch)\n",
    "print(string_until_letter(txt, ch))"
   ]
  },
  {
   "cell_type": "markdown",
   "metadata": {},
   "source": [
    "### 8. „Reimplementujte“ count() (pro jeden znak) nějakým procházením řetězce.\n",
    "\n",
    "('Příliš žluťoučký kůň úpěl ďábelské ódy.', 'l') → 4"
   ]
  },
  {
   "cell_type": "code",
   "execution_count": null,
   "metadata": {},
   "outputs": [],
   "source": [
    "text1 = (\n",
    "    \"Třistatřiatřicet stříbrných stříkaček stříkalo přes\"\n",
    "    \" třistatřiatřicet stříbrných střech.\"\n",
    ")\n",
    "text2 = \"Příliš žluťoučký kůň úpěl ďábelské ódy.\"\n",
    "char = 'l'"
   ]
  },
  {
   "cell_type": "code",
   "execution_count": null,
   "metadata": {
    "tags": [
     "solution"
    ]
   },
   "outputs": [],
   "source": [
    "pocet = 0\n",
    "for ch in text2:\n",
    "    if ch == char:\n",
    "        pocet += 1\n",
    "\n",
    "print(text2, char)\n",
    "print(pocet)"
   ]
  },
  {
   "cell_type": "markdown",
   "metadata": {},
   "source": [
    "### 9. Upravte předchozí program, aby zvládal hledat více než jeden znak.\n",
    "\n",
    "('Třistatřiatřicet stříbrných stříkaček stříkalo přes třistatřiatřicet stříbrných střech.', 'tři') → 5\n",
    "\n",
    "('Třistatřiatřicet stříbrných stříkaček stříkalo přes třistatřiatřicet stříbrných střech.', 'tří') → 4\n"
   ]
  },
  {
   "cell_type": "code",
   "execution_count": null,
   "metadata": {},
   "outputs": [],
   "source": [
    "text1 = (\n",
    "    \"Třistatřiatřicet stříbrných stříkaček stříkalo přes\"\n",
    "    \" třistatřiatřicet stříbrných střech.\"\n",
    ")\n",
    "chars = 'tří'"
   ]
  },
  {
   "cell_type": "code",
   "execution_count": null,
   "metadata": {
    "tags": [
     "solution"
    ]
   },
   "outputs": [],
   "source": [
    "text_len = len(text)\n",
    "chars_len = len(chars)\n",
    "pocet = 0\n",
    "\n",
    "for i in range(text_len):\n",
    "    if text[i:i+chars_len] == chars:\n",
    "        pocet += 1\n",
    "print(text, chars)\n",
    "print(pocet)"
   ]
  },
  {
   "cell_type": "code",
   "execution_count": null,
   "metadata": {
    "tags": [
     "solution"
    ]
   },
   "outputs": [],
   "source": [
    "def najdi_znaky(retezec, znaky):\n",
    "    c = retezec.split(znaky)\n",
    "    return len(c) - 1\n",
    "\n",
    "\n",
    "najdi_znaky(text, chars)"
   ]
  },
  {
   "cell_type": "markdown",
   "metadata": {},
   "source": [
    "### 10. Ze zadané věty vytvořte novou větu s opačným pořadím slov.\n",
    "\"Příliš žluťoučký kůň úpěl ďábelské ódy.\" → ódy. ďábelské úpěl kůň žluťoučký Příliš\n",
    "\n"
   ]
  },
  {
   "cell_type": "code",
   "execution_count": null,
   "metadata": {},
   "outputs": [],
   "source": [
    "veta = \"Příliš žluťoučký kůň úpěl ďábelské ódy.\""
   ]
  },
  {
   "cell_type": "code",
   "execution_count": null,
   "metadata": {
    "tags": [
     "solution"
    ]
   },
   "outputs": [],
   "source": [
    "print(' '.join(veta.split()[-1::-1]))"
   ]
  },
  {
   "cell_type": "code",
   "execution_count": null,
   "metadata": {
    "tags": [
     "solution"
    ]
   },
   "outputs": [],
   "source": [
    "veta = veta.split()\n",
    "veta.reverse()\n",
    "veta = ' '.join(veta)\n",
    "print(veta)"
   ]
  },
  {
   "cell_type": "markdown",
   "metadata": {},
   "source": [
    "### 11. „Reimplementujte“ swapcase() (pro ASCII zadání) nějakým procházením řetězce a za pomoci funkcí ord() a chr().\n",
    "\n",
    "**HINT** Velká a malá písmena v ASCII jsou dvě spojité množiny znaků, které jsou od sebe nějak daleko (tedy odpovídající si malá a velká písmena jsou stejně vzdálená). Konkrétně platí, že ord('a') = 97 a ord('A') = 65.\n",
    "\n"
   ]
  },
  {
   "cell_type": "code",
   "execution_count": null,
   "metadata": {
    "tags": [
     "solution"
    ]
   },
   "outputs": [],
   "source": [
    "# A = 65 , Z = 90\n",
    "# a = 97 , z = 122\n",
    "\n",
    "xs = \"TaKhLe by TO - 123 - teDY nESlo.\"\n",
    "ys = ''\n",
    "\n",
    "for x in xs:\n",
    "    p = ord(x)\n",
    "    if p >= 65 and p <= 90:\n",
    "        ys += chr(p+32)\n",
    "    elif p >= 97 and p <= 122:\n",
    "        ys += chr(p-32)\n",
    "    else:\n",
    "        ys += x\n",
    "\n",
    "print(xs)\n",
    "print(ys)"
   ]
  }
 ],
 "metadata": {
  "celltoolbar": "Tags",
  "kernelspec": {
   "display_name": "Python 3 (ipykernel)",
   "language": "python",
   "name": "python3"
  },
  "language_info": {
   "codemirror_mode": {
    "name": "ipython",
    "version": 3
   },
   "file_extension": ".py",
   "mimetype": "text/x-python",
   "name": "python",
   "nbconvert_exporter": "python",
   "pygments_lexer": "ipython3",
   "version": "3.9.6"
  }
 },
 "nbformat": 4,
 "nbformat_minor": 4
}
