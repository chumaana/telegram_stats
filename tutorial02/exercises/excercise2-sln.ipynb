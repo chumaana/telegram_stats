{
 "cells": [
  {
   "cell_type": "code",
   "execution_count": null,
   "metadata": {},
   "outputs": [],
   "source": [
    "# Vynucení kontroly souladu s PEP8\n",
    "!pip install flake8 pycodestyle pycodestyle_magic\n",
    "%load_ext pycodestyle_magic\n",
    "%pycodestyle_on"
   ]
  },
  {
   "cell_type": "markdown",
   "metadata": {},
   "source": [
    "# Příklady na čísla"
   ]
  },
  {
   "cell_type": "markdown",
   "metadata": {},
   "source": [
    "### 1. Napište program pro výpis zadaného počtu řádků Pascalova trojúhelníku. Počet řádků si program vyžádá na vstupu od uživatele. Výstup by měl být správně graficky uspořádán. Příklad výstupu pro pět řádek:\n",
    "\n",
    "           1\n",
    "          1 1\n",
    "         1 2 1\n",
    "        1 3 3 1\n",
    "       1 4 6 4 1\n",
    "\n",
    "**HINT**: Nevíte-li rovnou, jak řešit uspořádání, vyřešte úlohu nejdříve tak, aby psala správné koeficienty, a teprve poté se zabývejte správným zarovnáním jednotlivých řádek.\n"
   ]
  },
  {
   "cell_type": "code",
   "execution_count": null,
   "metadata": {
    "tags": [
     "solution"
    ]
   },
   "outputs": [],
   "source": [
    "lines_nr = int(input('Zadejte prosim pocet radku: '))\n",
    "\n",
    "old = [1, 1]\n",
    "xs = ['1', '1 1']\n",
    "\n",
    "for i in range(3, lines_nr+1):\n",
    "    new = [1]\n",
    "    for j in range(i-2):\n",
    "        new.append(old[j] + old[j+1])\n",
    "    new.append(1)\n",
    "    xs.append(' '.join([str(x) for x in new]))\n",
    "    old = new\n",
    "\n",
    "length = len(xs[-1])\n",
    "for x in xs:\n",
    "    print(x.center(length))"
   ]
  },
  {
   "cell_type": "markdown",
   "metadata": {},
   "source": [
    "### 2. Napište funkci color_convert(color) pro vzájemné převody barev z hexadecimálního #rrggbb formátu (kde xx = 00 až ff) do desítkového formátu rgb(RRR, GGG, BBB) (kde XXX = 0 až 255) a poměrového formátu RGB(R, G, B) (kde X = 0.0 až 1.0) a naopak. Vstupní zadání bude čteno z příkazové řádky při volání skriptu. Příklad:\n",
    "\n",
    "VSTUP: color_convert(\"#3465d9\")\n",
    "\n",
    "VÝSTUP: rgb(52, 101, 217) & RGB(0.203, 0.396, 0.850) \n",
    "\n",
    "\n",
    "VSTUP: color_convert(\"rgb(0, 0, 255)\")\n",
    "\n",
    "VÝSTUP: #0000ff & RGB(0, 0, 1)\n",
    "\n",
    "**HINT**: Jednotlivé zápisy mezi sebou tedy rozlišují řetězce # vs rgb() vs RGB(). Dejte si pozor na správný počet míst jednotlivých zápisů!"
   ]
  },
  {
   "cell_type": "code",
   "execution_count": null,
   "metadata": {
    "tags": [
     "solution"
    ]
   },
   "outputs": [],
   "source": [
    "def get_hex(trojce):\n",
    "    txt = '#'\n",
    "    for barva in trojce:\n",
    "        c = hex(barva)[2:]\n",
    "        if len(c) == 1:\n",
    "            txt += '0' + c\n",
    "        else:\n",
    "            txt += c\n",
    "    return txt\n",
    "\n",
    "\n",
    "def get_rgb(r, g, b):\n",
    "    return f'rgb({r}, {g}, {b})'\n",
    "\n",
    "\n",
    "def get_RGB(r, g, b):\n",
    "    # bez zaokrouhlení\n",
    "    return f'RGB({str(r/255)[:5]}, {str(g/255)[:5]}, {str(b/255)[:5]})'\n",
    "\n",
    "\n",
    "def color_convert(color):\n",
    "    if color.startswith('#'):\n",
    "        r = int(color[1:3], 16)\n",
    "        g = int(color[3:5], 16)\n",
    "        b = int(color[5:], 16)\n",
    "        return get_rgb(r, g, b), get_RGB(r, g, b)\n",
    "    elif color.startswith('rgb('):\n",
    "        t = [int(x) for x in color[4:-1].split(',')]\n",
    "        return get_hex(t), get_RGB(*t)\n",
    "    elif color.startswith('RGB('):\n",
    "        t = [int(x)*255 for x in color[4:-1].split(',')]\n",
    "        return get_hex(t), get_rgb(*t)"
   ]
  },
  {
   "cell_type": "code",
   "execution_count": null,
   "metadata": {},
   "outputs": [],
   "source": [
    "to_convert = \"#3465d9\"\n",
    "assert color_convert(\"#3465d9\") == (\n",
    "    'rgb(52, 101, 217)',\n",
    "    'RGB(0.203, 0.396, 0.850)',\n",
    ")\n",
    "assert color_convert(\"rgb(0, 0, 255)\") == ('#0000ff', 'RGB(0.0, 0.0, 1.0)')"
   ]
  },
  {
   "cell_type": "markdown",
   "metadata": {},
   "source": [
    "### 3. Python umí nativně zpracovávat celá čísla při nejrůznějších základech – např. dvojkově (prefix 0b), osmičkově (prefix 0o), desítkově (žádný prefix) nebo šestnáctkově (prefix 0x). Zapomeňte na chvíli na vestavěné funkce, které uvedenou konverzi provedou za vás, a napište funkci, která dostane list s řetězci představující celá čísla v některém z těchto základů a pro každé z nich provede konverzi do všech uvedených. Příklad:\n",
    "```\n",
    "VSTUP: ['4']\n",
    "VÝSTUP: [['0b100', '0o4', '4', '0x4']]\n",
    "\n",
    "VSTUP: ['10', '0o66']\n",
    "VÝSTUP: [['0b1010', '0o12', '10', 'oxa'],['0b110110', 0o66, '54' '0x36']]\n",
    "```\n",
    "**Poznámka**: Ve vašem kódu se tedy nesmí vyskytnout žádná z funkcí bin(), oct(), int() a hex() ^_~"
   ]
  },
  {
   "cell_type": "code",
   "execution_count": null,
   "metadata": {
    "tags": [
     "solution"
    ]
   },
   "outputs": [],
   "source": [
    "# náhrada za funkci int() pro základní čísla\n",
    "xd = {\n",
    "    '0': 0,\n",
    "    '1': 1,\n",
    "    '2': 2,\n",
    "    '3': 3,\n",
    "    '4': 4,\n",
    "    '5': 5,\n",
    "    '6': 6,\n",
    "    '7': 7,\n",
    "    '8': 8,\n",
    "    '9': 9,\n",
    "    'a': 10,\n",
    "    'b': 11,\n",
    "    'c': 12,\n",
    "    'd': 13,\n",
    "    'e': 14,\n",
    "    'f': 15,\n",
    "    'A': 10,\n",
    "    'B': 11,\n",
    "    'C': 12,\n",
    "    'D': 13,\n",
    "    'E': 14,\n",
    "    'F': 15,\n",
    "}\n",
    "\n",
    "\n",
    "def test_structure(xs, allowed):\n",
    "    \"\"\"Testuje, zda se 'xs' skládá pouze ze znaků vyjmenovaných v 'allowed'.\"\"\"\n",
    "    return [y for y in xs if y in allowed] != []\n",
    "\n",
    "\n",
    "def string_to(xs, base):\n",
    "    \"\"\"Převádí řetězec na celé číslo podle jeho základu.\"\"\"\n",
    "    x = 0\n",
    "    for i in range(len(xs)):\n",
    "        x += xd[xs[::-1][i]] * (base ** i)\n",
    "    return x\n",
    "\n",
    "\n",
    "class DecimalTo:\n",
    "    \"\"\"Převádí celé desítkové číslo na jeho dvojkovou, osmičkovou\n",
    "    a šestnáctkovou podobu.\"\"\"\n",
    "\n",
    "    def __init__(self, n):\n",
    "        self.binary = self._to_binary(n)\n",
    "        self.octal = self._to_octal(n)\n",
    "        self.decimal = n\n",
    "        self.hexa = self._to_hexa(n)\n",
    "\n",
    "    def _to_binary(self, n):\n",
    "        s = []\n",
    "        while n > 0:\n",
    "            s.append(str(n % 2))\n",
    "            n = n // 2\n",
    "            # print('DEBUG:', n, s)\n",
    "        return '0b' + ''.join(s[::-1])\n",
    "\n",
    "    def _to_octal(self, n):\n",
    "        s = []\n",
    "        while n > 0:\n",
    "            s.append(str(n % 8))\n",
    "            n = n // 8\n",
    "            # print('DEBUG:', n, s)\n",
    "        return '0o' + ''.join(s[::-1])\n",
    "\n",
    "    def _to_hexa(self, n):\n",
    "        s = []\n",
    "        while n > 0:\n",
    "            t = n % 16\n",
    "            s += {10: 'a', 11: 'b', 12: 'c', 13: 'd', 14: 'e', 15: 'f'}.get(\n",
    "                t, str(t)\n",
    "            )\n",
    "            n = n // 16\n",
    "            # print('DEBUG:', n, s)\n",
    "        return '0x' + ''.join(s[::-1])\n",
    "\n",
    "\n",
    "def unit_convert(xn):\n",
    "    def convert(x):\n",
    "        prefixed = len(x) > 2\n",
    "        if prefixed:\n",
    "            prefix, number = x[:2], x[2:]\n",
    "        if prefixed and prefix == '0b':\n",
    "            if not test_structure(number, '01'):\n",
    "                print('', 'zjevně není celé číslo v dvojkové soustavě')\n",
    "                return []\n",
    "            x = string_to(number, 2)\n",
    "        elif prefixed and prefix == '0o':\n",
    "            if not test_structure(number, '01234567'):\n",
    "                print('', 'zjevně není celé číslo v osmičkové soustavě')\n",
    "                return []\n",
    "            x = string_to(number, 8)\n",
    "        elif prefixed and prefix == '0x':\n",
    "            if not test_structure(number, '0123456789abcdefABCDEF'):\n",
    "                print('', 'zjevně není celé číslo v šestnáctkové soustavě')\n",
    "                return []\n",
    "            x = string_to(number, 16)\n",
    "        else:\n",
    "            if not test_structure(x, '0123456789'):\n",
    "                print('', 'zjevně není celé číslo v desítkové soustavě')\n",
    "                return []\n",
    "            x = string_to(x, 10)\n",
    "        d = DecimalTo(x)\n",
    "        return [d.binary, d.octal, d.decimal, d.hexa]\n",
    "\n",
    "    return [convert(x) for x in xn]"
   ]
  },
  {
   "cell_type": "code",
   "execution_count": null,
   "metadata": {},
   "outputs": [],
   "source": [
    "assert unit_convert(['10', '0o66']) == [\n",
    "    ['0b1010', '0o12', 10, '0xa'],\n",
    "    ['0b110110', '0o66', 54, '0x36'],\n",
    "]"
   ]
  }
 ],
 "metadata": {
  "celltoolbar": "Tags",
  "kernelspec": {
   "display_name": "Python 3 (ipykernel)",
   "language": "python",
   "name": "python3"
  },
  "language_info": {
   "codemirror_mode": {
    "name": "ipython",
    "version": 3
   },
   "file_extension": ".py",
   "mimetype": "text/x-python",
   "name": "python",
   "nbconvert_exporter": "python",
   "pygments_lexer": "ipython3",
   "version": "3.9.6"
  }
 },
 "nbformat": 4,
 "nbformat_minor": 4
}
