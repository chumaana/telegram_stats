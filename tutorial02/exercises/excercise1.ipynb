{
 "cells": [
  {
   "cell_type": "code",
   "execution_count": null,
   "metadata": {},
   "outputs": [],
   "source": [
    "# Vynucení kontroly souladu s PEP8\n",
    "!pip install flake8 pycodestyle pycodestyle_magic\n",
    "%load_ext pycodestyle_magic\n",
    "%pycodestyle_on"
   ]
  },
  {
   "cell_type": "markdown",
   "metadata": {},
   "source": [
    "# Hrátky s 'printem'"
   ]
  },
  {
   "cell_type": "markdown",
   "metadata": {},
   "source": [
    "### 1. Začněmež něčím jednodušším – pomocí print(\"\",end='\\r') a time.sleep() vytvořte počítadlo od 0 do 60, které bude uvedená čísla vypisovat stále na stejném místě obrazovky."
   ]
  },
  {
   "cell_type": "code",
   "execution_count": null,
   "metadata": {
    "tags": [
     "solution"
    ]
   },
   "outputs": [],
   "source": [
    "# TODO: Implement your solution."
   ]
  },
  {
   "cell_type": "markdown",
   "metadata": {},
   "source": [
    "### 2. Navažte na předchozí příklad a napište program, který bude na jednom a tom samém místě konzole vypisovat sekundové hodiny ve tvaru 00:00:00. Začněte počítat od nuly a až vám tohle bude chodit, zkuste další podúlohy:\n",
    "\n",
    "* 2. Program si od uživatele vyžádá vstup (input()) pro „aktuální“ čas, od kterého hodiny poběží, a čas budíku, na který se hodiny zastaví a vypíší text:\n",
    "\n",
    "\"Je čas vstávat\"\n",
    "\n",
    "* 3. Zopakujte úlohu a použijte objekt datetime.time, pokud jste tak již neučinili.\n",
    "\n",
    "* 4. Vezměte si aktuální čas ze systému.\n",
    "\n",
    "\n",
    "**HINT**: Výpis hodin do stále stejného místa se dá zařídit mnoha velmi rozdílnými způsoby – mazáním celé obrazovky, mazáním předchozích znaků, posouváním kurzoru… Pro rozšířené zadání vás bude zajímat modul datetime (má trochu složitější strukturu).\n",
    "\n",
    "Např. print(\"text\", end=\"\\r\")\n"
   ]
  },
  {
   "cell_type": "code",
   "execution_count": null,
   "metadata": {},
   "outputs": [],
   "source": [
    "from time import sleep\n",
    "import datetime"
   ]
  },
  {
   "cell_type": "code",
   "execution_count": null,
   "metadata": {
    "tags": [
     "solution"
    ]
   },
   "outputs": [],
   "source": [
    "# TODO: Implement your solution."
   ]
  },
  {
   "cell_type": "code",
   "execution_count": null,
   "metadata": {
    "tags": [
     "solution"
    ]
   },
   "outputs": [],
   "source": [
    "# TODO: Implement your solution."
   ]
  },
  {
   "cell_type": "code",
   "execution_count": null,
   "metadata": {
    "tags": [
     "solution"
    ]
   },
   "outputs": [],
   "source": [
    "# TODO: Implement your solution."
   ]
  },
  {
   "cell_type": "markdown",
   "metadata": {},
   "source": [
    "### 3. Vytvořte \"jezdící text\"\n",
    "\n"
   ]
  },
  {
   "cell_type": "code",
   "execution_count": null,
   "metadata": {},
   "outputs": [],
   "source": [
    "text = \"I love Python.\""
   ]
  },
  {
   "cell_type": "code",
   "execution_count": null,
   "metadata": {
    "tags": [
     "solution"
    ]
   },
   "outputs": [],
   "source": [
    "# TODO: Implement your solution."
   ]
  }
 ],
 "metadata": {
  "kernelspec": {
   "display_name": "Python 3 (ipykernel)",
   "language": "python",
   "name": "python3"
  },
  "language_info": {
   "codemirror_mode": {
    "name": "ipython",
    "version": 3
   },
   "file_extension": ".py",
   "mimetype": "text/x-python",
   "name": "python",
   "nbconvert_exporter": "python",
   "pygments_lexer": "ipython3",
   "version": "3.9.6"
  }
 },
 "nbformat": 4,
 "nbformat_minor": 4
}
