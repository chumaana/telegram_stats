{
 "cells": [
  {
   "cell_type": "code",
   "execution_count": null,
   "metadata": {},
   "outputs": [],
   "source": [
    "# Vynucení kontroly souladu s PEP8\n",
    "!pip install flake8 pycodestyle pycodestyle_magic\n",
    "%load_ext pycodestyle_magic\n",
    "%pycodestyle_on"
   ]
  },
  {
   "cell_type": "markdown",
   "metadata": {},
   "source": [
    "# Příklady na čísla"
   ]
  },
  {
   "cell_type": "markdown",
   "metadata": {},
   "source": [
    "### 1. Napište program pro výpis zadaného počtu řádků Pascalova trojúhelníku. Počet řádků si program vyžádá na vstupu od uživatele. Výstup by měl být správně graficky uspořádán. Příklad výstupu pro pět řádek:\n",
    "\n",
    "           1\n",
    "          1 1\n",
    "         1 2 1\n",
    "        1 3 3 1\n",
    "       1 4 6 4 1\n",
    "\n",
    "**HINT**: Nevíte-li rovnou, jak řešit uspořádání, vyřešte úlohu nejdříve tak, aby psala správné koeficienty, a teprve poté se zabývejte správným zarovnáním jednotlivých řádek.\n"
   ]
  },
  {
   "cell_type": "code",
   "execution_count": null,
   "metadata": {
    "tags": [
     "solution"
    ]
   },
   "outputs": [],
   "source": [
    "# TODO: Implement your solution."
   ]
  },
  {
   "cell_type": "markdown",
   "metadata": {},
   "source": [
    "### 2. Napište funkci color_convert(color) pro vzájemné převody barev z hexadecimálního #rrggbb formátu (kde xx = 00 až ff) do desítkového formátu rgb(RRR, GGG, BBB) (kde XXX = 0 až 255) a poměrového formátu RGB(R, G, B) (kde X = 0.0 až 1.0) a naopak. Vstupní zadání bude čteno z příkazové řádky při volání skriptu. Příklad:\n",
    "\n",
    "VSTUP: color_convert(\"#3465d9\")\n",
    "\n",
    "VÝSTUP: rgb(52, 101, 217) & RGB(0.203, 0.396, 0.850) \n",
    "\n",
    "\n",
    "VSTUP: color_convert(\"rgb(0, 0, 255)\")\n",
    "\n",
    "VÝSTUP: #0000ff & RGB(0, 0, 1)\n",
    "\n",
    "**HINT**: Jednotlivé zápisy mezi sebou tedy rozlišují řetězce # vs rgb() vs RGB(). Dejte si pozor na správný počet míst jednotlivých zápisů!"
   ]
  },
  {
   "cell_type": "code",
   "execution_count": null,
   "metadata": {
    "tags": [
     "solution"
    ]
   },
   "outputs": [],
   "source": [
    "# TODO: Implement your solution."
   ]
  },
  {
   "cell_type": "code",
   "execution_count": null,
   "metadata": {},
   "outputs": [],
   "source": [
    "to_convert = \"#3465d9\"\n",
    "assert color_convert(\"#3465d9\") == (\n",
    "    'rgb(52, 101, 217)',\n",
    "    'RGB(0.203, 0.396, 0.850)',\n",
    ")\n",
    "assert color_convert(\"rgb(0, 0, 255)\") == ('#0000ff', 'RGB(0.0, 0.0, 1.0)')"
   ]
  },
  {
   "cell_type": "markdown",
   "metadata": {},
   "source": [
    "### 3. Python umí nativně zpracovávat celá čísla při nejrůznějších základech – např. dvojkově (prefix 0b), osmičkově (prefix 0o), desítkově (žádný prefix) nebo šestnáctkově (prefix 0x). Zapomeňte na chvíli na vestavěné funkce, které uvedenou konverzi provedou za vás, a napište funkci, která dostane list s řetězci představující celá čísla v některém z těchto základů a pro každé z nich provede konverzi do všech uvedených. Příklad:\n",
    "```\n",
    "VSTUP: ['4']\n",
    "VÝSTUP: [['0b100', '0o4', '4', '0x4']]\n",
    "\n",
    "VSTUP: ['10', '0o66']\n",
    "VÝSTUP: [['0b1010', '0o12', '10', 'oxa'],['0b110110', 0o66, '54' '0x36']]\n",
    "```\n",
    "**Poznámka**: Ve vašem kódu se tedy nesmí vyskytnout žádná z funkcí bin(), oct(), int() a hex() ^_~"
   ]
  },
  {
   "cell_type": "code",
   "execution_count": null,
   "metadata": {
    "tags": [
     "solution"
    ]
   },
   "outputs": [],
   "source": [
    "# TODO: Implement your solution."
   ]
  },
  {
   "cell_type": "code",
   "execution_count": null,
   "metadata": {},
   "outputs": [],
   "source": [
    "assert unit_convert(['10', '0o66']) == [\n",
    "    ['0b1010', '0o12', 10, '0xa'],\n",
    "    ['0b110110', '0o66', 54, '0x36'],\n",
    "]"
   ]
  }
 ],
 "metadata": {
  "kernelspec": {
   "display_name": "Python 3 (ipykernel)",
   "language": "python",
   "name": "python3"
  },
  "language_info": {
   "codemirror_mode": {
    "name": "ipython",
    "version": 3
   },
   "file_extension": ".py",
   "mimetype": "text/x-python",
   "name": "python",
   "nbconvert_exporter": "python",
   "pygments_lexer": "ipython3",
   "version": "3.9.6"
  }
 },
 "nbformat": 4,
 "nbformat_minor": 4
}
