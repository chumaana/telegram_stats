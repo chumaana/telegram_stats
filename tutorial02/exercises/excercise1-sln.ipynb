{
 "cells": [
  {
   "cell_type": "code",
   "execution_count": null,
   "metadata": {},
   "outputs": [],
   "source": [
    "# Vynucení kontroly souladu s PEP8\n",
    "!pip install flake8 pycodestyle pycodestyle_magic\n",
    "%load_ext pycodestyle_magic\n",
    "%pycodestyle_on"
   ]
  },
  {
   "cell_type": "markdown",
   "metadata": {},
   "source": [
    "# Hrátky s 'printem'"
   ]
  },
  {
   "cell_type": "markdown",
   "metadata": {},
   "source": [
    "### 1. Začněmež něčím jednodušším – pomocí print(\"\",end='\\r') a time.sleep() vytvořte počítadlo od 0 do 60, které bude uvedená čísla vypisovat stále na stejném místě obrazovky."
   ]
  },
  {
   "cell_type": "code",
   "execution_count": null,
   "metadata": {
    "tags": [
     "solution"
    ]
   },
   "outputs": [],
   "source": [
    "from time import sleep\n",
    "\n",
    "i = 0\n",
    "while i <= 60:\n",
    "    print(\"{}\".format(i), end=\"\\r\")\n",
    "    sleep(1)\n",
    "    i += 1"
   ]
  },
  {
   "cell_type": "markdown",
   "metadata": {},
   "source": [
    "### 2. Navažte na předchozí příklad a napište program, který bude na jednom a tom samém místě konzole vypisovat sekundové hodiny ve tvaru 00:00:00. Začněte počítat od nuly a až vám tohle bude chodit, zkuste další podúlohy:\n",
    "\n",
    "* 2. Program si od uživatele vyžádá vstup (input()) pro „aktuální“ čas, od kterého hodiny poběží, a čas budíku, na který se hodiny zastaví a vypíší text:\n",
    "\n",
    "\"Je čas vstávat\"\n",
    "\n",
    "* 3. Zopakujte úlohu a použijte objekt datetime.time, pokud jste tak již neučinili.\n",
    "\n",
    "* 4. Vezměte si aktuální čas ze systému.\n",
    "\n",
    "\n",
    "**HINT**: Výpis hodin do stále stejného místa se dá zařídit mnoha velmi rozdílnými způsoby – mazáním celé obrazovky, mazáním předchozích znaků, posouváním kurzoru… Pro rozšířené zadání vás bude zajímat modul datetime (má trochu složitější strukturu).\n",
    "\n",
    "Např. print(\"text\", end=\"\\r\")\n"
   ]
  },
  {
   "cell_type": "code",
   "execution_count": null,
   "metadata": {},
   "outputs": [],
   "source": [
    "from time import sleep\n",
    "import datetime"
   ]
  },
  {
   "cell_type": "code",
   "execution_count": null,
   "metadata": {
    "tags": [
     "solution"
    ]
   },
   "outputs": [],
   "source": [
    "# 1\n",
    "i = 0\n",
    "while True:\n",
    "    hours = (i//(60*60)) % 24\n",
    "    mins = (i//(60)) % 60\n",
    "    seconds = i % 60\n",
    "    print(f\"{hours:02d}:{mins:02d}:{seconds:02d}\", end=\"\\r\")\n",
    "    sleep(1)\n",
    "    i += 1"
   ]
  },
  {
   "cell_type": "code",
   "execution_count": null,
   "metadata": {
    "tags": [
     "solution"
    ]
   },
   "outputs": [],
   "source": [
    "# 2 + 3\n",
    "time_hour, time_minute, time_second = (\n",
    "    int(x)\n",
    "    for x in input(\"Zadejte cas ve formatu HH:MM:SS\").split(\":\")\n",
    ")\n",
    "alarm_hour, alarm_minute, alarm_second = (\n",
    "    int(x)\n",
    "    for x in input(\"Zadejte cas budíku ve formatu HH:MM:SS\").split(\":\")\n",
    ")\n",
    "\n",
    "time = datetime.time(\n",
    "    hour=time_hour,\n",
    "    minute=time_minute,\n",
    "    second=time_second,\n",
    ")\n",
    "alarm_time = datetime.time(\n",
    "    hour=alarm_hour,\n",
    "    minute=alarm_minute,\n",
    "    second=alarm_second,\n",
    ")\n",
    "date_time = datetime.datetime.combine(\n",
    "    datetime.datetime.today(),\n",
    "    time,\n",
    ")\n",
    "alarm_date_time = datetime.datetime.combine(\n",
    "    datetime.datetime.today(),\n",
    "    alarm_time,\n",
    ")\n",
    "while date_time != alarm_date_time:\n",
    "    date_time = date_time + datetime.timedelta(seconds=1)\n",
    "    print(date_time.time().strftime(\"%H:%M:%S\"), end=\"\\r\")\n",
    "    sleep(1)\n",
    "\n",
    "print(\"Je čas vstávat\")"
   ]
  },
  {
   "cell_type": "code",
   "execution_count": null,
   "metadata": {
    "tags": [
     "solution"
    ]
   },
   "outputs": [],
   "source": [
    "# 4.\n",
    "date_time = datetime.datetime.now()\n",
    "while True:\n",
    "    date_time = date_time + datetime.timedelta(seconds=1)\n",
    "    print(date_time.time().strftime(\"%H:%M:%S\"), end=\"\\r\")\n",
    "    sleep(1)"
   ]
  },
  {
   "cell_type": "markdown",
   "metadata": {},
   "source": [
    "### 3. Vytvořte \"jezdící text\"\n",
    "\n"
   ]
  },
  {
   "cell_type": "code",
   "execution_count": null,
   "metadata": {},
   "outputs": [],
   "source": [
    "text = \"I love Python.\""
   ]
  },
  {
   "cell_type": "code",
   "execution_count": null,
   "metadata": {
    "tags": [
     "solution"
    ]
   },
   "outputs": [],
   "source": [
    "from time import sleep\n",
    "\n",
    "def rotate(strg, n):\n",
    "    return strg[n:] + strg[:n]\n",
    "\n",
    "text_extended = text\n",
    "\n",
    "while True:\n",
    "    text_extended = rotate(text_extended,1)\n",
    "    print(text_extended[0:len(text)], end=\"\\r\")\n",
    "    sleep(0.1)"
   ]
  }
 ],
 "metadata": {
  "celltoolbar": "Tags",
  "kernelspec": {
   "display_name": "Python 3 (ipykernel)",
   "language": "python",
   "name": "python3"
  },
  "language_info": {
   "codemirror_mode": {
    "name": "ipython",
    "version": 3
   },
   "file_extension": ".py",
   "mimetype": "text/x-python",
   "name": "python",
   "nbconvert_exporter": "python",
   "pygments_lexer": "ipython3",
   "version": "3.9.6"
  }
 },
 "nbformat": 4,
 "nbformat_minor": 4
}
