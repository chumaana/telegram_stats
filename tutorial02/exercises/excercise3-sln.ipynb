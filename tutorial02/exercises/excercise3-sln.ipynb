{
 "cells": [
  {
   "cell_type": "code",
   "execution_count": null,
   "metadata": {},
   "outputs": [],
   "source": [
    "# Vynucení kontroly souladu s PEP8\n",
    "!pip install flake8 pycodestyle pycodestyle_magic\n",
    "%load_ext pycodestyle_magic\n",
    "%pycodestyle_on"
   ]
  },
  {
   "cell_type": "markdown",
   "metadata": {},
   "source": [
    "# Procvičování – hrátky s čísly\n",
    "### 1.  Hrátky s (celými) čísly – zkuste vyřešit následující úlohy:\n",
    "* Sečtěte zadanou posloupnost celých čísel.\n",
    "* Zapište zadané číslo pozpátku.\n",
    "* Zjistěte ciferný součet zadaného čísla.\n",
    "* Spočítejte faktoriál zadaného čísla.\n",
    "* Spočtěte prvních n členů Fibonacciho posloupnosti.\n",
    "\n",
    "**HINT**:range(), výřezová notace [:], dělení deseti, převod na řetězec…\n",
    "\n"
   ]
  },
  {
   "cell_type": "code",
   "execution_count": null,
   "metadata": {
    "tags": [
     "solution"
    ]
   },
   "outputs": [],
   "source": [
    "# a)\n",
    "sum(list(range(10)))\n",
    "\n",
    "# b)\n",
    "int(str(1234)[::-1])\n",
    "\n",
    "# c)\n",
    "sum([int(i) for i in str(1234)])\n",
    "\n",
    "# d)\n",
    "\n",
    "# e)"
   ]
  },
  {
   "cell_type": "markdown",
   "metadata": {},
   "source": [
    "### 2. „3n+1 problém“: Vezměte libovolné přirozené číslo n a aplikujte na něj následující algoritmus:\n",
    "* Je-li n sudé, pak nové n = n // 2.\n",
    "* Je-li n liché, pak nové n = 3 * n + 1.\n",
    "Během výpočtu vypisujte čísla, která nacházíte, a počítejte, jak dlouho trvá, než se dostanete do jedničky.\n",
    "\n",
    "**HINT**: Dosud nevyřešený problém známý též pod jmény Collatzův, Ulamův, Syrakuský…\n",
    "\n"
   ]
  },
  {
   "cell_type": "code",
   "execution_count": null,
   "metadata": {
    "tags": [
     "solution"
    ]
   },
   "outputs": [],
   "source": [
    "def collatz(x):\n",
    "\n",
    "    def step(x):\n",
    "        if x % 2 == 0:\n",
    "            return x // 2\n",
    "        else:\n",
    "            return 3 * x + 1\n",
    "\n",
    "    counter = 0\n",
    "    while x != 1:\n",
    "        x = step(x)\n",
    "        counter += 1\n",
    "    return counter\n",
    "\n",
    "\n",
    "for x in range(1, 100):\n",
    "    print(x, ':', collatz(x))"
   ]
  },
  {
   "cell_type": "markdown",
   "metadata": {},
   "source": [
    "### 3. Zkuste naimplementovat vyhledávání prvočísel pomocí Eratosthenova síta:\n",
    "\n",
    "* připravte seznam \\[2, 3, 4, …, MAX\\];\n",
    "* odstraňte ze seznamu první prvek zleva – je to prvočíslo;\n",
    "* odstraňte ze seznamu všechny násobky prvku odstraněného v předchozím kroku;\n",
    "* opakujte kroky 2+3 tak dlouho, dokud je ze seznamu co odstraňovat nebo dokud není prvočíslo z kroku 2 větší než √MAX.\n",
    "\n",
    "**HINT**: range(), list.append()\n",
    "\n",
    "**HINT2**: pracujte s polem bool hodnot"
   ]
  },
  {
   "cell_type": "code",
   "execution_count": null,
   "metadata": {
    "tags": [
     "solution"
    ]
   },
   "outputs": [],
   "source": [
    "def erathsen_sieve(limit):\n",
    "    primes = []\n",
    "    a = [True] * limit                          # Initialize the primality list\n",
    "    a[0] = a[1] = False\n",
    "\n",
    "    for (i, isprime) in enumerate(a):\n",
    "        if isprime:\n",
    "            primes.append(i)\n",
    "            for n in range(i*i, limit, i):     # Mark factors non-prime\n",
    "                a[n] = False\n",
    "    return primes"
   ]
  }
 ],
 "metadata": {
  "celltoolbar": "Tags",
  "kernelspec": {
   "display_name": "Python 3 (ipykernel)",
   "language": "python",
   "name": "python3"
  },
  "language_info": {
   "codemirror_mode": {
    "name": "ipython",
    "version": 3
   },
   "file_extension": ".py",
   "mimetype": "text/x-python",
   "name": "python",
   "nbconvert_exporter": "python",
   "pygments_lexer": "ipython3",
   "version": "3.9.6"
  }
 },
 "nbformat": 4,
 "nbformat_minor": 4
}
