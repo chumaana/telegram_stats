{
 "cells": [
  {
   "cell_type": "markdown",
   "metadata": {},
   "source": [
    "# Dekorátory"
   ]
  },
  {
   "cell_type": "code",
   "execution_count": null,
   "metadata": {},
   "outputs": [],
   "source": [
    "# Vynucení kontroly souladu s PEP8\n",
    "!pip install flake8 pycodestyle pycodestyle_magic\n",
    "%load_ext pycodestyle_magic\n",
    "%pycodestyle_on"
   ]
  },
  {
   "cell_type": "markdown",
   "metadata": {},
   "source": [
    "### 1. Vytvořte dekorátor, který při zavolání funkce vypíše (na konzoli) jméno volané funkce, přehled vstupních parametrů a celkový čas, který byl potřeba k jejímu vykonání.\n",
    "\n",
    "**Hint:** Čas můžete změřit pomocí metody `time.time()` – ta vrací čas v sekundách od začátku epochy v okamžiku svého zavolání."
   ]
  },
  {
   "cell_type": "code",
   "execution_count": null,
   "metadata": {
    "tags": [
     "solution"
    ]
   },
   "outputs": [],
   "source": [
    "# TODO: Implement your solution."
   ]
  },
  {
   "cell_type": "code",
   "execution_count": null,
   "metadata": {},
   "outputs": [],
   "source": [
    "@info\n",
    "def fn1(a, b, zaokrouhlení=None):\n",
    "    výsledek = a**b\n",
    "    return výsledek\n",
    "\n",
    "\n",
    "print(' fn1(3, 4) ')\n",
    "fn1(3, 4)\n",
    "print(' fn1(3, 4, zaokrouhlení=\"test\") ')\n",
    "fn1(3, 4, zaokrouhlení=\"test\")\n",
    "\n",
    "\n",
    "@info\n",
    "def fn2(a, b, zaokrouhlení=None):\n",
    "    import time\n",
    "    time.sleep(3)\n",
    "    výsledek = a**b\n",
    "    return výsledek\n",
    "\n",
    "\n",
    "print(' fn2(3, 4) ')\n",
    "fn2(3, 4)\n",
    "print(' fn2(3, 4, zaokrouhlení=\"testík\") ')\n",
    "fn2(3, 4, zaokrouhlení=\"testík\")"
   ]
  },
  {
   "cell_type": "markdown",
   "metadata": {},
   "source": [
    "### 2. Vytvořte dekorátor, který volané funkci pošle vstupní poziční parametry v opačném pořadí, než byly zadány.\n",
    "\n",
    "**Hint:** Nezapomeňte cestou na pojmenované argumenty."
   ]
  },
  {
   "cell_type": "code",
   "execution_count": null,
   "metadata": {
    "tags": [
     "solution"
    ]
   },
   "outputs": [],
   "source": [
    "# TODO: Implement your solution."
   ]
  },
  {
   "cell_type": "code",
   "execution_count": null,
   "metadata": {},
   "outputs": [],
   "source": [
    "@reverse_args\n",
    "def fn(a, b, c):\n",
    "    return a, b, c\n",
    "\n",
    "\n",
    "xs = 3, 4, 5\n",
    "print(xs, '=>', fn(*xs))\n",
    "xs = 'a', 'b', 'c'\n",
    "print(xs, '=>', fn(*xs))"
   ]
  },
  {
   "cell_type": "markdown",
   "metadata": {},
   "source": [
    "### 3. Vytvořte dekorátor, který pro funkci, jejíž výstupní hodnotou bude seznam, vrátí tento seznam seřazený.\n",
    "\n",
    "**Hint:** Uvažujte implicitní řazení `sorted()`."
   ]
  },
  {
   "cell_type": "code",
   "execution_count": null,
   "metadata": {
    "tags": [
     "solution"
    ]
   },
   "outputs": [],
   "source": [
    "# TODO: Implement your solution."
   ]
  },
  {
   "cell_type": "code",
   "execution_count": null,
   "metadata": {},
   "outputs": [],
   "source": [
    "@sort_return_list\n",
    "def fn(xs):\n",
    "    return xs\n",
    "\n",
    "\n",
    "xs = (3, 5, 4)\n",
    "print(xs, '=>', fn(xs))\n",
    "xs = [3, 5, 4]\n",
    "print(xs, '=>', fn(xs))\n",
    "\n",
    "xs = {'c', 'b', 'a'}\n",
    "print(xs, '=>', fn(xs))\n",
    "xs = ['c', 'b', 'a']\n",
    "print(xs, '=>', fn(xs))"
   ]
  },
  {
   "cell_type": "markdown",
   "metadata": {},
   "source": [
    "### 4. Upravte předchozí dekorátor tak, aby na svém vstupu přebíral předpis pro třídění. Tj. jedná se o dekorátor s parametrem, kterým je hodnota parametru key pro funkci sorted().\n",
    "\n",
    "**Hint:** Jedná se tedy vlastně o dva dekorátory zanořené v sobě (podívejte se do přednášek), kde ten vnější z nich přebírá příslušnou hodnotu pro atribut key (buď odkaz na existující funkci nebo přímo vlastní lambda-funkci) a teprve druhý, vnitřní vlastní dekorovanou funkci."
   ]
  },
  {
   "cell_type": "code",
   "execution_count": null,
   "metadata": {
    "tags": [
     "solution"
    ]
   },
   "outputs": [],
   "source": [
    "# TODO: Implement your solution."
   ]
  },
  {
   "cell_type": "code",
   "execution_count": null,
   "metadata": {},
   "outputs": [],
   "source": [
    "@sort_return_list_with_key(lambda x: x[0])\n",
    "def fn1(xs):\n",
    "    return xs\n",
    "\n",
    "\n",
    "@sort_return_list_with_key(lambda x: x[1])\n",
    "def fn2(xs):\n",
    "    return xs\n",
    "\n",
    "\n",
    "xs = [(1, 3), (2, 2), (3, 1)]\n",
    "print(xs, '=>', fn1(xs))\n",
    "print(xs, '=>', fn2(xs))\n",
    "\n",
    "xs = {(1, 3), (2, 2), (3, 1)}\n",
    "print(xs, '=>', fn1(xs))\n",
    "print(xs, '=>', fn2(xs))"
   ]
  },
  {
   "cell_type": "markdown",
   "metadata": {},
   "source": [
    "### 5. Vytvořte dekorátor, který pro funkci vracející fragmenty HTML odstraní z tohoto řetězce veškeré formátovací značky.\n",
    "\n",
    "Tj. například pro vstup `<p class='test'>ahojte</p>` vrátí `ahojte`.\n",
    "\n",
    "**Hint**: Modul `re`."
   ]
  },
  {
   "cell_type": "code",
   "execution_count": null,
   "metadata": {
    "tags": [
     "solution"
    ]
   },
   "outputs": [],
   "source": [
    "# TODO: Implement your solution."
   ]
  },
  {
   "cell_type": "code",
   "execution_count": null,
   "metadata": {},
   "outputs": [],
   "source": [
    "@dehtmlize\n",
    "def fn(xs):\n",
    "    return xs\n",
    "\n",
    "\n",
    "xs = (3, 5, 4)\n",
    "print(xs, '=>', fn(xs))\n",
    "xs = {3, 5, 4}\n",
    "print(xs, '=>', fn(xs))\n",
    "xs = \"Ahoj, světe!\"\n",
    "print(xs, '=>', fn(xs))\n",
    "xs = \"<span class='baf'>Ahoj</span>, <em>světe</em>!\"\n",
    "print(xs, '=>', fn(xs))\n",
    "xs = \"<span class=\\\"baf\\\">Ahoj</span>, <em>s<u>věte</u>!</em>\"\n",
    "print(xs, '=>', fn(xs))"
   ]
  }
 ],
 "metadata": {
  "kernelspec": {
   "display_name": "Python 3 (ipykernel)",
   "language": "python",
   "name": "python3"
  },
  "language_info": {
   "codemirror_mode": {
    "name": "ipython",
    "version": 3
   },
   "file_extension": ".py",
   "mimetype": "text/x-python",
   "name": "python",
   "nbconvert_exporter": "python",
   "pygments_lexer": "ipython3",
   "version": "3.9.6"
  }
 },
 "nbformat": 4,
 "nbformat_minor": 4
}
