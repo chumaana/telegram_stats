{
 "cells": [
  {
   "cell_type": "markdown",
   "metadata": {},
   "source": [
    "# Množiny (sets)"
   ]
  },
  {
   "cell_type": "code",
   "execution_count": null,
   "metadata": {},
   "outputs": [],
   "source": [
    "# Vynucení kontroly souladu s PEP8\n",
    "!pip install flake8 pycodestyle pycodestyle_magic\n",
    "%load_ext pycodestyle_magic\n",
    "%pycodestyle_on"
   ]
  },
  {
   "cell_type": "markdown",
   "metadata": {},
   "source": [
    "## Definice"
   ]
  },
  {
   "cell_type": "code",
   "execution_count": null,
   "metadata": {},
   "outputs": [],
   "source": [
    "# chlupaté závorky {elem}\n",
    "set1 = {1, 2, 3, 3}\n",
    "print(set1)\n",
    "\n",
    "# ! prázdné chlupaté závorky vytváří slovník {}\n",
    "print(type({}))\n",
    "\n",
    "# konstruktor zabudované třídy set\n",
    "set2 = set([1, 2, 3, 3])\n",
    "print(set2)"
   ]
  },
  {
   "cell_type": "markdown",
   "metadata": {},
   "source": [
    "## Množinové operace"
   ]
  },
  {
   "cell_type": "code",
   "execution_count": null,
   "metadata": {},
   "outputs": [],
   "source": [
    "a = {1, 2, 3}\n",
    "\n",
    "b = {3, 4, 5}\n",
    "\n",
    "# průnik\n",
    "print(a & b)\n",
    "print(a.intersection(b))\n",
    "print(a.intersection([3, 4, 5]))\n",
    "\n",
    "# sjednocení\n",
    "print(a | b)\n",
    "print(a.union(b))\n",
    "\n",
    "# doplněk\n",
    "print(a - b)\n",
    "print(a.difference(b))\n",
    "\n",
    "# XOR\n",
    "print(a ^ b)\n",
    "print(a.symmetric_difference(b))"
   ]
  },
  {
   "cell_type": "markdown",
   "metadata": {},
   "source": [
    "## Porovnání"
   ]
  },
  {
   "cell_type": "code",
   "execution_count": null,
   "metadata": {},
   "outputs": [],
   "source": [
    "a = {1, 2, 3}\n",
    "b = {1, 2, 3}\n",
    "\n",
    "# hodnoty\n",
    "print(a == b)\n",
    "# id\n",
    "print(id(a) == id(b))\n",
    "# ! id jsou unikátní po dobu existence objektu,\n",
    "# poté mohou být přiřazené jinému objektu\n",
    "print(id({2, 3}) == id({2, 3}))\n",
    "\n",
    "# prvek v množině\n",
    "print(2 in a)\n",
    "print(2 not in a)"
   ]
  },
  {
   "cell_type": "markdown",
   "metadata": {},
   "source": [
    "# Slovníky (dict)"
   ]
  },
  {
   "cell_type": "markdown",
   "metadata": {},
   "source": [
    "## Definice"
   ]
  },
  {
   "cell_type": "code",
   "execution_count": null,
   "metadata": {},
   "outputs": [],
   "source": [
    "# chlupaté závorky {key : value}\n",
    "d1 = {'a': 1, 'b': 2}\n",
    "print(d1)\n",
    "\n",
    "# konstruktor zabudované třídy dict\n",
    "d2 = dict([('a', 1), (2, 2)])\n",
    "print(d2)\n",
    "\n",
    "# klíče musí být hashable\n",
    "print({[2]: 2})"
   ]
  },
  {
   "cell_type": "markdown",
   "metadata": {},
   "source": [
    "## Přístup k prvkům"
   ]
  },
  {
   "cell_type": "code",
   "execution_count": null,
   "metadata": {},
   "outputs": [],
   "source": [
    "d1 = {'a': 1, 'b': 2, 1: 3}\n",
    "\n",
    "# indexace pomocí hranatých závorek\n",
    "# ! index u slovníku není pozice ale hodnota klíče\n",
    "print(d1['a'])\n",
    "print(d1[1])\n",
    "print(d1[0])  # chyba"
   ]
  },
  {
   "cell_type": "markdown",
   "metadata": {},
   "source": [
    "### Všechny prvky"
   ]
  },
  {
   "cell_type": "code",
   "execution_count": null,
   "metadata": {},
   "outputs": [],
   "source": [
    "print(d1.items())\n",
    "for k, v in d1.items():\n",
    "    print(k, v)\n",
    "\n",
    "print(d1.values())\n",
    "\n",
    "print(d1.keys())"
   ]
  },
  {
   "cell_type": "markdown",
   "metadata": {},
   "source": [
    "## Update"
   ]
  },
  {
   "cell_type": "code",
   "execution_count": null,
   "metadata": {},
   "outputs": [],
   "source": [
    "d2 = {'a': 1, 'b': 2}\n",
    "print(d2)\n",
    "d2['c'] = 3\n",
    "print(d2)"
   ]
  }
 ],
 "metadata": {
  "kernelspec": {
   "display_name": "Python 3 (ipykernel)",
   "language": "python",
   "name": "python3"
  },
  "language_info": {
   "codemirror_mode": {
    "name": "ipython",
    "version": 3
   },
   "file_extension": ".py",
   "mimetype": "text/x-python",
   "name": "python",
   "nbconvert_exporter": "python",
   "pygments_lexer": "ipython3",
   "version": "3.9.6"
  }
 },
 "nbformat": 4,
 "nbformat_minor": 4
}
