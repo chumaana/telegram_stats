{
 "cells": [
  {
   "cell_type": "markdown",
   "metadata": {},
   "source": [
    "# Argumenty a funkce"
   ]
  },
  {
   "cell_type": "code",
   "execution_count": null,
   "metadata": {},
   "outputs": [],
   "source": [
    "# Vynucení kontroly souladu s PEP8\n",
    "!pip install flake8 pycodestyle pycodestyle_magic\n",
    "%load_ext pycodestyle_magic\n",
    "%pycodestyle_on"
   ]
  },
  {
   "cell_type": "markdown",
   "metadata": {},
   "source": [
    "### 1. Napište funkci, která připojí všechna kladná čísla z jednoho seznamu na konec druhého předaného seznamu a vrátí upravený seznam.\n",
    "\n",
    "Operaci provádějte _inplace_, tj. upravujte druhý předaný seznam.\n",
    "\n",
    "Druhý seznam bude **volitelný parametr**, který bude mít jako výchozí hodnotu *prázdný seznam* (pokud není zadán).\n",
    "\n",
    "__Hint__: Pozor na výchozí argumenty, které jsou _mutable_."
   ]
  },
  {
   "cell_type": "code",
   "execution_count": null,
   "metadata": {
    "tags": [
     "solution"
    ]
   },
   "outputs": [],
   "source": [
    "# TODO: Implement your solution."
   ]
  },
  {
   "cell_type": "code",
   "execution_count": null,
   "metadata": {},
   "outputs": [],
   "source": [
    "print(append_positive_inplace([-1, 1, 2, -3]))  # [1, 2]\n",
    "print(append_positive_inplace([1, 5, -5], [10, 20]))  # [10, 20, 1, 5]\n",
    "print(append_positive_inplace([-2, 2, 4]))  # [2, 4]"
   ]
  },
  {
   "cell_type": "markdown",
   "metadata": {},
   "source": [
    "### 2. Napište funkci, která sčítá čísla na stejných pozicích v předaných seznamech.\n",
    "\n",
    "Funkce bude příjmat jako argumenty libovolný počet číselných seznamů a vracet seznam součtů. Pokud mají seznamy různou délku, doplňte všechny kratší seznamy nulami.\n",
    "\n",
    "**Hint**: `zip()`"
   ]
  },
  {
   "cell_type": "code",
   "execution_count": null,
   "metadata": {
    "tags": [
     "solution"
    ]
   },
   "outputs": [],
   "source": [
    "# TODO: Implement your solution."
   ]
  },
  {
   "cell_type": "code",
   "execution_count": null,
   "metadata": {
    "scrolled": true,
    "tags": []
   },
   "outputs": [],
   "source": [
    "print(sum_iterables([1, 2, 3], [4, 5, 6]))  # [5, 7, 9]\n",
    "print(sum_iterables([1, 2, 3], [4, 5, 6], [1, 1, 1]))  # [6, 8, 10]\n",
    "print(sum_iterables([1, 2, 3], [10], [0, 5], []))  # [11, 7, 3]"
   ]
  },
  {
   "cell_type": "markdown",
   "metadata": {},
   "source": [
    "### 3. Zobecněte příklad 2. aby bylo možno operaci nad prvky seznamu předat parametrem jako funkci\n",
    "\n",
    "Zároveň zaveďte volitelný parametr pro _padding_, kterým se budou doplňovat kratší seznamy.\n",
    "\n",
    "**Hint**: Většina kódu by měla zůstat stejná. Pouze parametrizujte existující funkci."
   ]
  },
  {
   "cell_type": "code",
   "execution_count": null,
   "metadata": {
    "tags": [
     "solution"
    ]
   },
   "outputs": [],
   "source": [
    "# TODO: Implement your solution."
   ]
  },
  {
   "cell_type": "code",
   "execution_count": null,
   "metadata": {},
   "outputs": [],
   "source": [
    "print(\n",
    "    merge_iterables(\n",
    "        [1, 2, 3],\n",
    "        [4, 5, 6],\n",
    "        [1, 1, 1],\n",
    "        op=sum,\n",
    "    ),\n",
    ")  # [6, 8, 10])\n",
    "\n",
    "print(\n",
    "    merge_iterables(\n",
    "        [1, 2, 3],\n",
    "        [10],\n",
    "        [0, 5],\n",
    "        [],\n",
    "        op=sum,\n",
    "        padding=[0],\n",
    "    )\n",
    ")  # [11, 7, 3]\n",
    "\n",
    "print(\n",
    "    merge_iterables(\n",
    "        \"FBBX\",\n",
    "        \"oaao\",\n",
    "        \"orz\",\n",
    "        op=lambda x: ''.join(x), padding=\"_\",\n",
    "    )\n",
    ")  # ['Foo', 'Bar', 'Baz', 'Xo_']"
   ]
  },
  {
   "cell_type": "markdown",
   "metadata": {},
   "source": [
    "### 4. Napište funkci, která vrací složení funkcí.\n",
    "\n",
    "Funkce bude brát libovolný počet funkcí jako argumenty a bude vracet funkci, která bude jejich složením v pořadí, ve kterém jsou uvedeny.\n",
    "\n",
    "Příklad: `compose(f, g, h) -> h(g(f(x)))`"
   ]
  },
  {
   "cell_type": "code",
   "execution_count": null,
   "metadata": {
    "tags": [
     "solution"
    ]
   },
   "outputs": [],
   "source": [
    "# TODO: Implement your solution."
   ]
  },
  {
   "cell_type": "code",
   "execution_count": null,
   "metadata": {},
   "outputs": [],
   "source": [
    "import math\n",
    "f = compose(lambda x: x**2, lambda x: x//2, math.sqrt)\n",
    "print(f(1))\n",
    "print(f(2))\n",
    "print(f(5))"
   ]
  },
  {
   "cell_type": "markdown",
   "metadata": {},
   "source": [
    "### 5. Napište funkci, která bude provádět (sekvenční) map-reduce nad seznamem.\n",
    "\n",
    "Funkce dostane na vstupu seznam, mapovací funkci a redukční funkci.\n",
    "\n",
    "Mapovací funkce se aplikuje na všechny prvky seznamu a její výsledky se poté ve dvojicích předávájí redukční funkci, dokud nezbyde pouze jedna hodnota - výsledek redukce.\n",
    "\n",
    "Argument pro mapovací funkci bude mít jako výchozí hodnotu identitu (tj. vrací vstup).\n",
    "\n",
    "Vynuťte, aby argumenty pro mapovací a redukční funkci bylo nutno zadat přes pojmenované argumenty (tj. aby je nešlo předat přes poziční argument)."
   ]
  },
  {
   "cell_type": "code",
   "execution_count": null,
   "metadata": {
    "tags": [
     "solution"
    ]
   },
   "outputs": [],
   "source": [
    "# TODO: Implement your solution."
   ]
  },
  {
   "cell_type": "code",
   "execution_count": null,
   "metadata": {},
   "outputs": [],
   "source": [
    "# součet pole - 6\n",
    "print(\n",
    "    list_map_reduce([1, 2, 3], reduce_fn=lambda x, y: x + y)\n",
    ")\n",
    "\n",
    "# suma čtverců - 14\n",
    "print(\n",
    "    list_map_reduce(\n",
    "        [1, 2, 3],\n",
    "        map_fn=lambda x: x**2, reduce_fn=lambda x, y: x + y,\n",
    "    ),\n",
    ")\n",
    "\n",
    "# délka nejdelšího slova v seznamu - 5\n",
    "print(\n",
    "    list_map_reduce(\n",
    "        [\"Hello\", \"yes\", \"this\", \"is\", \"dog\"],\n",
    "        map_fn=len,\n",
    "        reduce_fn=lambda x, y: max([x, y]),\n",
    "    )\n",
    ")\n",
    "\n",
    "# transformace na kapitálky a spojení seznamu slov - ARE YOU KIDDING ME ?!!\n",
    "print(\n",
    "    list_map_reduce(\n",
    "        [\"Are\", \"you\", \"kidding\", \"me\", \"?!\"],\n",
    "        map_fn=lambda x: x.upper(),\n",
    "        reduce_fn=lambda x, y: '  '.join([x, y]),\n",
    "    )\n",
    ")"
   ]
  },
  {
   "cell_type": "markdown",
   "metadata": {},
   "source": [
    "### 6. Napište funkci, která umožní zafixovat argumenty libovolné předané funkce\n",
    "\n",
    "Funkce příjmá funkci pro obalení a libovolné další poziční a pojmenované argumenty a vrací funkci, která se chová stejně jako předaná funkce s výchozí hodnotou pro předané argumenty.\n",
    "\n",
    "Zafixované funkci je možné předat libovolné další argumenty při jejím volání. Poziční argumenty se budou spojovat za sebe (první jdou argumenty předané obalené funkci a poté zafixované) a pojmenované argumenty se přepisují (prioritu má argument při volání obalené funkce).\n",
    "\n",
    "_Zkuste ve vaší funkci využít lambda funkci._\n",
    "\n",
    "**Hint**: Budete potřebovat spojení dvou seznamů a slovníků."
   ]
  },
  {
   "cell_type": "code",
   "execution_count": null,
   "metadata": {
    "tags": [
     "solution"
    ]
   },
   "outputs": [],
   "source": [
    "# TODO: Implement your solution."
   ]
  },
  {
   "cell_type": "code",
   "execution_count": null,
   "metadata": {},
   "outputs": [],
   "source": [
    "import sys\n",
    "shout = wrap(print, \"!!!!\", sep='', flush=True)\n",
    "shout(\"This is madness\")  # This is madness!!!!\n",
    "\n",
    "# THIS  IS  SPARTA !!!! (in red)\n",
    "shout(\"THIS\", \"IS\", \"SPARTA\", sep='  ', file=sys.stderr)\n",
    "\n",
    "fixed_end_range = wrap(range, 10)\n",
    "print(list(fixed_end_range(5)))  # [5, 6, 7, 8, 9]\n",
    "print(list(fixed_end_range(0)))  # [0, 1, 2, 3, 4, 5, 6, 7, 8, 9]"
   ]
  }
 ],
 "metadata": {
  "kernelspec": {
   "display_name": "Python 3 (ipykernel)",
   "language": "python",
   "name": "python3"
  },
  "language_info": {
   "codemirror_mode": {
    "name": "ipython",
    "version": 3
   },
   "file_extension": ".py",
   "mimetype": "text/x-python",
   "name": "python",
   "nbconvert_exporter": "python",
   "pygments_lexer": "ipython3",
   "version": "3.9.6"
  }
 },
 "nbformat": 4,
 "nbformat_minor": 4
}
