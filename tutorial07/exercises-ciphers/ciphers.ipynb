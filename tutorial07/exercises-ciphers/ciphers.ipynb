{
 "cells": [
  {
   "cell_type": "markdown",
   "metadata": {},
   "source": [
    "# Procvičování - šifry"
   ]
  },
  {
   "cell_type": "code",
   "execution_count": null,
   "metadata": {},
   "outputs": [],
   "source": [
    "# Vynucení kontroly souladu s PEP8\n",
    "!pip install flake8 pycodestyle pycodestyle_magic\n",
    "%load_ext pycodestyle_magic\n",
    "%pycodestyle_on"
   ]
  },
  {
   "cell_type": "markdown",
   "metadata": {},
   "source": [
    "### 1. Napište program pro Césarovu šifru. Tato šifra je založena na posouvání písmen o 3 pozice v abecedě (tj. a→d, m→p, z→c). Program by měl obsahovat funkce jak pro zašifrování, tak pro dešifrování takové šifry. Tyto funkce by měly brát řetězec a vrátit jeho zašifrovanou/dešifrovanou podobu.\n",
    "\n",
    "**Hint:** Možná by se vám docela mohl hodit modul `string`, obsahuje totiž takové zajímavé „konstanty“ jako `string.ascii_uppercase` a podobné."
   ]
  },
  {
   "cell_type": "code",
   "execution_count": null,
   "metadata": {
    "tags": [
     "solution"
    ]
   },
   "outputs": [],
   "source": [
    "# TODO: Implement your solution."
   ]
  },
  {
   "cell_type": "code",
   "execution_count": null,
   "metadata": {
    "tags": [
     "solution"
    ]
   },
   "outputs": [],
   "source": [
    "# TODO: Implement your solution."
   ]
  },
  {
   "cell_type": "code",
   "execution_count": null,
   "metadata": {},
   "outputs": [],
   "source": [
    "# test\n",
    "txt = cipher3('Ahoj, jak to jde? Z')\n",
    "print(txt)\n",
    "print(decipher3(txt))"
   ]
  },
  {
   "cell_type": "markdown",
   "metadata": {},
   "source": [
    "### 2.  Upravte předchozí program, aby umožňoval posouvání písmen i o jiné hodnoty než 3. (Zvolený krok posunu se dá označit písmenem na příslušném místě, text podle původní Césarovy šifry je pak v tomto označení zašifrován písmenem d.)"
   ]
  },
  {
   "cell_type": "code",
   "execution_count": null,
   "metadata": {
    "tags": [
     "solution"
    ]
   },
   "outputs": [],
   "source": [
    "# TODO: Implement your solution."
   ]
  },
  {
   "cell_type": "code",
   "execution_count": null,
   "metadata": {
    "tags": [
     "solution"
    ]
   },
   "outputs": [],
   "source": [
    "# TODO: Implement your solution."
   ]
  },
  {
   "cell_type": "code",
   "execution_count": null,
   "metadata": {},
   "outputs": [],
   "source": [
    "# test\n",
    "txt = cipherX('Ahoj, jak to jde? Z', -1)\n",
    "print(txt)\n",
    "print(decipherX(txt, -1))"
   ]
  },
  {
   "cell_type": "markdown",
   "metadata": {},
   "source": [
    "### 3. Použijte funkce z předchozího cvičení pro zjištění posuvu (a tím pádem i rozšifrování) následujícího zašifrovaného textu, a to hrubou silou (prostě automaticky vyzkoušejte všechny možné posuny a vyberte ten správný). "
   ]
  },
  {
   "cell_type": "code",
   "execution_count": null,
   "metadata": {},
   "outputs": [],
   "source": [
    "text = (\n",
    "    'LYJUZJU DQ IJHQDAQSX FUDJQNVHYUDTI.UK.'\n",
    "    ' IJHQDAO ZIEK LUDELQDO LIUC VEJEQFQHQJKC'\n",
    "    ' FUDJQN Q TYWYJQBDYC PHSQTBELAQC IQCIKDW.'\n",
    ")"
   ]
  },
  {
   "cell_type": "code",
   "execution_count": null,
   "metadata": {
    "tags": [
     "solution"
    ]
   },
   "outputs": [],
   "source": [
    "# TODO: Implement your solution."
   ]
  },
  {
   "cell_type": "markdown",
   "metadata": {},
   "source": [
    "### 4. Napište program pro Vigenèrovu šifru. Podobně jako u Césarovy šifry dochází k posunu písmen, ale tento posun není určen pouze jedním vybraným číslem (a tedy vlastně písmenem), nýbrž celým klíčovým slovem (heslem) nebo dokonce delším textem. Po sobě jdoucí písmena původní zprávy jsou tedy vlastně šifrována Césarovými šiframi s různým krokem. \n",
    "\n",
    "**Příklad**:\n",
    "\n",
    "* zpráva:\tPYTHON JE FAJN\n",
    "* heslo:\tHESLOH ES LOHE\n",
    "* výstup:\tWCLSCU NW QOQR\n",
    "\n",
    "**Zajmavost**: Podle Wikipedie však Blaise de Vigenèr přišel s touto šifrou v roce 1586, tedy až třicet tři let potom, co Giovan Battista Bellaso tímto způsobem zobecnil původní dvouabecední šifru Leona Battisty Albertiho dokonce už z roku 1467.\n",
    "\n"
   ]
  },
  {
   "cell_type": "code",
   "execution_count": null,
   "metadata": {
    "tags": [
     "solution"
    ]
   },
   "outputs": [],
   "source": [
    "# TODO: Implement your solution."
   ]
  },
  {
   "cell_type": "code",
   "execution_count": null,
   "metadata": {},
   "outputs": [],
   "source": [
    "txt = cipher_vigener('Python je fajn.', 'heslo')\n",
    "print(txt)\n",
    "print(decipher_vigener(txt, 'heslo'))"
   ]
  },
  {
   "cell_type": "markdown",
   "metadata": {},
   "source": [
    "### 5. Dostal se vám do rukou zakódovaný text ze souboru `tajne.txt` zašifrovaný Vigènerovou šifrou. Navíc víte, že se jedná o český text, a to dokonce beze všech nabodeníček (tedy je v ASCII), a že jako heslo bylo použito jedno ze slov ze seznam `hesla.txt`, ale netušíte které, a že navíc zakódována byla pouze písmena (tedy interpunkce a mezery se přeskakují) a ještě jenom v jedné velikosti (tedy nerozlišuje se mezi malými a velkými písmeny). Vaším úkolem je zjistit heslo použité k zašifrování textu a text rozluštit. "
   ]
  },
  {
   "cell_type": "code",
   "execution_count": null,
   "metadata": {
    "tags": [
     "solution"
    ]
   },
   "outputs": [],
   "source": [
    "# TODO: Implement your solution."
   ]
  },
  {
   "cell_type": "code",
   "execution_count": null,
   "metadata": {
    "tags": [
     "solution"
    ]
   },
   "outputs": [],
   "source": [
    "# TODO: Implement your solution."
   ]
  },
  {
   "cell_type": "code",
   "execution_count": null,
   "metadata": {},
   "outputs": [],
   "source": [
    "deciphered_text = decipher(utajeny, heslo)\n",
    "\n",
    "print(deciphered_text)"
   ]
  }
 ],
 "metadata": {
  "kernelspec": {
   "display_name": "Python 3 (ipykernel)",
   "language": "python",
   "name": "python3"
  },
  "language_info": {
   "codemirror_mode": {
    "name": "ipython",
    "version": 3
   },
   "file_extension": ".py",
   "mimetype": "text/x-python",
   "name": "python",
   "nbconvert_exporter": "python",
   "pygments_lexer": "ipython3",
   "version": "3.9.6"
  }
 },
 "nbformat": 4,
 "nbformat_minor": 4
}
