{
 "cells": [
  {
   "cell_type": "markdown",
   "metadata": {},
   "source": [
    "# Procvičování - šifry"
   ]
  },
  {
   "cell_type": "code",
   "execution_count": null,
   "metadata": {},
   "outputs": [],
   "source": [
    "# Vynucení kontroly souladu s PEP8\n",
    "!pip install flake8 pycodestyle pycodestyle_magic\n",
    "%load_ext pycodestyle_magic\n",
    "%pycodestyle_on"
   ]
  },
  {
   "cell_type": "markdown",
   "metadata": {},
   "source": [
    "### 1. Napište program pro Césarovu šifru. Tato šifra je založena na posouvání písmen o 3 pozice v abecedě (tj. a→d, m→p, z→c). Program by měl obsahovat funkce jak pro zašifrování, tak pro dešifrování takové šifry. Tyto funkce by měly brát řetězec a vrátit jeho zašifrovanou/dešifrovanou podobu.\n",
    "\n",
    "**Hint:** Možná by se vám docela mohl hodit modul `string`, obsahuje totiž takové zajímavé „konstanty“ jako `string.ascii_uppercase` a podobné."
   ]
  },
  {
   "cell_type": "code",
   "execution_count": null,
   "metadata": {
    "tags": [
     "solution"
    ]
   },
   "outputs": [],
   "source": [
    "import string\n",
    "\n",
    "ring = string.ascii_uppercase\n",
    "\n",
    "\n",
    "def cipher3(text):\n",
    "    \"\"\"Zašifruj zadaný ASCII-text.\"\"\"\n",
    "\n",
    "    txt = ''\n",
    "    key = ring[3:] + ring[:3]\n",
    "    for char in text.upper():\n",
    "        if char in key:\n",
    "            txt += key[ring.index(char)]\n",
    "        else:\n",
    "            txt += char\n",
    "\n",
    "    return txt\n",
    "\n",
    "\n",
    "def decipher3(text):\n",
    "    \"\"\"Odšifruj zadaný ASCII-text.\"\"\"\n",
    "\n",
    "    txt = ''\n",
    "    key = ring[3:] + ring[:3]\n",
    "    for char in text.upper():\n",
    "        if char in key:\n",
    "            txt += ring[key.index(char)]\n",
    "        else:\n",
    "            txt += char\n",
    "\n",
    "    return txt"
   ]
  },
  {
   "cell_type": "code",
   "execution_count": null,
   "metadata": {
    "tags": [
     "solution"
    ]
   },
   "outputs": [],
   "source": [
    "import string\n",
    "\n",
    "ring = string.ascii_uppercase\n",
    "ring_len = len(ring)\n",
    "\n",
    "\n",
    "def cipher3(text):\n",
    "    \"\"\"Zašifruj zadaný ASCII-text.\"\"\"\n",
    "\n",
    "    txt = ''\n",
    "    for char in text.upper():\n",
    "        if char in ring:\n",
    "            txt += ring[(ring.index(char) + 3) % ring_len]\n",
    "        else:\n",
    "            txt += char\n",
    "\n",
    "    return txt\n",
    "\n",
    "\n",
    "def decipher3(text):\n",
    "    \"\"\"Odšifruj zadaný ASCII-text.\"\"\"\n",
    "\n",
    "    txt = ''\n",
    "    for char in text.upper():\n",
    "        if char in ring:\n",
    "            txt += ring[(ring.index(char) - 3) % ring_len]\n",
    "        else:\n",
    "            txt += char\n",
    "\n",
    "    return txt"
   ]
  },
  {
   "cell_type": "code",
   "execution_count": null,
   "metadata": {},
   "outputs": [],
   "source": [
    "# test\n",
    "txt = cipher3('Ahoj, jak to jde? Z')\n",
    "print(txt)\n",
    "print(decipher3(txt))"
   ]
  },
  {
   "cell_type": "markdown",
   "metadata": {},
   "source": [
    "### 2.  Upravte předchozí program, aby umožňoval posouvání písmen i o jiné hodnoty než 3. (Zvolený krok posunu se dá označit písmenem na příslušném místě, text podle původní Césarovy šifry je pak v tomto označení zašifrován písmenem d.)"
   ]
  },
  {
   "cell_type": "code",
   "execution_count": null,
   "metadata": {
    "tags": [
     "solution"
    ]
   },
   "outputs": [],
   "source": [
    "import string\n",
    "\n",
    "ring = string.ascii_uppercase\n",
    "\n",
    "\n",
    "def cipherX(text, shift):\n",
    "    \"\"\"Zašifruj zadaný ASCII-text uvedeným posunem.\"\"\"\n",
    "\n",
    "    txt = ''\n",
    "    key = ring[shift:] + ring[:shift]\n",
    "    for char in text.upper():\n",
    "        if char in key:\n",
    "            txt += key[ring.index(char)]\n",
    "        else:\n",
    "            txt += char\n",
    "\n",
    "    return txt\n",
    "\n",
    "\n",
    "def decipherX(text, shift):\n",
    "    \"\"\"Odšifruj zadaný ASCII-text uvedeným posunem.\"\"\"\n",
    "\n",
    "    txt = ''\n",
    "    key = ring[shift:] + ring[:shift]\n",
    "    for char in text.upper():\n",
    "        if char in key:\n",
    "            txt += ring[key.index(char)]\n",
    "        else:\n",
    "            txt += char\n",
    "\n",
    "    return txt"
   ]
  },
  {
   "cell_type": "code",
   "execution_count": null,
   "metadata": {
    "tags": [
     "solution"
    ]
   },
   "outputs": [],
   "source": [
    "import string\n",
    "\n",
    "ring = string.ascii_uppercase\n",
    "ring_len = len(ring)\n",
    "\n",
    "\n",
    "def cipherX(text, shift):\n",
    "    \"\"\"Zašifruj zadaný ASCII-text uvedeným posunem.\"\"\"\n",
    "\n",
    "    txt = ''\n",
    "    for char in text.upper():\n",
    "        if char in ring:\n",
    "            txt += ring[(ring.index(char) + shift) % ring_len]\n",
    "        else:\n",
    "            txt += char\n",
    "\n",
    "    return txt\n",
    "\n",
    "\n",
    "def decipherX(text, shift):\n",
    "    \"\"\"Odšifruj zadaný ASCII-text uvedeným posunem.\"\"\"\n",
    "\n",
    "    txt = ''\n",
    "    for char in text.upper():\n",
    "        if char in ring:\n",
    "            txt += ring[(ring.index(char) - shift) % ring_len]\n",
    "        else:\n",
    "            txt += char\n",
    "\n",
    "    return txt"
   ]
  },
  {
   "cell_type": "code",
   "execution_count": null,
   "metadata": {},
   "outputs": [],
   "source": [
    "# test\n",
    "txt = cipherX('Ahoj, jak to jde? Z', -1)\n",
    "print(txt)\n",
    "print(decipherX(txt, -1))"
   ]
  },
  {
   "cell_type": "markdown",
   "metadata": {},
   "source": [
    "### 3. Použijte funkce z předchozího cvičení pro zjištění posuvu (a tím pádem i rozšifrování) následujícího zašifrovaného textu, a to hrubou silou (prostě automaticky vyzkoušejte všechny možné posuny a vyberte ten správný). "
   ]
  },
  {
   "cell_type": "code",
   "execution_count": null,
   "metadata": {},
   "outputs": [],
   "source": [
    "text = (\n",
    "    'LYJUZJU DQ IJHQDAQSX FUDJQNVHYUDTI.UK.'\n",
    "    ' IJHQDAO ZIEK LUDELQDO LIUC VEJEQFQHQJKC'\n",
    "    ' FUDJQN Q TYWYJQBDYC PHSQTBELAQC IQCIKDW.'\n",
    ")"
   ]
  },
  {
   "cell_type": "code",
   "execution_count": null,
   "metadata": {
    "tags": [
     "solution"
    ]
   },
   "outputs": [],
   "source": [
    "for posun in range(ring_len):\n",
    "    print('\\n', posun)\n",
    "    print('\\t', decipherX(text, posun))"
   ]
  },
  {
   "cell_type": "markdown",
   "metadata": {},
   "source": [
    "### 4. Napište program pro Vigenèrovu šifru. Podobně jako u Césarovy šifry dochází k posunu písmen, ale tento posun není určen pouze jedním vybraným číslem (a tedy vlastně písmenem), nýbrž celým klíčovým slovem (heslem) nebo dokonce delším textem. Po sobě jdoucí písmena původní zprávy jsou tedy vlastně šifrována Césarovými šiframi s různým krokem. \n",
    "\n",
    "**Příklad**:\n",
    "\n",
    "* zpráva:\tPYTHON JE FAJN\n",
    "* heslo:\tHESLOH ES LOHE\n",
    "* výstup:\tWCLSCU NW QOQR\n",
    "\n",
    "**Zajmavost**: Podle Wikipedie však Blaise de Vigenèr přišel s touto šifrou v roce 1586, tedy až třicet tři let potom, co Giovan Battista Bellaso tímto způsobem zobecnil původní dvouabecední šifru Leona Battisty Albertiho dokonce už z roku 1467.\n",
    "\n"
   ]
  },
  {
   "cell_type": "code",
   "execution_count": null,
   "metadata": {
    "tags": [
     "solution"
    ]
   },
   "outputs": [],
   "source": [
    "import string\n",
    "\n",
    "ring = string.ascii_uppercase\n",
    "ring_len = len(ring)\n",
    "\n",
    "\n",
    "def cipher_vigener(text, key):\n",
    "    \"\"\"Zašifruj zadaný ASCII-text uvedeným posunem.\"\"\"\n",
    "    keylen = len(key)\n",
    "    keyarr = [ring.index(x) for x in key.upper()]\n",
    "    txt = ''\n",
    "    i = 0\n",
    "    for char in text.upper():\n",
    "        if char in ring:\n",
    "            txt += ring[(ring.index(char) + keyarr[i % keylen]) % ring_len]\n",
    "            i += 1\n",
    "        else:\n",
    "            txt += char\n",
    "    return txt\n",
    "\n",
    "\n",
    "def decipher_vigener(text, key):\n",
    "    \"\"\"Odšifruj zadaný ASCII-text uvedeným posunem.\"\"\"\n",
    "    keylen = len(key)\n",
    "    keyarr = [ring.index(x) for x in key.upper()]\n",
    "    txt = ''\n",
    "    i = 0\n",
    "    for char in text.upper():\n",
    "        if char in ring:\n",
    "            txt += ring[(ring.index(char) - keyarr[i % keylen]) % ring_len]\n",
    "            i += 1\n",
    "        else:\n",
    "            txt += char\n",
    "    return txt"
   ]
  },
  {
   "cell_type": "code",
   "execution_count": null,
   "metadata": {},
   "outputs": [],
   "source": [
    "txt = cipher_vigener('Python je fajn.', 'heslo')\n",
    "print(txt)\n",
    "print(decipher_vigener(txt, 'heslo'))"
   ]
  },
  {
   "cell_type": "markdown",
   "metadata": {},
   "source": [
    "### 5. Dostal se vám do rukou zakódovaný text ze souboru `tajne.txt` zašifrovaný Vigènerovou šifrou. Navíc víte, že se jedná o český text, a to dokonce beze všech nabodeníček (tedy je v ASCII), a že jako heslo bylo použito jedno ze slov ze seznam `hesla.txt`, ale netušíte které, a že navíc zakódována byla pouze písmena (tedy interpunkce a mezery se přeskakují) a ještě jenom v jedné velikosti (tedy nerozlišuje se mezi malými a velkými písmeny). Vaším úkolem je zjistit heslo použité k zašifrování textu a text rozluštit. "
   ]
  },
  {
   "cell_type": "code",
   "execution_count": null,
   "metadata": {
    "tags": [
     "solution"
    ]
   },
   "outputs": [],
   "source": [
    "import string\n",
    "\n",
    "ring = string.ascii_uppercase\n",
    "ring_len = len(ring)\n",
    "\n",
    "\n",
    "def decipher(text, key):\n",
    "    \"\"\"Odšifruj zadaný ASCII-text uvedeným posunem.\"\"\"\n",
    "    keylen = len(key)\n",
    "    keyarr = [ring.index(x) for x in key.upper()]\n",
    "    txt = ''\n",
    "    i = 0\n",
    "    for char in text.upper():\n",
    "        if char in ring:\n",
    "            txt += ring[(ring.index(char) - keyarr[i % keylen]) % ring_len]\n",
    "            i += 1\n",
    "        else:\n",
    "            txt += char\n",
    "    return txt\n",
    "\n",
    "\n",
    "# hledani\n",
    "\n",
    "utajeny = ''\n",
    "with open('tajne.txt', encoding='utf-8', mode='r') as f_in:\n",
    "    utajeny = f_in.read()\n",
    "\n",
    "slova = set()\n",
    "with open('hesla.txt', encoding='utf-8', mode='r') as f_in:\n",
    "    for line in f_in:\n",
    "        slovo = line.strip('\\n').upper()\n",
    "        slova.add(slovo)\n",
    "print(len(slova))\n",
    "print()\n",
    "\n",
    "bad = open('bad.log', mode='w', encoding='utf-8')\n",
    "count = 0\n",
    "hesla = []\n",
    "for i, heslo in enumerate(slova):\n",
    "    count += 1\n",
    "    if count == 1000:\n",
    "        print('> ', i)\n",
    "        count = 0\n",
    "    try:\n",
    "        text = decipher(utajeny, heslo)\n",
    "    except ValueError:\n",
    "        # print(heslo)\n",
    "        bad.write(heslo + '\\n')\n",
    "        bad.flush()\n",
    "        print('! ValueError:', heslo)\n",
    "        continue\n",
    "    # print(text)\n",
    "    kandidat = sorted(text.split(), key=len)[-1]\n",
    "    # print(kandidat)\n",
    "    if kandidat in slova:\n",
    "        print(heslo)\n",
    "        hesla.append(heslo)\n",
    "        print(text)\n",
    "        print()\n",
    "bad.close()"
   ]
  },
  {
   "cell_type": "code",
   "execution_count": null,
   "metadata": {
    "tags": [
     "solution"
    ]
   },
   "outputs": [],
   "source": [
    "heslo = hesla[-1]\n",
    "print(heslo)"
   ]
  },
  {
   "cell_type": "code",
   "execution_count": null,
   "metadata": {},
   "outputs": [],
   "source": [
    "deciphered_text = decipher(utajeny, heslo)\n",
    "\n",
    "print(deciphered_text)"
   ]
  }
 ],
 "metadata": {
  "celltoolbar": "Tags",
  "kernelspec": {
   "display_name": "Python 3 (ipykernel)",
   "language": "python",
   "name": "python3"
  },
  "language_info": {
   "codemirror_mode": {
    "name": "ipython",
    "version": 3
   },
   "file_extension": ".py",
   "mimetype": "text/x-python",
   "name": "python",
   "nbconvert_exporter": "python",
   "pygments_lexer": "ipython3",
   "version": "3.9.6"
  }
 },
 "nbformat": 4,
 "nbformat_minor": 4
}
