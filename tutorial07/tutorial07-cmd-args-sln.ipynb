{
 "cells": [
  {
   "cell_type": "markdown",
   "metadata": {},
   "source": [
    "# Příkazové řádka sys.arg\n",
    "\n",
    "Budeme se zabývat argumenty příkazové řádky, budeme tedy psát skripy a pouštět je pomocí příkazové řádky.  Doporučuji pro každou úlohu vytvořit nový skript.\n",
    "\n",
    "\n",
    "## Jupyter notebooky a skriptování\n",
    "\n",
    "Pár poznámek k jupyter notebookům a skripty. \n",
    "\n",
    "Jupyter notebooky slouží k rychlému prototypování. Do skriptu kód převádíme typicky až když je stabilní. (To děláme například pokud potřebujeme spustit experiment, který poběží déle. V takovém případě notebooky nejsou nejlepší řešení a kód je lepší převést do skriptu.) Takovému skriptu pak můžememe předat argumenty (např. parametry experimentu, způsob uložení, atd.).\n",
    "\n",
    "Jupyter umí převádět notebooky na skripty velmi jednoduše stačí stáhnout notebook jako skript, tedy `File` $\\rightarrow$ `Download as` $\\rightarrow$ `Python (.py)`, případně to lze použít nástroj [nbconvert](https://nbconvert.readthedocs.io/en/stable/usage.html). Pokud budete skript lehce upravovat, lze ho otevřít přímo v jupyteru jako obyčejný soubor. Jupyter pomůže zvýrazněním syntaxe, nebude se chovat jako sofistikované IDE, ale pro malé úpravy to typicky stačí. \n",
    "\n",
    "Za zmínku stojí také možnost spuštění python scriptů přímo z jupyteru pomocí magic příkazu `%run script.py` a možnost spustit shellovský příkaz pomocí vykřičníku na začátku řádky (takže např. `! ls` vypíše obsah aktuálního adresáře). Opět, toto by mělo sloužit spíše pro usnadnění prototypování kódu!"
   ]
  },
  {
   "cell_type": "code",
   "execution_count": null,
   "metadata": {},
   "outputs": [],
   "source": [
    "# Vynucení kontroly souladu s PEP8\n",
    "!pip install pycodestyle pycodestyle_magic\n",
    "%load_ext pycodestyle_magic\n",
    "%pycodestyle_on"
   ]
  },
  {
   "cell_type": "markdown",
   "metadata": {},
   "source": [
    "## Cvičení\n",
    "\n",
    "Teď už k úlohám.\n",
    "\n",
    "###  1. Napište program, který vypíše řádku po řádce soubor, cestu k němuž bude brát jako svůj vstupní argument. Přitom na začátek každé řádky přidá její pořadové číslo v souboru plus počet slov a počet znaků v příslušné řádce.\n",
    "\n",
    "Soubor `cmd-arg/example.2.txt` lze použít k testování."
   ]
  },
  {
   "cell_type": "code",
   "execution_count": null,
   "metadata": {},
   "outputs": [],
   "source": [
    "# shellovský příkaz cat nám vypíše obsah souboru\n",
    "! cat cmd-arg/example.2.txt"
   ]
  },
  {
   "cell_type": "code",
   "execution_count": null,
   "metadata": {},
   "outputs": [],
   "source": [
    "# použij příkazovou řádku\n",
    "# python3 cmd-arg/01-sys-sln.py cmd-arg/example.2.txt"
   ]
  },
  {
   "cell_type": "code",
   "execution_count": null,
   "metadata": {},
   "outputs": [],
   "source": [
    "# spusť skript pomocí příkazové řádky v jupyteru\n",
    "! python3 cmd-arg/01-sys-sln.py cmd-arg/example.2.txt\n",
    "\n",
    "print()\n",
    "\n",
    "! python3 cmd-arg/01-argparse-sln.py cmd-arg/example.2.txt"
   ]
  },
  {
   "cell_type": "code",
   "execution_count": null,
   "metadata": {},
   "outputs": [],
   "source": [
    "# spusť skript pomocí magic funkce\n",
    "%run cmd-arg/01-sys-sln.py cmd-arg/example.2.txt\n",
    "\n",
    "print()\n",
    "\n",
    "%run cmd-arg/01-argparse-sln.py cmd-arg/example.2.txt"
   ]
  },
  {
   "cell_type": "markdown",
   "metadata": {},
   "source": [
    "### 2.  Upravte předchozí program tak, aby přebíral i druhý povinný řetězcový argument. Program pak bude tisknout ze vstupního souboru pouze ty řádky, které budou jako podřetězec obsahovat hodnotu tohoto druhého argumentu."
   ]
  },
  {
   "cell_type": "code",
   "execution_count": null,
   "metadata": {},
   "outputs": [],
   "source": [
    "# chyba\n",
    "! python3 cmd-arg/02-sys-sln.py cmd-arg/example.2.txt\n",
    "\n",
    "print()\n",
    "# chyba\n",
    "! python3 cmd-arg/02-argparse-sln.py cmd-arg/example.2.txt"
   ]
  },
  {
   "cell_type": "code",
   "execution_count": null,
   "metadata": {},
   "outputs": [],
   "source": [
    "! python3 cmd-arg/02-sys-sln.py cmd-arg/example.2.txt slovy\n",
    "\n",
    "print()\n",
    "\n",
    "! python3 cmd-arg/02-argparse-sln.py cmd-arg/example.2.txt slovy"
   ]
  },
  {
   "cell_type": "markdown",
   "metadata": {},
   "source": [
    "### 3. Upravte předchozí program tak, že na výstupu zapíše všechny vyhovující řádky seřazené podle počtu slov do souboru, jehož jméno bude brát jako třetí vstupní parametr. Počet slov v příslušné řádce bude ve výstupu vytištěn před každou řádkou.\n",
    "\n"
   ]
  },
  {
   "cell_type": "code",
   "execution_count": null,
   "metadata": {},
   "outputs": [],
   "source": [
    "! python3 cmd-arg/03-sys-sln.py cmd-arg/example.2.txt slovy cmd-arg/03-sys-out.txt\n",
    "\n",
    "print()\n",
    "\n",
    "! python3 cmd-arg/03-argparse-sln.py cmd-arg/example.2.txt slovy cmd-arg/03-argparse-out.txt"
   ]
  },
  {
   "cell_type": "code",
   "execution_count": null,
   "metadata": {},
   "outputs": [],
   "source": [
    "! cat cmd-arg/03-sys-out.txt\n",
    "\n",
    "print()\n",
    "\n",
    "! cat cmd-arg/03-argparse-out.txt"
   ]
  },
  {
   "cell_type": "markdown",
   "metadata": {},
   "source": [
    "### 4. Napište program, který za pomoci sys.argv vyhodnotí své vstupní argumenty následujícím způsobem:\n",
    "\n",
    "* samostatné přepínače -x uloží v podobě n-tice (x, ... );\n",
    "* přepínače --xarg=hodnota uloží v podobě slovníku { 'xarg': hodnota, ... };\n",
    "* vlastní argumenty uloží do seznamu.\n",
    "\n",
    "(Tj. zjednodušeně předpokládáme, že zkrácené přepínače nemají žádnou hodnotu a dlouhé přepínače vždy obsahují rovnítko, abychom od sebe všechny tři kategorie argumentů mohli snadno rozlišit.)\n",
    "\n",
    "Seznam argumentů vypište na standardní výstup."
   ]
  },
  {
   "cell_type": "code",
   "execution_count": null,
   "metadata": {},
   "outputs": [],
   "source": [
    "! python3 cmd-arg/04-arguments-sln.py arg1 --arg=abc arg2 -x -y --tuv=123 arg2"
   ]
  }
 ],
 "metadata": {
  "kernelspec": {
   "display_name": "Python 3 (ipykernel)",
   "language": "python",
   "name": "python3"
  },
  "language_info": {
   "codemirror_mode": {
    "name": "ipython",
    "version": 3
   },
   "file_extension": ".py",
   "mimetype": "text/x-python",
   "name": "python",
   "nbconvert_exporter": "python",
   "pygments_lexer": "ipython3",
   "version": "3.9.6"
  }
 },
 "nbformat": 4,
 "nbformat_minor": 4
}
