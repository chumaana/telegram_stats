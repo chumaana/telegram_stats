{
 "cells": [
  {
   "cell_type": "code",
   "execution_count": null,
   "metadata": {},
   "outputs": [],
   "source": [
    "# Vynucení kontroly souladu s PEP8\n",
    "!pip install flake8 pycodestyle pycodestyle_magic\n",
    "%load_ext pycodestyle_magic\n",
    "%pycodestyle_on"
   ]
  },
  {
   "cell_type": "markdown",
   "metadata": {},
   "source": [
    "## Moduly\n",
    "\n",
    "### 1. Přesuňte třídy Graph a Vertex do samostatného modulu."
   ]
  },
  {
   "cell_type": "markdown",
   "metadata": {},
   "source": [
    "### 2. Načtětě obě třídy do toho notebooku, tak abyste s nimi mohli pracovat.\n",
    "\n",
    "**Tip**: Když pracujete s jupyter notebooky, může se vám často může stát, že chcete používat tentýž kód ve více noteboocích. To je přesně čas pro přesunutí kódu do samostatného modulu a jeho import do notebooku. Někdy ale váš kód nemusí být ještě úplně stabilní a můžete ho upravovat. Jenomže pokud něco změníte v modulu, jupyter to nezaregistruje. Aby se vám změny zpropagovaly, musíte restartovat kernel, což je poněkud otravné. Naštěstí se tohle dá vyřešit pomocí tzv. autoreloadingu. Pokud přidáte na začátek notebooku následující 2 řádky:\n",
    "\n",
    "```\n",
    "%load_ext autoreload\n",
    "%autoreload 2\n",
    "```\n",
    "\n",
    "všechny moduly budou znovu načteny při spuštění jakéhokoli kódu. Tedy nové změny s hned uplatní.\n",
    " "
   ]
  },
  {
   "cell_type": "code",
   "execution_count": null,
   "metadata": {
    "tags": [
     "solution"
    ]
   },
   "outputs": [],
   "source": [
    "# TODO: Implement your solution."
   ]
  },
  {
   "cell_type": "code",
   "execution_count": null,
   "metadata": {},
   "outputs": [],
   "source": [
    "from graphs import Vertex\n",
    "from graphs.graph import Graph\n",
    "\n",
    "v1 = Vertex()\n",
    "print(v1)"
   ]
  },
  {
   "cell_type": "markdown",
   "metadata": {},
   "source": [
    "## Dědičnost"
   ]
  },
  {
   "cell_type": "markdown",
   "metadata": {},
   "source": [
    "### 3. Vytvořte novou třídu pro uzly s atributy. Hodnota atributu se pak bude vypisovat ve výpisu objektu. Ostatní funkcionalita uzlu zůstane stejná.\n",
    "\n",
    "**Tip**: Zjevně příklad na dědičnost."
   ]
  },
  {
   "cell_type": "code",
   "execution_count": null,
   "metadata": {
    "tags": [
     "solution"
    ]
   },
   "outputs": [],
   "source": [
    "# TODO: Implement your solution."
   ]
  },
  {
   "cell_type": "code",
   "execution_count": null,
   "metadata": {},
   "outputs": [],
   "source": [
    "vv = AttributeVertex('Foo')\n",
    "print(vv)"
   ]
  },
  {
   "cell_type": "markdown",
   "metadata": {},
   "source": [
    "## ABC"
   ]
  },
  {
   "cell_type": "markdown",
   "metadata": {},
   "source": [
    "### Bonus: Naimplementujte rozhraní grafu pomocí abstraktní třídy. Abstraktní graf bude definovat abstraktní metody: `connect_vertices`, `edges`, `__str__`. Graf, který už máme bude jedna jeho implementace (například `OrdinaryGraph`). Další implementace pak může třeba být graf, který bude mít hrany ohodnocené atributy. Tyto atributy se tedy budou ukládat přímo v grafu."
   ]
  },
  {
   "cell_type": "code",
   "execution_count": null,
   "metadata": {
    "tags": [
     "solution"
    ]
   },
   "outputs": [],
   "source": [
    "# TODO: Implement your solution."
   ]
  },
  {
   "cell_type": "code",
   "execution_count": null,
   "metadata": {},
   "outputs": [],
   "source": [
    "g = AbstractGraph()"
   ]
  },
  {
   "cell_type": "code",
   "execution_count": null,
   "metadata": {
    "tags": [
     "solution"
    ]
   },
   "outputs": [],
   "source": [
    "# TODO: Implement your solution."
   ]
  },
  {
   "cell_type": "code",
   "execution_count": null,
   "metadata": {},
   "outputs": [],
   "source": [
    "v1 = Vertex()\n",
    "v2 = Vertex()\n",
    "v3 = Vertex()\n",
    "\n",
    "og = OrdinaryGraph(v1, v2, v3)\n",
    "og.connect_vertices(v1, v2)\n",
    "og.connect_vertices(v1, v3)\n",
    "print(og)"
   ]
  },
  {
   "cell_type": "code",
   "execution_count": null,
   "metadata": {
    "tags": [
     "solution"
    ]
   },
   "outputs": [],
   "source": [
    "# TODO: Implement your solution."
   ]
  },
  {
   "cell_type": "code",
   "execution_count": null,
   "metadata": {},
   "outputs": [],
   "source": [
    "v1 = Vertex()\n",
    "v2 = Vertex()\n",
    "v3 = Vertex()\n",
    "\n",
    "eag = EdgeAttributeGraph(v1, v2, v3)\n",
    "eag.connect_vertices(v1, v2)\n",
    "eag.connect_vertices_with_attribute(v1, v3, 'My edge')\n",
    "print(eag)"
   ]
  }
 ],
 "metadata": {
  "kernelspec": {
   "display_name": "Python 3 (ipykernel)",
   "language": "python",
   "name": "python3"
  },
  "language_info": {
   "codemirror_mode": {
    "name": "ipython",
    "version": 3
   },
   "file_extension": ".py",
   "mimetype": "text/x-python",
   "name": "python",
   "nbconvert_exporter": "python",
   "pygments_lexer": "ipython3",
   "version": "3.9.6"
  }
 },
 "nbformat": 4,
 "nbformat_minor": 4
}
