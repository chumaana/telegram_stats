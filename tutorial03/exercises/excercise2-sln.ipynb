{
 "cells": [
  {
   "cell_type": "markdown",
   "metadata": {},
   "source": [
    "# Náhoda a pravděpodobnost"
   ]
  },
  {
   "cell_type": "code",
   "execution_count": null,
   "metadata": {},
   "outputs": [],
   "source": [
    "# Vynucení kontroly souladu s PEP8\n",
    "!pip install flake8 pycodestyle pycodestyle_magic\n",
    "%load_ext pycodestyle_magic\n",
    "%pycodestyle_on"
   ]
  },
  {
   "cell_type": "markdown",
   "metadata": {},
   "source": [
    "### 1. Pokuste se pomocí metody Monte Carlo aproximovat číslo π následujícím způsobem: Vepíšete-li čtverci o straně 1 čtvrtkruh (část kruhu se středem v jednom z rohů čtverce), bude obsah tohoto čtvrtkruhu π/4. Budete-li nyní náhodně generovat body o souřadnicích spadajících do čtverce, je pravděpodobnost π/4, že se trefíte do čtvrtkruhu.\n",
    "\n",
    "**Note:** Metoda je to nepřekvapivě velmi nepřesná a pomalá – pro jakékoliv rozumnější přiblížení k hledanému číslu π musíte provést velkou spoustu pokusů. (Kolik tak asi?)\n",
    "\n",
    "**Hint:** `random.random()`"
   ]
  },
  {
   "cell_type": "code",
   "execution_count": null,
   "metadata": {
    "tags": [
     "solution"
    ]
   },
   "outputs": [],
   "source": [
    "import math\n",
    "from random import random\n",
    "\n",
    "\n",
    "def čtvrtkruh(x, y):\n",
    "    return y < (math.sqrt(1 - x * x))\n",
    "\n",
    "\n",
    "POKUSŮ = 100\n",
    "pokusy = []\n",
    "for i in range(1, POKUSŮ + 1):\n",
    "    counter = 0\n",
    "    MAX = 100000\n",
    "    positive = 0\n",
    "    #\n",
    "    while counter < MAX:\n",
    "        x, y = random(), random()\n",
    "        if čtvrtkruh(x, y):\n",
    "            positive += 1\n",
    "        counter += 1\n",
    "    #\n",
    "    pokusy.append(positive / counter * 4)\n",
    "    # print(pokusy)\n",
    "    print('Sada', str(i).rjust(3), ':', end=' ')\n",
    "    print(sum(pokusy) / i)"
   ]
  },
  {
   "cell_type": "markdown",
   "metadata": {},
   "source": [
    "### 2. Když už jste v tom, zkuste metodou Monte Carlo spočítat nějaký klasický známý určitý integrál, kupříkladu pro funkci sin(x) v intervalu <0, 2π>."
   ]
  },
  {
   "cell_type": "code",
   "execution_count": null,
   "metadata": {
    "tags": [
     "solution"
    ]
   },
   "outputs": [],
   "source": [
    "import math\n",
    "from random import random\n",
    "\n",
    "\n",
    "def sinusoida(x, y):\n",
    "    return y < abs(math.sin(x))\n",
    "\n",
    "\n",
    "POKUSŮ = 20\n",
    "pokusy = []\n",
    "for i in range(1, POKUSŮ + 1):\n",
    "    counter = 0\n",
    "    MAX = 100000\n",
    "    positive_1, positive_2 = 0, 0\n",
    "    #\n",
    "    while counter < MAX:\n",
    "        # kladná část\n",
    "        x, y = random() * math.pi, random()\n",
    "        if sinusoida(x, y):\n",
    "            positive_1 += 1\n",
    "        # záporná část\n",
    "        x, y = math.pi + random() * math.pi, random()\n",
    "        if sinusoida(x, y):\n",
    "            positive_2 += 1\n",
    "        # čítač\n",
    "        counter += 1\n",
    "    #\n",
    "    pokusy.append((positive_1 / counter, -positive_2 / counter))\n",
    "    print('Sada', str(i).rjust(3), ':', end=' ')\n",
    "    print(sum([x[0] for x in pokusy]) / i + sum([x[1] for x in pokusy]) / i)"
   ]
  },
  {
   "cell_type": "markdown",
   "metadata": {},
   "source": [
    "### 3. Další pěknou aplikací náhody jsou tzv. náhodné procházky. Začneme naprostou klasikou – „opilcem“. Tato náhodná procházka je v nejjednodušším klasickém případě jednorozměrná:\n",
    "\n",
    "Opilec zpáteční cestou z hospody, která je n kroků od jeho domova, dorazil již na pole vzdálené k kroků od domova. Zde se ovšem zaškobrtl a začal padat. Sice se po každém kroku a pádu zase zvedne, ale zcela ztratil pojem o směru, jen ho jeden z nich táhne více než druhý (s příslušnými pravděpodobnostmi p a 1-p). „Chudák“ takto padá a bloudí, až časem někde skončí. Bude to doma nebo zpátky v hospodě?\n",
    "\n",
    "Vyberte si vhodná čísla n, k a p a nasimulujte opilcovu cestu. Kolik kroků (a pádů) musí průměrně absolvovat, aby někam došel? Zaznamenejte jednotlivé pokusy v podobě vhodného logu. (Případná grafická reprezentace je na vás.)\n",
    "\n",
    "**Note:** Ačkoli má přinejmenším pro pobavení celkem smysl udělat nějakou grafickou reprezentaci, zajímavější je studium závislostí mezi veličinami n, k a p, pro které bohatě stačí jen provést spoustu různých číselných pokusů."
   ]
  },
  {
   "cell_type": "code",
   "execution_count": null,
   "metadata": {
    "tags": [
     "solution"
    ]
   },
   "outputs": [],
   "source": [
    "from random import random\n",
    "from pprint import pprint\n",
    "\n",
    "N = 100\n",
    "K = range(10, 91, 10)\n",
    "P = [x / 10 for x in range(1, 10)]\n",
    "\n",
    "\n",
    "def opilec(N, k, p):\n",
    "    i = 0\n",
    "    while k not in (0, 100):\n",
    "        if random() < p:  # domů\n",
    "            k -= 1\n",
    "        else:  # do hospody\n",
    "            k += 1\n",
    "        i += 1\n",
    "    return i, 'D' if k == 0 else 'H'\n",
    "\n",
    "\n",
    "out = {}\n",
    "for k in K:\n",
    "    for p in P:\n",
    "        out[(k, p)] = opilec(N, k, p)\n",
    "pprint(out)"
   ]
  }
 ],
 "metadata": {
  "celltoolbar": "Tags",
  "kernelspec": {
   "display_name": "Python 3 (ipykernel)",
   "language": "python",
   "name": "python3"
  },
  "language_info": {
   "codemirror_mode": {
    "name": "ipython",
    "version": 3
   },
   "file_extension": ".py",
   "mimetype": "text/x-python",
   "name": "python",
   "nbconvert_exporter": "python",
   "pygments_lexer": "ipython3",
   "version": "3.9.6"
  }
 },
 "nbformat": 4,
 "nbformat_minor": 4
}
