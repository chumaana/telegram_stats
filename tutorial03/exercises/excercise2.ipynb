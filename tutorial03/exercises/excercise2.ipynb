{
 "cells": [
  {
   "cell_type": "markdown",
   "metadata": {},
   "source": [
    "# Náhoda a pravděpodobnost"
   ]
  },
  {
   "cell_type": "code",
   "execution_count": null,
   "metadata": {},
   "outputs": [],
   "source": [
    "# Vynucení kontroly souladu s PEP8\n",
    "!pip install flake8 pycodestyle pycodestyle_magic\n",
    "%load_ext pycodestyle_magic\n",
    "%pycodestyle_on"
   ]
  },
  {
   "cell_type": "markdown",
   "metadata": {},
   "source": [
    "### 1. Pokuste se pomocí metody Monte Carlo aproximovat číslo π následujícím způsobem: Vepíšete-li čtverci o straně 1 čtvrtkruh (část kruhu se středem v jednom z rohů čtverce), bude obsah tohoto čtvrtkruhu π/4. Budete-li nyní náhodně generovat body o souřadnicích spadajících do čtverce, je pravděpodobnost π/4, že se trefíte do čtvrtkruhu.\n",
    "\n",
    "**Note:** Metoda je to nepřekvapivě velmi nepřesná a pomalá – pro jakékoliv rozumnější přiblížení k hledanému číslu π musíte provést velkou spoustu pokusů. (Kolik tak asi?)\n",
    "\n",
    "**Hint:** `random.random()`"
   ]
  },
  {
   "cell_type": "code",
   "execution_count": null,
   "metadata": {
    "tags": [
     "solution"
    ]
   },
   "outputs": [],
   "source": [
    "# TODO: Implement your solution."
   ]
  },
  {
   "cell_type": "markdown",
   "metadata": {},
   "source": [
    "### 2. Když už jste v tom, zkuste metodou Monte Carlo spočítat nějaký klasický známý určitý integrál, kupříkladu pro funkci sin(x) v intervalu <0, 2π>."
   ]
  },
  {
   "cell_type": "code",
   "execution_count": null,
   "metadata": {
    "tags": [
     "solution"
    ]
   },
   "outputs": [],
   "source": [
    "# TODO: Implement your solution."
   ]
  },
  {
   "cell_type": "markdown",
   "metadata": {},
   "source": [
    "### 3. Další pěknou aplikací náhody jsou tzv. náhodné procházky. Začneme naprostou klasikou – „opilcem“. Tato náhodná procházka je v nejjednodušším klasickém případě jednorozměrná:\n",
    "\n",
    "Opilec zpáteční cestou z hospody, která je n kroků od jeho domova, dorazil již na pole vzdálené k kroků od domova. Zde se ovšem zaškobrtl a začal padat. Sice se po každém kroku a pádu zase zvedne, ale zcela ztratil pojem o směru, jen ho jeden z nich táhne více než druhý (s příslušnými pravděpodobnostmi p a 1-p). „Chudák“ takto padá a bloudí, až časem někde skončí. Bude to doma nebo zpátky v hospodě?\n",
    "\n",
    "Vyberte si vhodná čísla n, k a p a nasimulujte opilcovu cestu. Kolik kroků (a pádů) musí průměrně absolvovat, aby někam došel? Zaznamenejte jednotlivé pokusy v podobě vhodného logu. (Případná grafická reprezentace je na vás.)\n",
    "\n",
    "**Note:** Ačkoli má přinejmenším pro pobavení celkem smysl udělat nějakou grafickou reprezentaci, zajímavější je studium závislostí mezi veličinami n, k a p, pro které bohatě stačí jen provést spoustu různých číselných pokusů."
   ]
  },
  {
   "cell_type": "code",
   "execution_count": null,
   "metadata": {
    "tags": [
     "solution"
    ]
   },
   "outputs": [],
   "source": [
    "# TODO: Implement your solution."
   ]
  }
 ],
 "metadata": {
  "kernelspec": {
   "display_name": "Python 3 (ipykernel)",
   "language": "python",
   "name": "python3"
  },
  "language_info": {
   "codemirror_mode": {
    "name": "ipython",
    "version": 3
   },
   "file_extension": ".py",
   "mimetype": "text/x-python",
   "name": "python",
   "nbconvert_exporter": "python",
   "pygments_lexer": "ipython3",
   "version": "3.9.6"
  }
 },
 "nbformat": 4,
 "nbformat_minor": 4
}
