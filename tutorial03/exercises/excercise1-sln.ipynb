{
 "cells": [
  {
   "cell_type": "code",
   "execution_count": null,
   "metadata": {},
   "outputs": [],
   "source": [
    "# Vynucení kontroly souladu s PEP8\n",
    "!pip install flake8 pycodestyle pycodestyle_magic\n",
    "%load_ext pycodestyle_magic\n",
    "%pycodestyle_on"
   ]
  },
  {
   "cell_type": "markdown",
   "metadata": {},
   "source": [
    "# Skokan do vody"
   ]
  },
  {
   "cell_type": "markdown",
   "metadata": {},
   "source": [
    "### 1. Vytvořte animaci skokana (tvořenou znaky \"|\\-/\") točícího se kolem své osy a postupně padajícího z horního okraje obrazovky (terminálu) ke spodnímu."
   ]
  },
  {
   "cell_type": "code",
   "execution_count": null,
   "metadata": {
    "tags": [
     "solution"
    ]
   },
   "outputs": [],
   "source": [
    "from time import sleep\n",
    "from functools import partial\n",
    "import shutil\n",
    "\n",
    "p = partial(print, end='', flush=True)\n",
    "COLS, ROWS = shutil.get_terminal_size()\n",
    "\n",
    "col, row = COLS // 2, 0\n",
    "r = 0\n",
    "\n",
    "stav, s = \"|\\\\‒/\", 0  # cmd nemá rád m-dash\n",
    "# stav, s = \"|\\-/\", 0\n",
    "timer = 0.1\n",
    "\n",
    "p('\\033[?25l\\033[2J')\n",
    "\n",
    "# SKOKAN\n",
    "try:\n",
    "    p('\\033[0;{}f'.format(col))\n",
    "    while True:\n",
    "        p(stav[s % 4])\n",
    "        sleep(timer)\n",
    "        p('\\b \\033[1B\\033[1D')\n",
    "        r += 1\n",
    "        if r == ROWS:\n",
    "            break\n",
    "        s += 1\n",
    "    # šplouch\n",
    "    p('\\033[0m ')\n",
    "    input()\n",
    "# except (KeyboardInterrupt, EOFError):\n",
    "#    pass\n",
    "finally:\n",
    "    p('\\n')\n",
    "    p('\\033[?25h')"
   ]
  },
  {
   "cell_type": "markdown",
   "metadata": {},
   "source": [
    "### 2. Doplňte předchozí animaci o hladinu vody na poslední řádce terminálu (modrá řádka) a šplouchnutí po dopadu skokana do vody („vyšplíchnutí“ modré vody o řádku či dvě výše)."
   ]
  },
  {
   "cell_type": "code",
   "execution_count": null,
   "metadata": {
    "tags": [
     "solution"
    ]
   },
   "outputs": [],
   "source": [
    "from time import sleep\n",
    "from functools import partial\n",
    "import shutil\n",
    "\n",
    "p = partial(print, end='', flush=True)\n",
    "COLS, ROWS = shutil.get_terminal_size()\n",
    "\n",
    "col, row = COLS // 2, 0\n",
    "r = 0\n",
    "\n",
    "stav, s = \"|\\\\‒/\", 0  # cmd nemá rád m-dash\n",
    "timer = 0.1\n",
    "\n",
    "p('\\033[?25l\\033[2J')\n",
    "\n",
    "# VODA\n",
    "p('\\033[{};0f\\033[44m'.format(ROWS))\n",
    "for i in range(COLS):\n",
    "    p(' ')\n",
    "p('\\033[0m')\n",
    "# input()\n",
    "\n",
    "# SKOKAN\n",
    "try:\n",
    "    p('\\033[0;{}f'.format(col))\n",
    "    while True:\n",
    "        p(stav[s % 4])\n",
    "        sleep(timer)\n",
    "        p('\\b \\033[1B\\033[1D')\n",
    "        r += 1\n",
    "        if r + 1 == ROWS:\n",
    "            break\n",
    "        s += 1\n",
    "    # šplouch\n",
    "    p('\\033[1A\\033[44m \\a')\n",
    "    sleep(timer * 4)\n",
    "    p('\\033[1D\\033[0m ')\n",
    "    input()\n",
    "# except (KeyboardInterrupt, EOFError):\n",
    "#    pass\n",
    "finally:\n",
    "    p('\\n')\n",
    "    p('\\033[?25h')"
   ]
  },
  {
   "cell_type": "markdown",
   "metadata": {},
   "source": [
    "### 3. Doplňte předchozí program o synchronní ovládání rychlosti točení skokana a rychlosti jeho pádu pomocí klávesnice."
   ]
  },
  {
   "cell_type": "code",
   "execution_count": null,
   "metadata": {
    "tags": [
     "solution"
    ]
   },
   "outputs": [],
   "source": [
    "from time import sleep\n",
    "from functools import partial\n",
    "import shutil\n",
    "import kbhit\n",
    "\n",
    "p = partial(print, end='', flush=True)\n",
    "COLS, ROWS = shutil.get_terminal_size()\n",
    "\n",
    "col, row = COLS // 2, 0\n",
    "r = 0\n",
    "\n",
    "stav, s = \"|\\\\‒/\", 0  # cmd nemá rád m-dash\n",
    "timer = 0.1\n",
    "\n",
    "p('\\033[?25l\\033[2J')\n",
    "\n",
    "# VODA\n",
    "p('\\033[{};0f\\033[44m'.format(ROWS))\n",
    "for i in range(COLS):\n",
    "    p(' ')\n",
    "p('\\033[0m')\n",
    "# input()\n",
    "\n",
    "# SKOKAN\n",
    "try:\n",
    "    kb = kbhit.KBHit()\n",
    "    p('\\033[0;{}f'.format(col))\n",
    "    while True:\n",
    "        p(stav[s % 4])\n",
    "        sleep(timer)\n",
    "        p('\\b \\033[1B\\033[1D')\n",
    "        r += 1\n",
    "        if r + 1 == ROWS:\n",
    "            break\n",
    "        s += 1\n",
    "        if kb.kbhit():\n",
    "            c = kb.getarrow()\n",
    "            if c == 2:\n",
    "                timer += 0.1\n",
    "            elif c == 0:\n",
    "                timer -= 0.1\n",
    "                if timer <= 0:\n",
    "                    timer = 0.1\n",
    "    # šplouch\n",
    "    p('\\033[1A\\033[44m \\a')\n",
    "    sleep(timer * 4)\n",
    "    p('\\033[1D\\033[0m ')\n",
    "    input()\n",
    "# except (KeyboardInterrupt, EOFError):\n",
    "#    pass\n",
    "finally:\n",
    "    p('\\n')\n",
    "    p('\\033[?25h')\n",
    "    kb.set_normal_term()"
   ]
  }
 ],
 "metadata": {
  "celltoolbar": "Tags",
  "kernelspec": {
   "display_name": "Python 3 (ipykernel)",
   "language": "python",
   "name": "python3"
  },
  "language_info": {
   "codemirror_mode": {
    "name": "ipython",
    "version": 3
   },
   "file_extension": ".py",
   "mimetype": "text/x-python",
   "name": "python",
   "nbconvert_exporter": "python",
   "pygments_lexer": "ipython3",
   "version": "3.9.6"
  }
 },
 "nbformat": 4,
 "nbformat_minor": 4
}
