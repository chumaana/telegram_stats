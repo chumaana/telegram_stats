{
 "cells": [
  {
   "cell_type": "code",
   "execution_count": null,
   "metadata": {},
   "outputs": [],
   "source": [
    "# Vynucení kontroly souladu s PEP8\n",
    "!pip install flake8 pycodestyle pycodestyle_magic\n",
    "%load_ext pycodestyle_magic\n",
    "%pycodestyle_on"
   ]
  },
  {
   "cell_type": "markdown",
   "metadata": {},
   "source": [
    "# Slovníky (dict)"
   ]
  },
  {
   "cell_type": "markdown",
   "metadata": {},
   "source": [
    "### 1. Zanalyzujte vstupní textový soubor následujícím způsobem: Vytvořte slovník, jehož klíči budou jednotlivá písmena a hodnotami počet jejich výskytů v textu. Uvedený slovník vypište pomocí pprint.pprint()."
   ]
  },
  {
   "cell_type": "code",
   "execution_count": null,
   "metadata": {
    "tags": [
     "solution"
    ]
   },
   "outputs": [],
   "source": [
    "import pprint\n",
    "\n",
    "text = ''\n",
    "with open('leacock-abc.txt', mode='r', encoding='utf-8') as f:\n",
    "    text = f.read()\n",
    "\n",
    "statistics = {}\n",
    "for char in text:\n",
    "    # přeskoč nepísmenné znaky\n",
    "    if not char.isalpha():\n",
    "        continue\n",
    "    # písmena zahrň do slovníku\n",
    "    if char not in statistics:\n",
    "        statistics[char] = 1\n",
    "    else:\n",
    "        statistics[char] += 1\n",
    "\n",
    "pprint.pprint(statistics)"
   ]
  },
  {
   "cell_type": "markdown",
   "metadata": {},
   "source": [
    "### 2.  Rozšiřte předchozí program tak, že hodnotou bude objekt o dvou prvcích – prvním bude počet výskytů daného písmene v textu, druhým jeho relativní četnost v % (vzhledem k počtu všech písmen v textu)."
   ]
  },
  {
   "cell_type": "code",
   "execution_count": null,
   "metadata": {
    "tags": [
     "solution"
    ]
   },
   "outputs": [],
   "source": [
    "text = ''\n",
    "with open('leacock-abc.txt', mode='r', encoding='utf-8') as f:\n",
    "    text = f.read()\n",
    "\n",
    "statistics = {}\n",
    "letters = 0\n",
    "for char in text:\n",
    "    if not char.isalpha():\n",
    "        continue\n",
    "    if char not in statistics:\n",
    "        statistics[char] = 1\n",
    "    else:\n",
    "        statistics[char] += 1\n",
    "    letters += 1\n",
    "\n",
    "for key in statistics:\n",
    "    tmp = statistics[key]\n",
    "    statistics[key] = tmp, (tmp / letters) * 100\n",
    "\n",
    "statistics"
   ]
  },
  {
   "cell_type": "markdown",
   "metadata": {},
   "source": [
    "### 3. Upravte předchozí program tak, aby nerozlišoval mezi malými a velkými písmeny."
   ]
  },
  {
   "cell_type": "code",
   "execution_count": null,
   "metadata": {
    "tags": [
     "solution"
    ]
   },
   "outputs": [],
   "source": [
    "text = ''\n",
    "with open('leacock-abc.txt', mode='r', encoding='utf-8') as f:\n",
    "    text = f.read().lower()\n",
    "\n",
    "statistics = {}\n",
    "letters = 0\n",
    "for char in text:\n",
    "    if not char.isalpha():\n",
    "        continue\n",
    "    if char not in statistics:\n",
    "        statistics[char] = 1\n",
    "    else:\n",
    "        statistics[char] += 1\n",
    "    letters += 1\n",
    "\n",
    "for key in statistics:\n",
    "    tmp = statistics[key]\n",
    "    statistics[key] = tmp, (tmp / letters) * 100\n",
    "\n",
    "statistics"
   ]
  },
  {
   "cell_type": "markdown",
   "metadata": {},
   "source": [
    "### 4. Obměňte první program tak, aby ukládal počet výskytů nikoli písmen, ale slov.\n",
    "\n",
    "**Hint:** Dejte si pozor na to, že např. ahoj a ahoj! by mělo být to samé slovo. Zřejmě se to tedy bude chtít nějak zbavit interpunkce a dalších věcí. S výhodou můžete použít konstantu string.punctuation ."
   ]
  },
  {
   "cell_type": "code",
   "execution_count": null,
   "metadata": {
    "scrolled": true,
    "tags": [
     "solution"
    ]
   },
   "outputs": [],
   "source": [
    "import string\n",
    "\n",
    "text = ''\n",
    "with open('leacock-abc.txt', mode='r', encoding='utf-8') as f:\n",
    "    text = f.read().split()\n",
    "text = [word.strip(string.punctuation) for word in text]\n",
    "\n",
    "statistics = {}\n",
    "for word in text:\n",
    "    if word not in statistics:\n",
    "        statistics[word] = 1\n",
    "    else:\n",
    "        statistics[word] += 1\n",
    "\n",
    "statistics"
   ]
  },
  {
   "cell_type": "code",
   "execution_count": null,
   "metadata": {
    "scrolled": true,
    "tags": [
     "solution"
    ]
   },
   "outputs": [],
   "source": [
    "# pro zajímavost seřazeno podle počtu výskytů\n",
    "\n",
    "sorted(statistics, key=lambda x: statistics[x], reverse=True)"
   ]
  },
  {
   "cell_type": "markdown",
   "metadata": {},
   "source": [
    "### 5. Rozšiřte předchozí program tak, že hodnotou bude n-tice o dvou prvcích – prvním bude počet výskytů daného slova v textu, druhým jeho relativní četnost v % (vzhledem k počtu všech slov v textu)."
   ]
  },
  {
   "cell_type": "code",
   "execution_count": null,
   "metadata": {
    "scrolled": true,
    "tags": [
     "solution"
    ]
   },
   "outputs": [],
   "source": [
    "import string\n",
    "\n",
    "text = ''\n",
    "with open('leacock-abc.txt', mode='r', encoding='utf-8') as f:\n",
    "    text = f.read().split()\n",
    "text = [word.strip(string.punctuation) for word in text]\n",
    "\n",
    "statistics = {}\n",
    "for word in text:\n",
    "    if word not in statistics:\n",
    "        statistics[word] = 1\n",
    "    else:\n",
    "        statistics[word] += 1\n",
    "\n",
    "n_words = len(text)\n",
    "for key in statistics:\n",
    "    tmp = statistics[key]\n",
    "    statistics[key] = tmp, (tmp / n_words) * 100\n",
    "\n",
    "statistics"
   ]
  },
  {
   "cell_type": "markdown",
   "metadata": {},
   "source": [
    "### 6.  Napište funkci, která spojí dohromady dva slovníky.\n",
    "\n",
    "**Ukázka:** `{\"a\": 1, \"b\": 2, \"c\": 3}, {\"d\": 7, \"e\": 8} => {\"a\": 1, \"b\": 2, \"c\": 3, \"d\": 7, \"e\": 8}`"
   ]
  },
  {
   "cell_type": "code",
   "execution_count": null,
   "metadata": {},
   "outputs": [],
   "source": [
    "a_to_c = {\"a\": 1, \"b\": 2, \"c\": 3}\n",
    "d_to_e = {\"d\": 7, \"e\": 8}"
   ]
  },
  {
   "cell_type": "code",
   "execution_count": null,
   "metadata": {
    "tags": [
     "solution"
    ]
   },
   "outputs": [],
   "source": [
    "def concat_dicts(d1, d2):\n",
    "    d = {}\n",
    "    for k, v in d1.items():\n",
    "        d[k] = v\n",
    "    for k, v in d2.items():\n",
    "        d[k] = v\n",
    "    return d\n",
    "\n",
    "\n",
    "concat_dicts(a_to_c, d_to_e)"
   ]
  },
  {
   "cell_type": "code",
   "execution_count": null,
   "metadata": {
    "tags": [
     "solution"
    ]
   },
   "outputs": [],
   "source": [
    "def concat_dicts(d1, d2):\n",
    "    d = {}\n",
    "    d.update(d1)\n",
    "    d.update(d2)\n",
    "    return d\n",
    "\n",
    "\n",
    "concat_dicts(a_to_c, d_to_e)"
   ]
  },
  {
   "cell_type": "code",
   "execution_count": null,
   "metadata": {
    "tags": [
     "solution"
    ]
   },
   "outputs": [],
   "source": [
    "def concat_dicts(d1, d2):\n",
    "    return dict(d1, **d2)\n",
    "\n",
    "\n",
    "concat_dicts(a_to_c, d_to_e)"
   ]
  },
  {
   "cell_type": "markdown",
   "metadata": {},
   "source": [
    "### 7. Napište funkci, která bude „obracet“ slovník. Bude brát slovník jako jediný argument a vrátí nový slovník, ve kterém budou hodnoty ze vstupního slovníku převedeny na klíče a klíče na hodnoty.\n",
    "\n",
    "**Ukázka:** `{1: 'A', 2: 'B'} => {'A': 1, 'B': 2}`"
   ]
  },
  {
   "cell_type": "code",
   "execution_count": null,
   "metadata": {},
   "outputs": [],
   "source": [
    "to_revert = {1: 'A', 2: 'B'}"
   ]
  },
  {
   "cell_type": "code",
   "execution_count": null,
   "metadata": {
    "tags": [
     "solution"
    ]
   },
   "outputs": [],
   "source": [
    "def invert_dict(dictionary):\n",
    "    ret = {}\n",
    "    for k, v in dictionary.items():\n",
    "        ret[v] = k\n",
    "    return ret\n",
    "\n",
    "\n",
    "invert_dict(to_revert)"
   ]
  },
  {
   "cell_type": "code",
   "execution_count": null,
   "metadata": {
    "tags": [
     "solution"
    ]
   },
   "outputs": [],
   "source": [
    "def invert_dict(dictionary):\n",
    "    return {value: key for key, value in dictionary.items()}\n",
    "\n",
    "\n",
    "invert_dict(to_revert)"
   ]
  },
  {
   "cell_type": "markdown",
   "metadata": {},
   "source": [
    "### 8. Upravte předchozí program tak, aby bral v potaz skutečnost, že hodnoty nemusí být unikátní. Pro každou hodnotu tedy bude vytvářet seznam původních klíčů.\n",
    "\n",
    "**Ukázka:** `{1: 'A', 2: 'B', 3: 'B', 4: 'A', 5: 'C'} => {'A': [1,4], 'B': [2,3], 'C': [5]}`"
   ]
  },
  {
   "cell_type": "code",
   "execution_count": null,
   "metadata": {},
   "outputs": [],
   "source": [
    "to_revert_with_duplicates = {1: 'A', 2: 'B', 3: 'B', 4: 'A', 5: 'C'}"
   ]
  },
  {
   "cell_type": "code",
   "execution_count": null,
   "metadata": {
    "tags": [
     "solution"
    ]
   },
   "outputs": [],
   "source": [
    "def invert_dict_multi(dictionary):\n",
    "    \"\"\"Handles multiple different keys for one value\"\"\"\n",
    "\n",
    "    ret = {}\n",
    "    for k, v in dictionary.items():\n",
    "        if v in ret:\n",
    "            ret[v].append(k)\n",
    "        else:\n",
    "            ret[v] = [k]\n",
    "    return ret\n",
    "\n",
    "\n",
    "invert_dict_multi(to_revert_with_duplicates)"
   ]
  }
 ],
 "metadata": {
  "celltoolbar": "Tags",
  "kernelspec": {
   "display_name": "Python 3 (ipykernel)",
   "language": "python",
   "name": "python3"
  },
  "language_info": {
   "codemirror_mode": {
    "name": "ipython",
    "version": 3
   },
   "file_extension": ".py",
   "mimetype": "text/x-python",
   "name": "python",
   "nbconvert_exporter": "python",
   "pygments_lexer": "ipython3",
   "version": "3.9.6"
  }
 },
 "nbformat": 4,
 "nbformat_minor": 4
}
