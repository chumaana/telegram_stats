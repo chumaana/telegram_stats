{
 "cells": [
  {
   "cell_type": "markdown",
   "metadata": {},
   "source": [
    "# Množiny (set)"
   ]
  },
  {
   "cell_type": "code",
   "execution_count": null,
   "metadata": {},
   "outputs": [],
   "source": [
    "# Vynucení kontroly souladu s PEP8\n",
    "!pip install flake8 pycodestyle pycodestyle_magic\n",
    "%load_ext pycodestyle_magic\n",
    "%pycodestyle_on"
   ]
  },
  {
   "cell_type": "markdown",
   "metadata": {},
   "source": [
    "### 1. Zjistěte, jaké různé znaky se vyskytují v kratším textu. Přitom postupně:\n",
    "\n",
    "- uvažujte rozdíly mezi malými a velkými písmeny\n",
    "- **ne**uvažujte rozdíly mezi malými a velkými písmeny\n",
    "\n",
    "**Hint:** `set('')`"
   ]
  },
  {
   "cell_type": "code",
   "execution_count": null,
   "metadata": {
    "pycharm": {
     "is_executing": false
    },
    "scrolled": true,
    "tags": [
     "solution"
    ]
   },
   "outputs": [],
   "source": [
    "# TODO: Implement your solution."
   ]
  },
  {
   "cell_type": "markdown",
   "metadata": {},
   "source": [
    "### 2.  Zopakujte si předchozí analýzu na větším textu, ale tentokrát hledejte různá slova. Přitom postupně:\n",
    "\n",
    "- uvažujte rozdíly mezi malými a velkými písmeny\n",
    "- neuvažujte rozdíly mezi malými a velkými písmeny (tj. Auto = auto apod.)\n",
    "- odstraňte interpunkci (tj. auto, = auto apod.)\n",
    "\n",
    "**Hint:** `import string; string.punctuation`"
   ]
  },
  {
   "cell_type": "code",
   "execution_count": null,
   "metadata": {
    "pycharm": {
     "is_executing": false
    },
    "scrolled": true,
    "tags": [
     "solution"
    ]
   },
   "outputs": [],
   "source": [
    "# TODO: Implement your solution."
   ]
  },
  {
   "cell_type": "code",
   "execution_count": null,
   "metadata": {
    "pycharm": {
     "is_executing": false
    },
    "scrolled": true,
    "tags": [
     "solution"
    ]
   },
   "outputs": [],
   "source": [
    "# TODO: Implement your solution."
   ]
  },
  {
   "cell_type": "code",
   "execution_count": null,
   "metadata": {
    "pycharm": {
     "is_executing": false
    },
    "scrolled": true,
    "tags": [
     "solution"
    ]
   },
   "outputs": [],
   "source": [
    "# TODO: Implement your solution."
   ]
  },
  {
   "cell_type": "markdown",
   "metadata": {},
   "source": [
    "### 3. Proveďte předchozí analýzu pro dva různé texty a porovnejte výsledky následujícím způsobem:\n",
    "\n",
    "- zjistěte, která slova se vyskytují v obou textech\n",
    "- vytvořte množinu všech slov, která je možno v uvedených textech najít\n",
    "- najděte slova, která obsahuje pouze první text a která obsahuje pouze druhý text\n",
    "- vytvořte množinu slov, která oba texty nemají společná\n",
    "\n",
    "**Hint:** průnik, sjednocení, rozdíl a rozdíl, symetrický rozdíl"
   ]
  },
  {
   "cell_type": "code",
   "execution_count": null,
   "metadata": {
    "pycharm": {
     "is_executing": false
    },
    "scrolled": true,
    "tags": [
     "solution"
    ]
   },
   "outputs": [],
   "source": [
    "# TODO: Implement your solution."
   ]
  },
  {
   "cell_type": "code",
   "execution_count": null,
   "metadata": {
    "pycharm": {
     "is_executing": false
    },
    "scrolled": true,
    "tags": [
     "solution"
    ]
   },
   "outputs": [],
   "source": [
    "# TODO: Implement your solution."
   ]
  },
  {
   "cell_type": "code",
   "execution_count": null,
   "metadata": {
    "pycharm": {
     "is_executing": false
    },
    "scrolled": true,
    "tags": [
     "solution"
    ]
   },
   "outputs": [],
   "source": [
    "# TODO: Implement your solution."
   ]
  },
  {
   "cell_type": "code",
   "execution_count": null,
   "metadata": {
    "pycharm": {
     "is_executing": false
    },
    "scrolled": true,
    "tags": [
     "solution"
    ]
   },
   "outputs": [],
   "source": [
    "# TODO: Implement your solution."
   ]
  },
  {
   "cell_type": "markdown",
   "metadata": {},
   "source": [
    "### 4. Ještě jednou zanalyzujte text na výskyt slov, tentokrát se ale ptejte po tom, jak různě dlouhá slova se v textu vyskytují."
   ]
  },
  {
   "cell_type": "code",
   "execution_count": null,
   "metadata": {
    "pycharm": {
     "is_executing": false
    },
    "tags": [
     "solution"
    ]
   },
   "outputs": [],
   "source": [
    "# TODO: Implement your solution."
   ]
  },
  {
   "cell_type": "markdown",
   "metadata": {},
   "source": [
    "### 5. Ze zadané věty vyextrahujte množinu v ní obsažených slov. Prvky množiny budou n-tice, jejichž prvním prvkem budou jednotlivá slova z textu a druhým počet jejich výskytů v textu."
   ]
  },
  {
   "cell_type": "code",
   "execution_count": null,
   "metadata": {
    "pycharm": {
     "is_executing": false
    },
    "scrolled": true
   },
   "outputs": [],
   "source": [
    "sentence = \"\"\"\n",
    "    třistatřiatřicet stříbrných stříkaček stříkalo přes\n",
    "    třistatřiatřicet stříbrných střech\n",
    "    \"\"\""
   ]
  },
  {
   "cell_type": "code",
   "execution_count": null,
   "metadata": {
    "pycharm": {
     "is_executing": false
    },
    "tags": [
     "solution"
    ]
   },
   "outputs": [],
   "source": [
    "# TODO: Implement your solution."
   ]
  }
 ],
 "metadata": {
  "kernelspec": {
   "display_name": "Python 3 (ipykernel)",
   "language": "python",
   "name": "python3"
  },
  "language_info": {
   "codemirror_mode": {
    "name": "ipython",
    "version": 3
   },
   "file_extension": ".py",
   "mimetype": "text/x-python",
   "name": "python",
   "nbconvert_exporter": "python",
   "pygments_lexer": "ipython3",
   "version": "3.9.6"
  },
  "pycharm": {
   "stem_cell": {
    "cell_type": "raw",
    "metadata": {
     "collapsed": false
    },
    "source": []
   }
  }
 },
 "nbformat": 4,
 "nbformat_minor": 4
}
