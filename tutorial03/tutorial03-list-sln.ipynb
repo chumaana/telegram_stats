{
 "cells": [
  {
   "cell_type": "code",
   "execution_count": null,
   "metadata": {},
   "outputs": [],
   "source": [
    "# Vynucení kontroly souladu s PEP8\n",
    "!pip install flake8 pycodestyle pycodestyle_magic\n",
    "%load_ext pycodestyle_magic\n",
    "%pycodestyle_on"
   ]
  },
  {
   "cell_type": "markdown",
   "metadata": {},
   "source": [
    "# Seznamy"
   ]
  },
  {
   "cell_type": "markdown",
   "metadata": {},
   "source": [
    "### Vraťte součet všech prvků v seznamu zadaném jako argument funkce bez použití funkce sum."
   ]
  },
  {
   "cell_type": "code",
   "execution_count": null,
   "metadata": {},
   "outputs": [],
   "source": [
    "seznam = [1, 2, 3, 1, 5]"
   ]
  },
  {
   "cell_type": "code",
   "execution_count": null,
   "metadata": {
    "tags": [
     "solution"
    ]
   },
   "outputs": [],
   "source": [
    "def secti(xs):\n",
    "    ret = 0\n",
    "    for x in xs:\n",
    "        ret += x\n",
    "    return ret\n",
    "\n",
    "\n",
    "secti(seznam)"
   ]
  },
  {
   "cell_type": "markdown",
   "metadata": {},
   "source": [
    "### 2. Vypište zadaný seznam v opačném pořadí bez použití metody reverse()."
   ]
  },
  {
   "cell_type": "code",
   "execution_count": null,
   "metadata": {
    "tags": [
     "solution"
    ]
   },
   "outputs": [],
   "source": [
    "def otoc(xs):\n",
    "    ret = []\n",
    "    for x in xs:\n",
    "        ret.insert(0, x)\n",
    "    return ret\n",
    "\n",
    "\n",
    "otoc(seznam)"
   ]
  },
  {
   "cell_type": "code",
   "execution_count": null,
   "metadata": {
    "tags": [
     "solution"
    ]
   },
   "outputs": [],
   "source": [
    "print(seznam[::-1])\n",
    "print(seznam[-1::-1])"
   ]
  },
  {
   "cell_type": "markdown",
   "metadata": {},
   "source": [
    "### 3. Předstírejte na chvíli, že neumíte pracovat s výjimkami, a smažte ze seznamu všechny výskyty zadaného prvku."
   ]
  },
  {
   "cell_type": "code",
   "execution_count": null,
   "metadata": {},
   "outputs": [],
   "source": [
    "pole = [1, 1, 2, 3, 1, 1, 2, 1]"
   ]
  },
  {
   "cell_type": "code",
   "execution_count": null,
   "metadata": {
    "tags": [
     "solution"
    ]
   },
   "outputs": [],
   "source": [
    "pole = [1, 1, 2, 3, 1, 1, 2, 1]\n",
    "mazany_prvek = 2\n",
    "\n",
    "print(pole)\n",
    "\n",
    "for i in range(pole.count(mazany_prvek)):\n",
    "    pole.remove(mazany_prvek)\n",
    "\n",
    "print(pole)"
   ]
  },
  {
   "cell_type": "code",
   "execution_count": null,
   "metadata": {
    "tags": [
     "solution"
    ]
   },
   "outputs": [],
   "source": [
    "def smaz_z_pole_for(pole, co):\n",
    "    # iterátor smyčky je sestaven z původního pole\n",
    "    # a během výpočtu se nemění\n",
    "    for i, x in enumerate(pole):\n",
    "        if x == co:\n",
    "            # Zde příslušný prvek vždy odstraníme, čímž se PŮVODNÍ pole zmenší\n",
    "            # o jedničku a následující index smyčky tak bude o jeden prvek dále\n",
    "            # Ale dokud nebudou následovat dva stejné prvky za sebou,\n",
    "            # vše bude svým způsobem „fungovat“.\n",
    "            pole.pop(i)\n",
    "\n",
    "\n",
    "pole = [1, 1, 2, 3, 1, 1, 2, 1]\n",
    "print(pole)\n",
    "\n",
    "print('Odstraňujeme prvek 2 (který se neopakuje po sobě):')\n",
    "smaz_z_pole_for(pole, 2)\n",
    "print(pole)\n",
    "\n",
    "print('Odstraňujeme prvek 1 (který se opakuje po sobě):')\n",
    "smaz_z_pole_for(pole, 1)\n",
    "print(pole)"
   ]
  },
  {
   "cell_type": "code",
   "execution_count": null,
   "metadata": {
    "tags": [
     "solution"
    ]
   },
   "outputs": [],
   "source": [
    "def smaz_z_pole_while(pole, co):\n",
    "    while co in pole:\n",
    "        pole.pop(pole.index(co))\n",
    "\n",
    "\n",
    "print('Odstraňujeme prvek 2 (který se neopakuje po sobě):')\n",
    "pole = [1, 1, 2, 3, 1, 1, 2, 1]\n",
    "print(pole)\n",
    "smaz_z_pole_while(pole, 2)\n",
    "print(pole)\n",
    "\n",
    "print('Odstraňujeme prvek 1 (který se opakuje po sobě):')\n",
    "\n",
    "smaz_z_pole_while(pole, 1)\n",
    "print(pole)"
   ]
  },
  {
   "cell_type": "markdown",
   "metadata": {},
   "source": [
    "### 4. Napište fukci, která bere jako první argument seznam celých čísel xs a jako druhý jedno celé číslo y. Výstupem funkce je seznam ys obsahující ta čísla z xs, která jsou větší než y.\n",
    "\n",
    "**Ukázka:** `f([1, 2, 3, 1, 4, 2, 6], 3) => [4, 6]`"
   ]
  },
  {
   "cell_type": "code",
   "execution_count": null,
   "metadata": {},
   "outputs": [],
   "source": [
    "cela_cisla = [1, 2, 3, 1, 4, 2, 6]"
   ]
  },
  {
   "cell_type": "code",
   "execution_count": null,
   "metadata": {
    "tags": [
     "solution"
    ]
   },
   "outputs": [],
   "source": [
    "def bigger_than(xs, y):\n",
    "    bigger = []\n",
    "    for x in xs:\n",
    "        if x > y:\n",
    "            bigger.append(x)\n",
    "    return bigger\n",
    "\n",
    "\n",
    "bigger_than(cela_cisla, 3)"
   ]
  },
  {
   "cell_type": "code",
   "execution_count": null,
   "metadata": {
    "tags": [
     "solution"
    ]
   },
   "outputs": [],
   "source": [
    "def bigger_than(xs, y):\n",
    "    return [x for x in xs if x > y]\n",
    "\n",
    "\n",
    "print(bigger_than(cela_cisla, 3))"
   ]
  },
  {
   "cell_type": "markdown",
   "metadata": {},
   "source": [
    "### 5. Napište fukci, která bere jako argument seznam celých čísel xs a vrací seznam ys, ve kterém jsou odstraněny všechny duplikáty prvků v seznamu xs.\n",
    "\n",
    "**Ukázka:** `f([1, 2, 3, 1, 4, 2, 6]) => [1, 2, 3, 4, 6]`"
   ]
  },
  {
   "cell_type": "code",
   "execution_count": null,
   "metadata": {
    "tags": [
     "solution"
    ]
   },
   "outputs": [],
   "source": [
    "def remove_duplicates(xs):\n",
    "    unique = []\n",
    "    [unique.append(x) for x in xs if x not in unique]\n",
    "    return unique\n",
    "\n",
    "\n",
    "remove_duplicates(cela_cisla)"
   ]
  },
  {
   "cell_type": "code",
   "execution_count": null,
   "metadata": {
    "tags": [
     "solution"
    ]
   },
   "outputs": [],
   "source": [
    "list(set(cela_cisla))"
   ]
  },
  {
   "cell_type": "markdown",
   "metadata": {},
   "source": [
    "### 6.  Napište fukci, která bere jako první argument seznam celých čísel xs a jako druhý jedno celé číslo y. Výstupem funkce je seznam všech pozic prvku y v seznamu xs.\n",
    "\n",
    "**Ukázka:** `f([1, 2, 3, 1, 4, 2, 6], 2) => [1, 5]`\n",
    "\n",
    "**Ukázka:** `f([1, 2, 3, 1, 4, 2, 6], 5) => []`"
   ]
  },
  {
   "cell_type": "code",
   "execution_count": null,
   "metadata": {
    "tags": [
     "solution"
    ]
   },
   "outputs": [],
   "source": [
    "def indexes(xs, y):\n",
    "    return [i for i, x in enumerate(xs) if x == y]\n",
    "\n",
    "\n",
    "print(indexes(cela_cisla, 2))\n",
    "print(indexes(cela_cisla, 5))"
   ]
  },
  {
   "cell_type": "markdown",
   "metadata": {},
   "source": [
    "### 7. Napište fukci, která bere jako argument seznam celých čísel xs a vrací ten prvek, který je jako první roven svému následovníkovi. Neexistuje-li takový prvek, vrací None.\n",
    "\n",
    "**Ukázka:** `f([0, 3, 4, 5, 5, 4, 2, 2, 4]) => 5`\n",
    "\n",
    "**Ukázka:** `f([0, 3, 4, 5, 6, 7]) => None`"
   ]
  },
  {
   "cell_type": "code",
   "execution_count": null,
   "metadata": {},
   "outputs": [],
   "source": [
    "duplicity = [0, 3, 4, 5, 5, 4, 2, 2, 4]\n",
    "bez_duplicit = [0, 3, 4, 5, 6, 7]"
   ]
  },
  {
   "cell_type": "code",
   "execution_count": null,
   "metadata": {
    "tags": [
     "solution"
    ]
   },
   "outputs": [],
   "source": [
    "def first_equal_successor(xs):\n",
    "    previous = None\n",
    "    for x in xs:\n",
    "        if x == previous:\n",
    "            return x\n",
    "        previous = x\n",
    "    return None\n",
    "\n",
    "\n",
    "print(first_equal_successor(duplicity))\n",
    "print(first_equal_successor(bez_duplicit))"
   ]
  },
  {
   "cell_type": "markdown",
   "metadata": {},
   "source": [
    "### 8. Napište fukci, která bere jako argument seznam celých čísel xs a vrací seznam takových prvků z xs, které jsou rovny svým následovníkům.\n",
    "\n",
    "**Ukázka:** `f([0, 3, 4, 5, 5, 4, 2, 2, 4]) => [5, 2]`\n",
    "\n",
    "**Ukázka:** `f([0, 3, 4, 5, 6, 7]) => []`"
   ]
  },
  {
   "cell_type": "code",
   "execution_count": null,
   "metadata": {
    "tags": [
     "solution"
    ]
   },
   "outputs": [],
   "source": [
    "def all_equal_successors(xs):\n",
    "    return [\n",
    "        x\n",
    "        for i, x\n",
    "        in enumerate(xs)\n",
    "        if i + 1 < len(xs) and x == xs[i + 1]\n",
    "    ]\n",
    "\n",
    "\n",
    "print(all_equal_successors(duplicity))\n",
    "print(all_equal_successors(bez_duplicit))"
   ]
  }
 ],
 "metadata": {
  "celltoolbar": "Tags",
  "kernelspec": {
   "display_name": "Python 3 (ipykernel)",
   "language": "python",
   "name": "python3"
  },
  "language_info": {
   "codemirror_mode": {
    "name": "ipython",
    "version": 3
   },
   "file_extension": ".py",
   "mimetype": "text/x-python",
   "name": "python",
   "nbconvert_exporter": "python",
   "pygments_lexer": "ipython3",
   "version": "3.9.6"
  }
 },
 "nbformat": 4,
 "nbformat_minor": 4
}
