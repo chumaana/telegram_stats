{
 "cells": [
  {
   "cell_type": "code",
   "execution_count": null,
   "metadata": {},
   "outputs": [],
   "source": [
    "# Vynucení kontroly souladu s PEP8\n",
    "!pip install flake8 pycodestyle pycodestyle_magic\n",
    "%load_ext pycodestyle_magic\n",
    "%pycodestyle_on"
   ]
  },
  {
   "cell_type": "markdown",
   "metadata": {},
   "source": [
    "# Slovníky (dict)"
   ]
  },
  {
   "cell_type": "markdown",
   "metadata": {},
   "source": [
    "### 1. Zanalyzujte vstupní textový soubor následujícím způsobem: Vytvořte slovník, jehož klíči budou jednotlivá písmena a hodnotami počet jejich výskytů v textu. Uvedený slovník vypište pomocí pprint.pprint()."
   ]
  },
  {
   "cell_type": "code",
   "execution_count": null,
   "metadata": {
    "tags": [
     "solution"
    ]
   },
   "outputs": [],
   "source": [
    "# TODO: Implement your solution."
   ]
  },
  {
   "cell_type": "markdown",
   "metadata": {},
   "source": [
    "### 2.  Rozšiřte předchozí program tak, že hodnotou bude objekt o dvou prvcích – prvním bude počet výskytů daného písmene v textu, druhým jeho relativní četnost v % (vzhledem k počtu všech písmen v textu)."
   ]
  },
  {
   "cell_type": "code",
   "execution_count": null,
   "metadata": {
    "tags": [
     "solution"
    ]
   },
   "outputs": [],
   "source": [
    "# TODO: Implement your solution."
   ]
  },
  {
   "cell_type": "markdown",
   "metadata": {},
   "source": [
    "### 3. Upravte předchozí program tak, aby nerozlišoval mezi malými a velkými písmeny."
   ]
  },
  {
   "cell_type": "code",
   "execution_count": null,
   "metadata": {
    "tags": [
     "solution"
    ]
   },
   "outputs": [],
   "source": [
    "# TODO: Implement your solution."
   ]
  },
  {
   "cell_type": "markdown",
   "metadata": {},
   "source": [
    "### 4. Obměňte první program tak, aby ukládal počet výskytů nikoli písmen, ale slov.\n",
    "\n",
    "**Hint:** Dejte si pozor na to, že např. ahoj a ahoj! by mělo být to samé slovo. Zřejmě se to tedy bude chtít nějak zbavit interpunkce a dalších věcí. S výhodou můžete použít konstantu string.punctuation ."
   ]
  },
  {
   "cell_type": "code",
   "execution_count": null,
   "metadata": {
    "scrolled": true,
    "tags": [
     "solution"
    ]
   },
   "outputs": [],
   "source": [
    "# TODO: Implement your solution."
   ]
  },
  {
   "cell_type": "code",
   "execution_count": null,
   "metadata": {
    "scrolled": true,
    "tags": [
     "solution"
    ]
   },
   "outputs": [],
   "source": [
    "# TODO: Implement your solution."
   ]
  },
  {
   "cell_type": "markdown",
   "metadata": {},
   "source": [
    "### 5. Rozšiřte předchozí program tak, že hodnotou bude n-tice o dvou prvcích – prvním bude počet výskytů daného slova v textu, druhým jeho relativní četnost v % (vzhledem k počtu všech slov v textu)."
   ]
  },
  {
   "cell_type": "code",
   "execution_count": null,
   "metadata": {
    "scrolled": true,
    "tags": [
     "solution"
    ]
   },
   "outputs": [],
   "source": [
    "# TODO: Implement your solution."
   ]
  },
  {
   "cell_type": "markdown",
   "metadata": {},
   "source": [
    "### 6.  Napište funkci, která spojí dohromady dva slovníky.\n",
    "\n",
    "**Ukázka:** `{\"a\": 1, \"b\": 2, \"c\": 3}, {\"d\": 7, \"e\": 8} => {\"a\": 1, \"b\": 2, \"c\": 3, \"d\": 7, \"e\": 8}`"
   ]
  },
  {
   "cell_type": "code",
   "execution_count": null,
   "metadata": {},
   "outputs": [],
   "source": [
    "a_to_c = {\"a\": 1, \"b\": 2, \"c\": 3}\n",
    "d_to_e = {\"d\": 7, \"e\": 8}"
   ]
  },
  {
   "cell_type": "code",
   "execution_count": null,
   "metadata": {
    "tags": [
     "solution"
    ]
   },
   "outputs": [],
   "source": [
    "# TODO: Implement your solution."
   ]
  },
  {
   "cell_type": "code",
   "execution_count": null,
   "metadata": {
    "tags": [
     "solution"
    ]
   },
   "outputs": [],
   "source": [
    "# TODO: Implement your solution."
   ]
  },
  {
   "cell_type": "code",
   "execution_count": null,
   "metadata": {
    "tags": [
     "solution"
    ]
   },
   "outputs": [],
   "source": [
    "# TODO: Implement your solution."
   ]
  },
  {
   "cell_type": "markdown",
   "metadata": {},
   "source": [
    "### 7. Napište funkci, která bude „obracet“ slovník. Bude brát slovník jako jediný argument a vrátí nový slovník, ve kterém budou hodnoty ze vstupního slovníku převedeny na klíče a klíče na hodnoty.\n",
    "\n",
    "**Ukázka:** `{1: 'A', 2: 'B'} => {'A': 1, 'B': 2}`"
   ]
  },
  {
   "cell_type": "code",
   "execution_count": null,
   "metadata": {},
   "outputs": [],
   "source": [
    "to_revert = {1: 'A', 2: 'B'}"
   ]
  },
  {
   "cell_type": "code",
   "execution_count": null,
   "metadata": {
    "tags": [
     "solution"
    ]
   },
   "outputs": [],
   "source": [
    "# TODO: Implement your solution."
   ]
  },
  {
   "cell_type": "code",
   "execution_count": null,
   "metadata": {
    "tags": [
     "solution"
    ]
   },
   "outputs": [],
   "source": [
    "# TODO: Implement your solution."
   ]
  },
  {
   "cell_type": "markdown",
   "metadata": {},
   "source": [
    "### 8. Upravte předchozí program tak, aby bral v potaz skutečnost, že hodnoty nemusí být unikátní. Pro každou hodnotu tedy bude vytvářet seznam původních klíčů.\n",
    "\n",
    "**Ukázka:** `{1: 'A', 2: 'B', 3: 'B', 4: 'A', 5: 'C'} => {'A': [1,4], 'B': [2,3], 'C': [5]}`"
   ]
  },
  {
   "cell_type": "code",
   "execution_count": null,
   "metadata": {},
   "outputs": [],
   "source": [
    "to_revert_with_duplicates = {1: 'A', 2: 'B', 3: 'B', 4: 'A', 5: 'C'}"
   ]
  },
  {
   "cell_type": "code",
   "execution_count": null,
   "metadata": {
    "tags": [
     "solution"
    ]
   },
   "outputs": [],
   "source": [
    "# TODO: Implement your solution."
   ]
  }
 ],
 "metadata": {
  "kernelspec": {
   "display_name": "Python 3 (ipykernel)",
   "language": "python",
   "name": "python3"
  },
  "language_info": {
   "codemirror_mode": {
    "name": "ipython",
    "version": 3
   },
   "file_extension": ".py",
   "mimetype": "text/x-python",
   "name": "python",
   "nbconvert_exporter": "python",
   "pygments_lexer": "ipython3",
   "version": "3.9.6"
  }
 },
 "nbformat": 4,
 "nbformat_minor": 4
}
