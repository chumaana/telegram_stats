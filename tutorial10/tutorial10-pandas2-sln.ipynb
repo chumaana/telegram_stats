{
 "cells": [
  {
   "cell_type": "markdown",
   "metadata": {},
   "source": [
    "# Pandas I"
   ]
  },
  {
   "cell_type": "code",
   "execution_count": null,
   "metadata": {},
   "outputs": [],
   "source": [
    "# Vynucení kontroly souladu s PEP8\n",
    "!pip install flake8 pycodestyle pycodestyle_magic\n",
    "%load_ext pycodestyle_magic\n",
    "%pycodestyle_on"
   ]
  },
  {
   "cell_type": "markdown",
   "metadata": {},
   "source": [
    "### 0. Připravte si data\n",
    "\n",
    "Soubor `season-1819_csv.csv` ve složce `data` pochází z:\n",
    "https://datahub.io/sports-data/english-premier-league/r/season-1819.csv"
   ]
  },
  {
   "cell_type": "markdown",
   "metadata": {},
   "source": [
    "### 1. Načtěte data set `season-1819_csv.csv` a provedte následující úpravy:\n",
    "\n",
    "1. načtěte pouze prvních 17 sloupců\n",
    "1. zahoďte sloupce Div, FTR a HTR\n",
    "1. sloupec Date převeďte na datetime\n",
    "1. přejmenujte sloupce:\n",
    "  * FTHG: FullTimeHomeGoals\n",
    "  * FTAG: FullTimeAwayGoals\n",
    "  * HTHG: HalfTimeHomeGoals\n",
    "  * HTAG: HalfTimeAwayGoals\n",
    "  * HS: HomeShots\n",
    "  * AS: AwayShots\n",
    "  * HST: HomeShotsTarget\n",
    "  * AST: AwayShotsTarget\n",
    "  * HF: HomeFauls\n",
    "  * AF: AwayFauls"
   ]
  },
  {
   "cell_type": "code",
   "execution_count": null,
   "metadata": {},
   "outputs": [],
   "source": [
    "%matplotlib inline\n",
    "\n",
    "import matplotlib.pyplot as plt\n",
    "import pandas as pd"
   ]
  },
  {
   "cell_type": "code",
   "execution_count": null,
   "metadata": {},
   "outputs": [],
   "source": [
    "DATA_FOLDER = 'data'\n",
    "DATA_SET = 'season-1819_csv.csv'"
   ]
  },
  {
   "cell_type": "code",
   "execution_count": null,
   "metadata": {
    "tags": [
     "solution"
    ]
   },
   "outputs": [],
   "source": [
    "import os\n",
    "\n",
    "matches = (\n",
    "    pd.read_csv(\n",
    "        os.path.join(DATA_FOLDER, DATA_SET),\n",
    "        parse_dates=['Date'],\n",
    "        usecols=range(0, 17),\n",
    "    )\n",
    "    .drop(['Div', 'FTR', 'HTR'], axis='columns')\n",
    "    .rename(columns={\n",
    "        'FTHG': 'FullTimeHomeGoals',\n",
    "        'FTAG': 'FullTimeAwayGoals',\n",
    "        'HTHG': 'HalfTimeHomeGoals',\n",
    "        'HTAG': 'HalfTimeAwayGoals',\n",
    "        'HS': 'HomeShots',\n",
    "        'AS': 'AwayShots',\n",
    "        'HST': 'HomeShotsTarget',\n",
    "        'AST': 'AwayShotsTarget',\n",
    "        'HF': 'HomeFauls',\n",
    "        'AF': 'AwayFauls'\n",
    "    })\n",
    ")\n",
    "\n",
    "matches.head()"
   ]
  },
  {
   "cell_type": "markdown",
   "metadata": {},
   "source": [
    "### 2. Zjistěte jaké datové typy mají všechny sloupečky, zda data set obsahuje nějaké NaN hodnoty a jaké jsou základní statistiky číselných sloupců."
   ]
  },
  {
   "cell_type": "code",
   "execution_count": null,
   "metadata": {
    "tags": [
     "solution"
    ]
   },
   "outputs": [],
   "source": [
    "matches.info()"
   ]
  },
  {
   "cell_type": "code",
   "execution_count": null,
   "metadata": {
    "tags": [
     "solution"
    ]
   },
   "outputs": [],
   "source": [
    "matches.describe().transpose()"
   ]
  },
  {
   "cell_type": "markdown",
   "metadata": {},
   "source": [
    "### 3. Zjistěte kolik různých týmů hraje anglickou ligu? Jaké týmy to jsou?"
   ]
  },
  {
   "cell_type": "code",
   "execution_count": null,
   "metadata": {
    "tags": [
     "solution"
    ]
   },
   "outputs": [],
   "source": [
    "teams = matches.HomeTeam.unique().tolist()\n",
    "teams"
   ]
  },
  {
   "cell_type": "code",
   "execution_count": null,
   "metadata": {
    "tags": [
     "solution"
    ]
   },
   "outputs": [],
   "source": [
    "len(teams)"
   ]
  },
  {
   "cell_type": "code",
   "execution_count": null,
   "metadata": {},
   "outputs": [],
   "source": [
    "matches.head()"
   ]
  },
  {
   "cell_type": "markdown",
   "metadata": {},
   "source": [
    "### 4. Přidejte sloupečky `HomeShotAccuracy` a `AwayShotAccuracy`, které říkají jaké procento střeleckých pokusů (Shots) nakonec mířilo na bránu (ShotsTarget). Vizualizujte rozdělení hodnot obou sloupců."
   ]
  },
  {
   "cell_type": "code",
   "execution_count": null,
   "metadata": {},
   "outputs": [],
   "source": [
    "# redefine the default size of the plots\n",
    "plt.rcParams['figure.figsize'] = (24, 6)\n",
    "# redefine default color scheme\n",
    "plt.style.use('ggplot')"
   ]
  },
  {
   "cell_type": "code",
   "execution_count": null,
   "metadata": {
    "tags": [
     "solution"
    ]
   },
   "outputs": [],
   "source": [
    "def shot_accuracy(\n",
    "    shots: pd.Series,\n",
    "    shots_on_target: pd.Series,\n",
    ") -> pd.Series:\n",
    "    return shots_on_target / shots * 100\n",
    "\n",
    "\n",
    "matches['HomeShotAccuracy'] = shot_accuracy(\n",
    "    matches.HomeShots, matches.HomeShotsTarget)\n",
    "matches['AwayShotAccuracy'] = shot_accuracy(\n",
    "    matches.AwayShots, matches.AwayShotsTarget)\n",
    "\n",
    "matches[\n",
    "    [\n",
    "        'HomeShots',\n",
    "        'HomeShotsTarget',\n",
    "        'HomeShotAccuracy',\n",
    "        'AwayShotAccuracy',\n",
    "    ]\n",
    "].head()"
   ]
  },
  {
   "cell_type": "code",
   "execution_count": null,
   "metadata": {
    "tags": [
     "solution"
    ]
   },
   "outputs": [],
   "source": [
    "matches['HomeShotAccuracy'].plot.hist(\n",
    "    title='Home team shot accuracy distribution',\n",
    ")\n",
    "plt.show()\n",
    "matches['AwayShotAccuracy'].plot.hist(\n",
    "    title='Away team shot accuracy distribution',\n",
    "    color='steelblue',\n",
    ")"
   ]
  },
  {
   "cell_type": "code",
   "execution_count": null,
   "metadata": {},
   "outputs": [],
   "source": [
    "(\n",
    "    matches\n",
    "    [['HomeShotAccuracy', 'AwayShotAccuracy']]\n",
    "    .plot.box(title='Shot accuracy distribution', figsize=(24, 10))\n",
    ")\n",
    "plt.ylabel('Accuracy [%]')"
   ]
  },
  {
   "cell_type": "markdown",
   "metadata": {},
   "source": [
    "### 5. Vytvořte sloupeček `FullTimeWinner`, který obsahuje:\n",
    "\n",
    "- `H`, pokud zvítězil `HomeTeam`\n",
    "- `A`, pokud zvítězil `AwayTeam`\n",
    "- `D`, pokud zápas skončil remízou\n",
    "\n",
    "**Poznámka: Zatím neznáme apply, ale známe loc. Použijte tedy šikovně loc.** "
   ]
  },
  {
   "cell_type": "code",
   "execution_count": null,
   "metadata": {},
   "outputs": [],
   "source": []
  },
  {
   "cell_type": "code",
   "execution_count": null,
   "metadata": {
    "tags": [
     "solution"
    ]
   },
   "outputs": [],
   "source": [
    "matches['FullTimeWinner'] = 'D'\n",
    "\n",
    "is_home_winner = matches.FullTimeHomeGoals > matches.FullTimeAwayGoals\n",
    "is_away_winner = matches.FullTimeHomeGoals < matches.FullTimeAwayGoals\n",
    "\n",
    "matches.loc[is_home_winner, 'FullTimeWinner'] = 'H'\n",
    "matches.loc[is_away_winner, 'FullTimeWinner'] = 'A'\n",
    "\n",
    "matches[\n",
    "    ['FullTimeHomeGoals', 'FullTimeAwayGoals', 'FullTimeWinner']\n",
    "].head(10)"
   ]
  },
  {
   "cell_type": "markdown",
   "metadata": {},
   "source": [
    "### 6. Řekněme, že nás zajímá tým West Ham. Zjistětě, kolik průměrně vsítí gólů v domácích zápasech, které vyhraje a kolik v domácích zápasech, které prohraje."
   ]
  },
  {
   "cell_type": "code",
   "execution_count": null,
   "metadata": {
    "tags": [
     "solution"
    ]
   },
   "outputs": [],
   "source": [
    "selected_team = 'West Ham'\n",
    "\n",
    "is_team_home_match = matches.HomeTeam == selected_team\n",
    "is_home_team_win = matches.FullTimeWinner == 'H'\n",
    "is_home_team_lose = matches.FullTimeWinner == 'A'\n",
    "\n",
    "win_goals_mean = (\n",
    "    matches\n",
    "    .loc[\n",
    "        is_team_home_match & is_home_team_win,\n",
    "        'FullTimeHomeGoals'\n",
    "    ]\n",
    "    .mean()\n",
    ")\n",
    "lost_goals_mean = (\n",
    "    matches\n",
    "    .loc[\n",
    "        is_team_home_match & is_home_team_lose,\n",
    "        'FullTimeHomeGoals'\n",
    "    ]\n",
    "    .mean()\n",
    ")\n",
    "\n",
    "(\n",
    "    f\"Mean of goals scored during home victory:\"\n",
    "    \" {win_goals_mean:.2f}, defeat: {lost_goals_mean:.2f}\"\n",
    ")"
   ]
  },
  {
   "cell_type": "markdown",
   "metadata": {},
   "source": [
    "### 7. Jaký je median faulů, střel na branku a vstřelených gólů West Ham pro předchozích pět domácích zápasů? Jak se tyto statistiky vyvíjí v čase? Vizualizujte je."
   ]
  },
  {
   "cell_type": "code",
   "execution_count": null,
   "metadata": {
    "tags": [
     "solution"
    ]
   },
   "outputs": [],
   "source": [
    "(\n",
    "    matches\n",
    "    .loc[\n",
    "        is_team_home_match,\n",
    "        ['Date', 'HomeFauls', 'HomeShotsTarget', 'FullTimeHomeGoals']\n",
    "    ]\n",
    "    .set_index('Date')\n",
    "    .rolling(5).median()\n",
    "    .dropna()\n",
    "    .plot(title='Trend of last 5 matches')\n",
    ")"
   ]
  },
  {
   "cell_type": "markdown",
   "metadata": {},
   "source": [
    "### 8. Je domácí prostředí výhodou?\n",
    "\n",
    "**Poznámka: Součástí řešení je zamyslet se, jakou formou tuto otázku zodpovědět a jaké předpoklady si mohu dovolit udělat.** "
   ]
  },
  {
   "cell_type": "code",
   "execution_count": null,
   "metadata": {
    "tags": [
     "solution"
    ]
   },
   "outputs": [],
   "source": [
    "(\n",
    "    matches\n",
    "    .FullTimeWinner\n",
    "    .value_counts()\n",
    "    .div(len(matches))  # normalize counts\n",
    "    .plot.bar(title='Result class counts')\n",
    ")\n",
    "plt.ylabel('Match count')"
   ]
  },
  {
   "cell_type": "markdown",
   "metadata": {},
   "source": [
    "### 9. Kolik který rozhodčí odpískal za sezónu průměrně faulů za zápas? Seřaďte je od těch nejpřísnějších."
   ]
  },
  {
   "cell_type": "code",
   "execution_count": null,
   "metadata": {
    "tags": [
     "solution"
    ]
   },
   "outputs": [],
   "source": [
    "(\n",
    "    matches\n",
    "    .assign(Fauls=matches.HomeFauls + matches.AwayFauls)\n",
    "    .groupby('Referee')\n",
    "    .mean()\n",
    "    ['Fauls']\n",
    "    .sort_values(ascending=False)\n",
    ")"
   ]
  },
  {
   "cell_type": "markdown",
   "metadata": {},
   "source": [
    "### 10. A) Budu víc vyhrávat, když budu víc faulovat?\n",
    "### 10. B) Platí stará fotbalová moudrost, že kdo nestřílí, nevyhraje? Tzn. je rozdíl mezi střelbou - a střelbou na bránu - u vítězných a poražených týmů?"
   ]
  },
  {
   "cell_type": "code",
   "execution_count": null,
   "metadata": {
    "tags": [
     "solution"
    ]
   },
   "outputs": [],
   "source": [
    "# 1. Discuss potential solutions with students\n",
    "# 2. Implement a chosen solution or stick with the proposed simple one.\n",
    "\n",
    "TARGET_VAR = 'Shots'  # Change this for Shots or ShotsTarget\n",
    "\n",
    "loser_values = pd.concat([\n",
    "    matches.loc[is_home_team_win, f'Away{TARGET_VAR}'],\n",
    "    matches.loc[~is_home_team_win, f'Home{TARGET_VAR}']\n",
    "])\n",
    "winner_values = pd.concat([\n",
    "    matches.loc[is_home_team_win, f'Home{TARGET_VAR}'],\n",
    "    matches.loc[~is_home_team_win, f'Away{TARGET_VAR}']\n",
    "])\n",
    "\n",
    "target_values = pd.DataFrame.from_dict(\n",
    "    {f'Winner{TARGET_VAR}': winner_values, f'Loser{TARGET_VAR}': loser_values}\n",
    ")\n",
    "target_values.plot.box()"
   ]
  },
  {
   "cell_type": "markdown",
   "metadata": {},
   "source": [
    "### 11. Který den v týdnu mám jít na zápas, když chci vidět hodně gólů?"
   ]
  },
  {
   "cell_type": "code",
   "execution_count": null,
   "metadata": {},
   "outputs": [],
   "source": [
    "matches.head()"
   ]
  },
  {
   "cell_type": "code",
   "execution_count": null,
   "metadata": {
    "tags": [
     "solution"
    ]
   },
   "outputs": [],
   "source": [
    "week_day_matches = (\n",
    "    matches\n",
    "    .assign(WeekDay=matches.Date.dt.dayofweek)\n",
    "    .assign(TotalGoals=matches.FullTimeHomeGoals + matches.FullTimeAwayGoals)\n",
    ")\n",
    "\n",
    "week_day_matches.boxplot(by='WeekDay', column='TotalGoals')\n",
    "plt.title('Total goals per week day')\n",
    "plt.suptitle('')"
   ]
  },
  {
   "cell_type": "markdown",
   "metadata": {},
   "source": [
    "### 12. Naškálujte rozsah hodnot vstřelených gólů během jednotlivých dnů v týdnu na hodnoty z intervalu <0;1>, kde 0 představuje minimum a 1 maximum."
   ]
  },
  {
   "cell_type": "code",
   "execution_count": null,
   "metadata": {
    "tags": [
     "solution"
    ]
   },
   "outputs": [],
   "source": [
    "# Cvičení na split-apply-combine\n",
    "\n",
    "def min_max_scale(group):\n",
    "    \"\"\"x' = (x - min) / (max - min)\"\"\"\n",
    "    return (group - group.min()) / (group.max() - group.min())\n",
    "\n",
    "\n",
    "scaled_total_goals = (\n",
    "    week_day_matches\n",
    "    .groupby('WeekDay', group_keys=True, as_index=True)  # Split\n",
    "    [['TotalGoals']]\n",
    "    .apply(min_max_scale)  # Apply\n",
    ")\n",
    "\n",
    "goals = pd.concat(\n",
    "    [scaled_total_goals, week_day_matches.WeekDay],\n",
    "    axis='columns',\n",
    ")  # Combine\n",
    "\n",
    "goals.boxplot(by='WeekDay', column='TotalGoals')\n",
    "plt.title('Scaled total goals per week day')\n",
    "plt.suptitle('')"
   ]
  }
 ],
 "metadata": {
  "kernelspec": {
   "display_name": "Python 3 (ipykernel)",
   "language": "python",
   "name": "python3"
  },
  "language_info": {
   "codemirror_mode": {
    "name": "ipython",
    "version": 3
   },
   "file_extension": ".py",
   "mimetype": "text/x-python",
   "name": "python",
   "nbconvert_exporter": "python",
   "pygments_lexer": "ipython3",
   "version": "3.9.6"
  }
 },
 "nbformat": 4,
 "nbformat_minor": 4
}
