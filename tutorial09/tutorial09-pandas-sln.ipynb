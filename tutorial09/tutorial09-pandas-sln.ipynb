{
 "cells": [
  {
   "cell_type": "markdown",
   "metadata": {},
   "source": [
    "# Pandas I"
   ]
  },
  {
   "cell_type": "code",
   "execution_count": null,
   "metadata": {},
   "outputs": [],
   "source": [
    "# Vynucení kontroly souladu s PEP8\n",
    "!pip install flake8 pycodestyle pycodestyle_magic\n",
    "%load_ext pycodestyle_magic\n",
    "%pycodestyle_on"
   ]
  },
  {
   "cell_type": "markdown",
   "metadata": {},
   "source": [
    "### 0. Připravte si data\n",
    "\n",
    "Soubor `season-1819_csv.csv` ve složce `data` pochází z:\n",
    "https://datahub.io/sports-data/english-premier-league/r/season-1819.csv"
   ]
  },
  {
   "cell_type": "markdown",
   "metadata": {},
   "source": [
    "### 1. Načtěte data set `season-1819_csv.csv` a provedte následující úpravy:\n",
    "\n",
    "1. načtěte pouze prvních 17 sloupců\n",
    "1. zahoďte sloupce Div, FTR a HTR\n",
    "1. sloupec Date převeďte na datetime\n",
    "1. přejmenujte sloupce:\n",
    "  * FTHG: FullTimeHomeGoals\n",
    "  * FTAG: FullTimeAwayGoals\n",
    "  * HTHG: HalfTimeHomeGoals\n",
    "  * HTAG: HalfTimeAwayGoals\n",
    "  * HS: HomeShots\n",
    "  * AS: AwayShots\n",
    "  * HST: HomeShotsTarget\n",
    "  * AST: AwayShotsTarget\n",
    "  * HF: HomeFauls\n",
    "  * AF: AwayFauls"
   ]
  },
  {
   "cell_type": "code",
   "execution_count": 5,
   "metadata": {},
   "outputs": [],
   "source": [
    "%matplotlib inline\n",
    "\n",
    "import matplotlib.pyplot as plt\n",
    "import pandas as pd"
   ]
  },
  {
   "cell_type": "code",
   "execution_count": 8,
   "metadata": {},
   "outputs": [],
   "source": [
    "DATA_FOLDER = 'data'\n",
    "DATA_SET = 'season-1819_csv.csv'"
   ]
  },
  {
   "cell_type": "code",
   "execution_count": 9,
   "metadata": {
    "tags": [
     "solution"
    ]
   },
   "outputs": [
    {
     "data": {
      "text/html": [
       "<div>\n",
       "<style scoped>\n",
       "    .dataframe tbody tr th:only-of-type {\n",
       "        vertical-align: middle;\n",
       "    }\n",
       "\n",
       "    .dataframe tbody tr th {\n",
       "        vertical-align: top;\n",
       "    }\n",
       "\n",
       "    .dataframe thead th {\n",
       "        text-align: right;\n",
       "    }\n",
       "</style>\n",
       "<table border=\"1\" class=\"dataframe\">\n",
       "  <thead>\n",
       "    <tr style=\"text-align: right;\">\n",
       "      <th></th>\n",
       "      <th>Date</th>\n",
       "      <th>HomeTeam</th>\n",
       "      <th>AwayTeam</th>\n",
       "      <th>FullTimeHomeGoals</th>\n",
       "      <th>FullTimeAwayGoals</th>\n",
       "      <th>HalfTimeHomeGoals</th>\n",
       "      <th>HalfTimeAwayGoals</th>\n",
       "      <th>Referee</th>\n",
       "      <th>HomeShots</th>\n",
       "      <th>AwayShots</th>\n",
       "      <th>HomeShotsTarget</th>\n",
       "      <th>AwayShotsTarget</th>\n",
       "      <th>HomeFauls</th>\n",
       "      <th>AwayFauls</th>\n",
       "    </tr>\n",
       "  </thead>\n",
       "  <tbody>\n",
       "    <tr>\n",
       "      <th>0</th>\n",
       "      <td>2018-10-08</td>\n",
       "      <td>Man United</td>\n",
       "      <td>Leicester</td>\n",
       "      <td>2</td>\n",
       "      <td>1</td>\n",
       "      <td>1</td>\n",
       "      <td>0</td>\n",
       "      <td>A Marriner</td>\n",
       "      <td>8</td>\n",
       "      <td>13</td>\n",
       "      <td>6</td>\n",
       "      <td>4</td>\n",
       "      <td>11</td>\n",
       "      <td>8</td>\n",
       "    </tr>\n",
       "    <tr>\n",
       "      <th>1</th>\n",
       "      <td>2018-11-08</td>\n",
       "      <td>Bournemouth</td>\n",
       "      <td>Cardiff</td>\n",
       "      <td>2</td>\n",
       "      <td>0</td>\n",
       "      <td>1</td>\n",
       "      <td>0</td>\n",
       "      <td>K Friend</td>\n",
       "      <td>12</td>\n",
       "      <td>10</td>\n",
       "      <td>4</td>\n",
       "      <td>1</td>\n",
       "      <td>11</td>\n",
       "      <td>9</td>\n",
       "    </tr>\n",
       "    <tr>\n",
       "      <th>2</th>\n",
       "      <td>2018-11-08</td>\n",
       "      <td>Fulham</td>\n",
       "      <td>Crystal Palace</td>\n",
       "      <td>0</td>\n",
       "      <td>2</td>\n",
       "      <td>0</td>\n",
       "      <td>1</td>\n",
       "      <td>M Dean</td>\n",
       "      <td>15</td>\n",
       "      <td>10</td>\n",
       "      <td>6</td>\n",
       "      <td>9</td>\n",
       "      <td>9</td>\n",
       "      <td>11</td>\n",
       "    </tr>\n",
       "    <tr>\n",
       "      <th>3</th>\n",
       "      <td>2018-11-08</td>\n",
       "      <td>Huddersfield</td>\n",
       "      <td>Chelsea</td>\n",
       "      <td>0</td>\n",
       "      <td>3</td>\n",
       "      <td>0</td>\n",
       "      <td>2</td>\n",
       "      <td>C Kavanagh</td>\n",
       "      <td>6</td>\n",
       "      <td>13</td>\n",
       "      <td>1</td>\n",
       "      <td>4</td>\n",
       "      <td>9</td>\n",
       "      <td>8</td>\n",
       "    </tr>\n",
       "    <tr>\n",
       "      <th>4</th>\n",
       "      <td>2018-11-08</td>\n",
       "      <td>Newcastle</td>\n",
       "      <td>Tottenham</td>\n",
       "      <td>1</td>\n",
       "      <td>2</td>\n",
       "      <td>1</td>\n",
       "      <td>2</td>\n",
       "      <td>M Atkinson</td>\n",
       "      <td>15</td>\n",
       "      <td>15</td>\n",
       "      <td>2</td>\n",
       "      <td>5</td>\n",
       "      <td>11</td>\n",
       "      <td>12</td>\n",
       "    </tr>\n",
       "  </tbody>\n",
       "</table>\n",
       "</div>"
      ],
      "text/plain": [
       "        Date      HomeTeam        AwayTeam  FullTimeHomeGoals  \\\n",
       "0 2018-10-08    Man United       Leicester                  2   \n",
       "1 2018-11-08   Bournemouth         Cardiff                  2   \n",
       "2 2018-11-08        Fulham  Crystal Palace                  0   \n",
       "3 2018-11-08  Huddersfield         Chelsea                  0   \n",
       "4 2018-11-08     Newcastle       Tottenham                  1   \n",
       "\n",
       "   FullTimeAwayGoals  HalfTimeHomeGoals  HalfTimeAwayGoals     Referee  \\\n",
       "0                  1                  1                  0  A Marriner   \n",
       "1                  0                  1                  0    K Friend   \n",
       "2                  2                  0                  1      M Dean   \n",
       "3                  3                  0                  2  C Kavanagh   \n",
       "4                  2                  1                  2  M Atkinson   \n",
       "\n",
       "   HomeShots  AwayShots  HomeShotsTarget  AwayShotsTarget  HomeFauls  \\\n",
       "0          8         13                6                4         11   \n",
       "1         12         10                4                1         11   \n",
       "2         15         10                6                9          9   \n",
       "3          6         13                1                4          9   \n",
       "4         15         15                2                5         11   \n",
       "\n",
       "   AwayFauls  \n",
       "0          8  \n",
       "1          9  \n",
       "2         11  \n",
       "3          8  \n",
       "4         12  "
      ]
     },
     "execution_count": 9,
     "metadata": {},
     "output_type": "execute_result"
    }
   ],
   "source": [
    "import os\n",
    "\n",
    "matches = (\n",
    "    pd.read_csv(\n",
    "        os.path.join(DATA_FOLDER, DATA_SET),\n",
    "        parse_dates=['Date'],\n",
    "        usecols=range(0, 17),\n",
    "    )\n",
    "    .drop(['Div', 'FTR', 'HTR'], axis='columns')\n",
    "    .rename(columns={\n",
    "        'FTHG': 'FullTimeHomeGoals',\n",
    "        'FTAG': 'FullTimeAwayGoals',\n",
    "        'HTHG': 'HalfTimeHomeGoals',\n",
    "        'HTAG': 'HalfTimeAwayGoals',\n",
    "        'HS': 'HomeShots',\n",
    "        'AS': 'AwayShots',\n",
    "        'HST': 'HomeShotsTarget',\n",
    "        'AST': 'AwayShotsTarget',\n",
    "        'HF': 'HomeFauls',\n",
    "        'AF': 'AwayFauls'\n",
    "    })\n",
    ")\n",
    "\n",
    "matches.head()"
   ]
  },
  {
   "cell_type": "markdown",
   "metadata": {},
   "source": [
    "### 2. Zjistěte jaké datové typy mají všechny sloupečky, zda data set obsahuje nějaké NaN hodnoty a jaké jsou základní statistiky číselných sloupců."
   ]
  },
  {
   "cell_type": "code",
   "execution_count": 10,
   "metadata": {
    "tags": [
     "solution"
    ]
   },
   "outputs": [
    {
     "name": "stdout",
     "output_type": "stream",
     "text": [
      "<class 'pandas.core.frame.DataFrame'>\n",
      "RangeIndex: 380 entries, 0 to 379\n",
      "Data columns (total 14 columns):\n",
      " #   Column             Non-Null Count  Dtype         \n",
      "---  ------             --------------  -----         \n",
      " 0   Date               380 non-null    datetime64[ns]\n",
      " 1   HomeTeam           380 non-null    object        \n",
      " 2   AwayTeam           380 non-null    object        \n",
      " 3   FullTimeHomeGoals  380 non-null    int64         \n",
      " 4   FullTimeAwayGoals  380 non-null    int64         \n",
      " 5   HalfTimeHomeGoals  380 non-null    int64         \n",
      " 6   HalfTimeAwayGoals  380 non-null    int64         \n",
      " 7   Referee            380 non-null    object        \n",
      " 8   HomeShots          380 non-null    int64         \n",
      " 9   AwayShots          380 non-null    int64         \n",
      " 10  HomeShotsTarget    380 non-null    int64         \n",
      " 11  AwayShotsTarget    380 non-null    int64         \n",
      " 12  HomeFauls          380 non-null    int64         \n",
      " 13  AwayFauls          380 non-null    int64         \n",
      "dtypes: datetime64[ns](1), int64(10), object(3)\n",
      "memory usage: 41.7+ KB\n"
     ]
    }
   ],
   "source": [
    "matches.info()"
   ]
  },
  {
   "cell_type": "code",
   "execution_count": null,
   "metadata": {
    "tags": [
     "solution"
    ]
   },
   "outputs": [],
   "source": [
    "matches.describe().transpose()"
   ]
  },
  {
   "cell_type": "markdown",
   "metadata": {},
   "source": [
    "### 3. Zjistěte kolik různých týmů hraje anglickou ligu? Jaké týmy to jsou?"
   ]
  },
  {
   "cell_type": "code",
   "execution_count": 4,
   "metadata": {
    "tags": [
     "solution"
    ]
   },
   "outputs": [
    {
     "ename": "NameError",
     "evalue": "name 'matches' is not defined",
     "output_type": "error",
     "traceback": [
      "\u001b[0;31m---------------------------------------------------------------------------\u001b[0m",
      "\u001b[0;31mNameError\u001b[0m                                 Traceback (most recent call last)",
      "\u001b[0;32m/tmp/ipykernel_198543/1951957110.py\u001b[0m in \u001b[0;36m<module>\u001b[0;34m\u001b[0m\n\u001b[0;32m----> 1\u001b[0;31m \u001b[0mteams\u001b[0m \u001b[0;34m=\u001b[0m \u001b[0mmatches\u001b[0m\u001b[0;34m.\u001b[0m\u001b[0mHomeTeam\u001b[0m\u001b[0;34m.\u001b[0m\u001b[0munique\u001b[0m\u001b[0;34m(\u001b[0m\u001b[0;34m)\u001b[0m\u001b[0;34m.\u001b[0m\u001b[0mtolist\u001b[0m\u001b[0;34m(\u001b[0m\u001b[0;34m)\u001b[0m\u001b[0;34m\u001b[0m\u001b[0;34m\u001b[0m\u001b[0m\n\u001b[0m\u001b[1;32m      2\u001b[0m \u001b[0mteams\u001b[0m\u001b[0;34m\u001b[0m\u001b[0;34m\u001b[0m\u001b[0m\n",
      "\u001b[0;31mNameError\u001b[0m: name 'matches' is not defined"
     ]
    }
   ],
   "source": [
    "teams = matches.HomeTeam.unique().tolist()\n",
    "teams"
   ]
  },
  {
   "cell_type": "code",
   "execution_count": null,
   "metadata": {
    "tags": [
     "solution"
    ]
   },
   "outputs": [],
   "source": [
    "len(teams)"
   ]
  },
  {
   "cell_type": "code",
   "execution_count": null,
   "metadata": {},
   "outputs": [],
   "source": [
    "matches.head()"
   ]
  },
  {
   "cell_type": "markdown",
   "metadata": {},
   "source": [
    "### 4. Přidejte sloupečky `HomeShotAccuracy` a `AwayShotAccuracy`, které říkají jaké procento střeleckých pokusů (Shots) nakonec mířilo na bránu (ShotsTarget). Vizualizujte rozdělení hodnot obou sloupců."
   ]
  },
  {
   "cell_type": "code",
   "execution_count": 11,
   "metadata": {},
   "outputs": [],
   "source": [
    "# redefine the default size of the plots\n",
    "plt.rcParams['figure.figsize'] = (24, 6)\n",
    "# redefine default color scheme\n",
    "plt.style.use('ggplot')"
   ]
  },
  {
   "cell_type": "code",
   "execution_count": 12,
   "metadata": {
    "tags": [
     "solution"
    ]
   },
   "outputs": [
    {
     "data": {
      "text/html": [
       "<div>\n",
       "<style scoped>\n",
       "    .dataframe tbody tr th:only-of-type {\n",
       "        vertical-align: middle;\n",
       "    }\n",
       "\n",
       "    .dataframe tbody tr th {\n",
       "        vertical-align: top;\n",
       "    }\n",
       "\n",
       "    .dataframe thead th {\n",
       "        text-align: right;\n",
       "    }\n",
       "</style>\n",
       "<table border=\"1\" class=\"dataframe\">\n",
       "  <thead>\n",
       "    <tr style=\"text-align: right;\">\n",
       "      <th></th>\n",
       "      <th>HomeShots</th>\n",
       "      <th>HomeShotsTarget</th>\n",
       "      <th>HomeShotAccuracy</th>\n",
       "      <th>AwayShotAccuracy</th>\n",
       "    </tr>\n",
       "  </thead>\n",
       "  <tbody>\n",
       "    <tr>\n",
       "      <th>0</th>\n",
       "      <td>8</td>\n",
       "      <td>6</td>\n",
       "      <td>75.000000</td>\n",
       "      <td>30.769231</td>\n",
       "    </tr>\n",
       "    <tr>\n",
       "      <th>1</th>\n",
       "      <td>12</td>\n",
       "      <td>4</td>\n",
       "      <td>33.333333</td>\n",
       "      <td>10.000000</td>\n",
       "    </tr>\n",
       "    <tr>\n",
       "      <th>2</th>\n",
       "      <td>15</td>\n",
       "      <td>6</td>\n",
       "      <td>40.000000</td>\n",
       "      <td>90.000000</td>\n",
       "    </tr>\n",
       "    <tr>\n",
       "      <th>3</th>\n",
       "      <td>6</td>\n",
       "      <td>1</td>\n",
       "      <td>16.666667</td>\n",
       "      <td>30.769231</td>\n",
       "    </tr>\n",
       "    <tr>\n",
       "      <th>4</th>\n",
       "      <td>15</td>\n",
       "      <td>2</td>\n",
       "      <td>13.333333</td>\n",
       "      <td>33.333333</td>\n",
       "    </tr>\n",
       "  </tbody>\n",
       "</table>\n",
       "</div>"
      ],
      "text/plain": [
       "   HomeShots  HomeShotsTarget  HomeShotAccuracy  AwayShotAccuracy\n",
       "0          8                6         75.000000         30.769231\n",
       "1         12                4         33.333333         10.000000\n",
       "2         15                6         40.000000         90.000000\n",
       "3          6                1         16.666667         30.769231\n",
       "4         15                2         13.333333         33.333333"
      ]
     },
     "execution_count": 12,
     "metadata": {},
     "output_type": "execute_result"
    }
   ],
   "source": [
    "def shot_accuracy(\n",
    "    shots: pd.Series,\n",
    "    shots_on_target: pd.Series,\n",
    ") -> pd.Series:\n",
    "    return shots_on_target / shots * 100\n",
    "\n",
    "\n",
    "matches['HomeShotAccuracy'] = shot_accuracy(\n",
    "    matches.HomeShots, matches.HomeShotsTarget)\n",
    "matches['AwayShotAccuracy'] = shot_accuracy(\n",
    "    matches.AwayShots, matches.AwayShotsTarget)\n",
    "\n",
    "matches[\n",
    "    [\n",
    "        'HomeShots',\n",
    "        'HomeShotsTarget',\n",
    "        'HomeShotAccuracy',\n",
    "        'AwayShotAccuracy',\n",
    "    ]\n",
    "].head()"
   ]
  },
  {
   "cell_type": "code",
   "execution_count": 13,
   "metadata": {
    "tags": [
     "solution"
    ]
   },
   "outputs": [
    {
     "data": {
      "image/png": "[encoded data removed]",
      "text/plain": [
       "<Figure size 1728x432 with 1 Axes>"
      ]
     },
     "metadata": {},
     "output_type": "display_data"
    },
    {
     "data": {
      "text/plain": [
       "<AxesSubplot:title={'center':'Away team shot accuracy distribution'}, ylabel='Frequency'>"
      ]
     },
     "execution_count": 13,
     "metadata": {},
     "output_type": "execute_result"
    },
    {
     "data": {
      "image/png": "[encoded data removed]",
      "text/plain": [
       "<Figure size 1728x432 with 1 Axes>"
      ]
     },
     "metadata": {},
     "output_type": "display_data"
    }
   ],
   "source": [
    "matches['HomeShotAccuracy'].plot.hist(\n",
    "    title='Home team shot accuracy distribution',\n",
    ")\n",
    "plt.show()\n",
    "matches['AwayShotAccuracy'].plot.hist(\n",
    "    title='Away team shot accuracy distribution',\n",
    "    color='steelblue',\n",
    ")"
   ]
  },
  {
   "cell_type": "code",
   "execution_count": 15,
   "metadata": {},
   "outputs": [
    {
     "data": {
      "text/plain": [
       "Text(0, 0.5, 'Accuracy [%]')"
      ]
     },
     "execution_count": 15,
     "metadata": {},
     "output_type": "execute_result"
    },
    {
     "data": {
      "image/png": "[encoded data removed]",
      "text/plain": [
       "<Figure size 1728x720 with 1 Axes>"
      ]
     },
     "metadata": {},
     "output_type": "display_data"
    }
   ],
   "source": [
    "(\n",
    "    matches\n",
    "    [['HomeShotAccuracy', 'AwayShotAccuracy']]\n",
    "    .plot.box(title='Shot accuracy distribution', figsize=(24, 10))\n",
    ")\n",
    "plt.ylabel('Accuracy [%]')"
   ]
  },
  {
   "cell_type": "markdown",
   "metadata": {},
   "source": [
    "### 5. Vytvořte sloupeček `FullTimeWinner`, který obsahuje:\n",
    "\n",
    "- `H`, pokud zvítězil `HomeTeam`\n",
    "- `A`, pokud zvítězil `AwayTeam`\n",
    "- `D`, pokud zápas skončil remízou\n",
    "\n",
    "**Poznámka: Zatím neznáme apply, ale známe loc. Použijte tedy šikovně loc.** "
   ]
  },
  {
   "cell_type": "code",
   "execution_count": 16,
   "metadata": {
    "tags": [
     "solution"
    ]
   },
   "outputs": [
    {
     "data": {
      "text/html": [
       "<div>\n",
       "<style scoped>\n",
       "    .dataframe tbody tr th:only-of-type {\n",
       "        vertical-align: middle;\n",
       "    }\n",
       "\n",
       "    .dataframe tbody tr th {\n",
       "        vertical-align: top;\n",
       "    }\n",
       "\n",
       "    .dataframe thead th {\n",
       "        text-align: right;\n",
       "    }\n",
       "</style>\n",
       "<table border=\"1\" class=\"dataframe\">\n",
       "  <thead>\n",
       "    <tr style=\"text-align: right;\">\n",
       "      <th></th>\n",
       "      <th>FullTimeHomeGoals</th>\n",
       "      <th>FullTimeAwayGoals</th>\n",
       "      <th>FullTimeWinner</th>\n",
       "    </tr>\n",
       "  </thead>\n",
       "  <tbody>\n",
       "    <tr>\n",
       "      <th>0</th>\n",
       "      <td>2</td>\n",
       "      <td>1</td>\n",
       "      <td>H</td>\n",
       "    </tr>\n",
       "    <tr>\n",
       "      <th>1</th>\n",
       "      <td>2</td>\n",
       "      <td>0</td>\n",
       "      <td>H</td>\n",
       "    </tr>\n",
       "    <tr>\n",
       "      <th>2</th>\n",
       "      <td>0</td>\n",
       "      <td>2</td>\n",
       "      <td>A</td>\n",
       "    </tr>\n",
       "    <tr>\n",
       "      <th>3</th>\n",
       "      <td>0</td>\n",
       "      <td>3</td>\n",
       "      <td>A</td>\n",
       "    </tr>\n",
       "    <tr>\n",
       "      <th>4</th>\n",
       "      <td>1</td>\n",
       "      <td>2</td>\n",
       "      <td>A</td>\n",
       "    </tr>\n",
       "    <tr>\n",
       "      <th>5</th>\n",
       "      <td>2</td>\n",
       "      <td>0</td>\n",
       "      <td>H</td>\n",
       "    </tr>\n",
       "    <tr>\n",
       "      <th>6</th>\n",
       "      <td>2</td>\n",
       "      <td>2</td>\n",
       "      <td>D</td>\n",
       "    </tr>\n",
       "    <tr>\n",
       "      <th>7</th>\n",
       "      <td>0</td>\n",
       "      <td>2</td>\n",
       "      <td>A</td>\n",
       "    </tr>\n",
       "    <tr>\n",
       "      <th>8</th>\n",
       "      <td>4</td>\n",
       "      <td>0</td>\n",
       "      <td>H</td>\n",
       "    </tr>\n",
       "    <tr>\n",
       "      <th>9</th>\n",
       "      <td>0</td>\n",
       "      <td>0</td>\n",
       "      <td>D</td>\n",
       "    </tr>\n",
       "  </tbody>\n",
       "</table>\n",
       "</div>"
      ],
      "text/plain": [
       "   FullTimeHomeGoals  FullTimeAwayGoals FullTimeWinner\n",
       "0                  2                  1              H\n",
       "1                  2                  0              H\n",
       "2                  0                  2              A\n",
       "3                  0                  3              A\n",
       "4                  1                  2              A\n",
       "5                  2                  0              H\n",
       "6                  2                  2              D\n",
       "7                  0                  2              A\n",
       "8                  4                  0              H\n",
       "9                  0                  0              D"
      ]
     },
     "execution_count": 16,
     "metadata": {},
     "output_type": "execute_result"
    }
   ],
   "source": [
    "matches['FullTimeWinner'] = 'D'\n",
    "\n",
    "is_home_winner = matches.FullTimeHomeGoals > matches.FullTimeAwayGoals\n",
    "is_away_winner = matches.FullTimeHomeGoals < matches.FullTimeAwayGoals\n",
    "\n",
    "matches.loc[is_home_winner, 'FullTimeWinner'] = 'H'\n",
    "matches.loc[is_away_winner, 'FullTimeWinner'] = 'A'\n",
    "\n",
    "matches[\n",
    "    ['FullTimeHomeGoals', 'FullTimeAwayGoals', 'FullTimeWinner']\n",
    "].head(10)"
   ]
  },
  {
   "cell_type": "markdown",
   "metadata": {},
   "source": [
    "### 6. Řekněme, že nás zajímá tým West Ham. Zjistětě, kolik průměrně vsítí gólů v domácích zápasech, které vyhraje a kolik v domácích zápasech, které prohraje."
   ]
  },
  {
   "cell_type": "code",
   "execution_count": 24,
   "metadata": {
    "tags": [
     "solution"
    ]
   },
   "outputs": [
    {
     "name": "stdout",
     "output_type": "stream",
     "text": [
      "Mean of goals scored during home victory: 2.89, defeat: 0.17\n"
     ]
    }
   ],
   "source": [
    "selected_team = 'West Ham'\n",
    "\n",
    "is_team_home_match = matches.HomeTeam == selected_team\n",
    "is_home_team_win = matches.FullTimeWinner == 'H'\n",
    "is_home_team_lose = matches.FullTimeWinner == 'A'\n",
    "\n",
    "win_goals_mean = (\n",
    "    matches\n",
    "    .loc[\n",
    "        is_team_home_match & is_home_team_win,\n",
    "        'FullTimeHomeGoals'\n",
    "    ]\n",
    "    .mean()\n",
    ")\n",
    "lost_goals_mean = (\n",
    "    matches\n",
    "    .loc[\n",
    "        is_team_home_match & is_home_team_lose,\n",
    "        'FullTimeHomeGoals'\n",
    "    ]\n",
    "    .mean()\n",
    ")\n",
    "\n",
    "print(\n",
    "    \"Mean of goals scored during home victory:\"\n",
    "    f\" {win_goals_mean:.2f}, defeat: {lost_goals_mean:.2f}\"\n",
    ")"
   ]
  },
  {
   "cell_type": "markdown",
   "metadata": {},
   "source": [
    "### 7. Jaký je median faulů, střel na branku a vstřelených gólů West Ham pro předchozích pět domácích zápasů? Jak se tyto statistiky vyvíjí v čase? Vizualizujte je."
   ]
  },
  {
   "cell_type": "code",
   "execution_count": 25,
   "metadata": {
    "tags": [
     "solution"
    ]
   },
   "outputs": [
    {
     "data": {
      "text/plain": [
       "<AxesSubplot:title={'center':'Trend of last 5 matches'}, xlabel='Date'>"
      ]
     },
     "execution_count": 25,
     "metadata": {},
     "output_type": "execute_result"
    },
    {
     "data": {
      "image/png": "[encoded data removed]",
      "text/plain": [
       "<Figure size 1728x432 with 1 Axes>"
      ]
     },
     "metadata": {},
     "output_type": "display_data"
    }
   ],
   "source": [
    "(\n",
    "    matches\n",
    "    .loc[\n",
    "        is_team_home_match,\n",
    "        ['Date', 'HomeFauls', 'HomeShotsTarget', 'FullTimeHomeGoals']\n",
    "    ]\n",
    "    .set_index('Date')\n",
    "    .rolling(5).median()\n",
    "    .dropna()\n",
    "    .plot(title='Trend of last 5 matches')\n",
    ")"
   ]
  },
  {
   "cell_type": "markdown",
   "metadata": {},
   "source": [
    "### 8. Je domácí prostředí výhodou?\n",
    "\n",
    "**Poznámka: Součástí řešení je zamyslet se, jakou formou tuto otázku zodpovědět a jaké předpoklady si mohu dovolit udělat.** "
   ]
  },
  {
   "cell_type": "code",
   "execution_count": 26,
   "metadata": {
    "tags": [
     "solution"
    ]
   },
   "outputs": [
    {
     "data": {
      "text/plain": [
       "Text(0, 0.5, 'Match count')"
      ]
     },
     "execution_count": 26,
     "metadata": {},
     "output_type": "execute_result"
    },
    {
     "data": {
      "image/png": "[encoded data removed]",
      "text/plain": [
       "<Figure size 1728x432 with 1 Axes>"
      ]
     },
     "metadata": {},
     "output_type": "display_data"
    }
   ],
   "source": [
    "(\n",
    "    matches\n",
    "    .FullTimeWinner\n",
    "    .value_counts()\n",
    "    .div(len(matches))  # normalize counts\n",
    "    .plot.bar(title='Result class counts')\n",
    ")\n",
    "plt.ylabel('Match count')"
   ]
  },
  {
   "cell_type": "markdown",
   "metadata": {},
   "source": [
    "### 9. Kolik který rozhodčí odpískal za sezónu průměrně faulů za zápas? Seřaďte je od těch nejpřísnějších."
   ]
  },
  {
   "cell_type": "code",
   "execution_count": 27,
   "metadata": {
    "tags": [
     "solution"
    ]
   },
   "outputs": [
    {
     "data": {
      "text/plain": [
       "Referee\n",
       "D Coote       23.000000\n",
       "L Mason       22.842105\n",
       "J Moss        22.629630\n",
       "S Hooper      22.125000\n",
       "R East        21.500000\n",
       "A Taylor      21.343750\n",
       "M Oliver      21.266667\n",
       "M Atkinson    20.793103\n",
       "M Dean        20.689655\n",
       "K Friend      20.444444\n",
       "P Tierney     20.291667\n",
       "L Probert     20.277778\n",
       "C Pawson      20.000000\n",
       "C Kavanagh    19.208333\n",
       "G Scott       18.117647\n",
       "S Attwell     18.000000\n",
       "A Marriner    17.555556\n",
       "A Madley      16.500000\n",
       "Name: Fauls, dtype: float64"
      ]
     },
     "execution_count": 27,
     "metadata": {},
     "output_type": "execute_result"
    }
   ],
   "source": [
    "(\n",
    "    matches\n",
    "    .assign(Fauls=matches.HomeFauls + matches.AwayFauls)\n",
    "    .groupby('Referee')\n",
    "    .mean()\n",
    "    ['Fauls']\n",
    "    .sort_values(ascending=False)\n",
    ")"
   ]
  },
  {
   "cell_type": "markdown",
   "metadata": {},
   "source": [
    "### 10. (BONUS) Budu víc vyhrávat, když budu víc faulovat?"
   ]
  }
 ],
 "metadata": {
  "celltoolbar": "Tags",
  "kernelspec": {
   "display_name": "Python 3 (ipykernel)",
   "language": "python",
   "name": "python3"
  },
  "language_info": {
   "codemirror_mode": {
    "name": "ipython",
    "version": 3
   },
   "file_extension": ".py",
   "mimetype": "text/x-python",
   "name": "python",
   "nbconvert_exporter": "python",
   "pygments_lexer": "ipython3",
   "version": "3.9.5"
  }
 },
 "nbformat": 4,
 "nbformat_minor": 4
}
