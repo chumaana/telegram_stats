{
 "cells": [
  {
   "cell_type": "markdown",
   "metadata": {},
   "source": [
    "# Generátory"
   ]
  },
  {
   "cell_type": "code",
   "execution_count": null,
   "metadata": {},
   "outputs": [],
   "source": [
    "# Vynucení kontroly souladu s PEP8\n",
    "!pip install flake8 pycodestyle pycodestyle_magic\n",
    "%load_ext pycodestyle_magic\n",
    "%pycodestyle_on"
   ]
  },
  {
   "cell_type": "code",
   "execution_count": null,
   "metadata": {},
   "outputs": [],
   "source": [
    "# Print values of all statements in each cell\n",
    "from IPython.core.interactiveshell import InteractiveShell\n",
    "InteractiveShell.ast_node_interactivity = \"all\""
   ]
  },
  {
   "cell_type": "markdown",
   "metadata": {},
   "source": [
    "### 1. Napište (konečný) _generátor_ pro průchod po prvcích řetězce.\n",
    "\n",
    "Aneb vlastně zduplikujte funkcionalitu, která je v Python'u automaticky přítomná v rámci smyčky for-in nad řetězci."
   ]
  },
  {
   "cell_type": "code",
   "execution_count": null,
   "metadata": {
    "tags": [
     "solution"
    ]
   },
   "outputs": [],
   "source": [
    "# TODO: Implement your solution."
   ]
  },
  {
   "cell_type": "code",
   "execution_count": null,
   "metadata": {
    "tags": [
     "raises-exception"
    ]
   },
   "outputs": [],
   "source": [
    "g = generate_letters(\"Baf!\")\n",
    "next(g)\n",
    "next(g)\n",
    "next(g)\n",
    "next(g)\n",
    "\n",
    "# Konec generátoru - další volání vyhodí StopIteration\n",
    "next(g)"
   ]
  },
  {
   "cell_type": "markdown",
   "metadata": {},
   "source": [
    "### 2. Napište (nekonečný) _generátor_ vracející postupně všechna lichá čísla v řadě 1, 3, 5…"
   ]
  },
  {
   "cell_type": "code",
   "execution_count": null,
   "metadata": {
    "tags": [
     "solution"
    ]
   },
   "outputs": [],
   "source": [
    "# TODO: Implement your solution."
   ]
  },
  {
   "cell_type": "code",
   "execution_count": null,
   "metadata": {},
   "outputs": [],
   "source": [
    "g = generate_odd()\n",
    "next(g)\n",
    "next(g)\n",
    "next(g)"
   ]
  },
  {
   "cell_type": "markdown",
   "metadata": {},
   "source": [
    "### 3. Napište _generátor_ pro výpis vlastností objektu.\n",
    "\n",
    "Tj. napište generátor, který projde výpis volání funkce `dir` na příslušný objekt.\n",
    "\n",
    "**Hint**: Funkce `dir()` vrací vlastnosti objektu jako seznam řetězců. Pochopitelně konečný."
   ]
  },
  {
   "cell_type": "code",
   "execution_count": null,
   "metadata": {
    "tags": [
     "solution"
    ]
   },
   "outputs": [],
   "source": [
    "# TODO: Implement your solution."
   ]
  },
  {
   "cell_type": "code",
   "execution_count": null,
   "metadata": {},
   "outputs": [],
   "source": [
    "g = generate_attributes(None)\n",
    "next(g)\n",
    "next(g)\n",
    "list(g)[:10]"
   ]
  },
  {
   "cell_type": "markdown",
   "metadata": {},
   "source": [
    "### 4. Napište generátor, který vrací nejvýše N prvků existujícího generátoru\n",
    "\n",
    "Pokud bude zdrojový generátor vracet méně prvků než *N*, korektně ukončete iteraci.\n",
    "\n",
    "**Hint**: Dejte si pozor, aby vaše implementace fungovala správně i pro **nekonečné** generátory. "
   ]
  },
  {
   "cell_type": "code",
   "execution_count": null,
   "metadata": {
    "tags": [
     "solution"
    ]
   },
   "outputs": [],
   "source": [
    "# TODO: Implement your solution."
   ]
  },
  {
   "cell_type": "code",
   "execution_count": null,
   "metadata": {},
   "outputs": [],
   "source": [
    "print(list(generate_upto(generate_letters(\"Egg beans SPAM\"), 9)))\n",
    "print(list(generate_upto(generate_letters(\"BOO\"), 10)))\n",
    "print(list(generate_upto(generate_odd(), 10)))"
   ]
  },
  {
   "cell_type": "markdown",
   "metadata": {},
   "source": [
    "### 5. Napište generátor, který spojí libovolný počet existujících generátorů\n",
    "\n",
    "Tj. nejdříve vrátí všechny prvky prvního generátoru, pak druhého, atd."
   ]
  },
  {
   "cell_type": "code",
   "execution_count": null,
   "metadata": {
    "tags": [
     "solution"
    ]
   },
   "outputs": [],
   "source": [
    "# TODO: Implement your solution."
   ]
  },
  {
   "cell_type": "code",
   "execution_count": null,
   "metadata": {},
   "outputs": [],
   "source": [
    "g1 = (i for i in range(6))\n",
    "g2 = (i for i in range(4, 0, -1))\n",
    "g3 = (i for i in range(4))\n",
    "\n",
    "list(generator_chain(g1, g2, g3))"
   ]
  }
 ],
 "metadata": {
  "kernelspec": {
   "display_name": "Python 3 (ipykernel)",
   "language": "python",
   "name": "python3"
  },
  "language_info": {
   "codemirror_mode": {
    "name": "ipython",
    "version": 3
   },
   "file_extension": ".py",
   "mimetype": "text/x-python",
   "name": "python",
   "nbconvert_exporter": "python",
   "pygments_lexer": "ipython3",
   "version": "3.9.6"
  }
 },
 "nbformat": 4,
 "nbformat_minor": 4
}
