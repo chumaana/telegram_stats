{
 "cells": [
  {
   "cell_type": "markdown",
   "metadata": {},
   "source": [
    "# Iterátory"
   ]
  },
  {
   "cell_type": "code",
   "execution_count": null,
   "metadata": {},
   "outputs": [],
   "source": [
    "# Vynucení kontroly souladu s PEP8\n",
    "!pip install flake8 pycodestyle pycodestyle_magic\n",
    "%load_ext pycodestyle_magic\n",
    "%pycodestyle_on"
   ]
  },
  {
   "cell_type": "markdown",
   "metadata": {},
   "source": [
    "## 1. Napište (konečný) iterátor pro průchod po prvcích řetězce (aneb vlastně zduplikujte funkcionalitu, která je v Python'u automaticky přítomná v rámci smyčky for-in nad řetězci)."
   ]
  },
  {
   "cell_type": "code",
   "execution_count": null,
   "metadata": {
    "tags": [
     "solution"
    ]
   },
   "outputs": [],
   "source": [
    "# TODO: Implement your solution."
   ]
  },
  {
   "cell_type": "code",
   "execution_count": null,
   "metadata": {},
   "outputs": [],
   "source": [
    "it = NextChar('Ahoj!')\n",
    "for char in it:\n",
    "    print(char)"
   ]
  },
  {
   "cell_type": "markdown",
   "metadata": {},
   "source": [
    "## 2. Napište (nekonečný) iterátor vracející postupně všechna lichá čísla v řadě 1, 3, 5…"
   ]
  },
  {
   "cell_type": "code",
   "execution_count": null,
   "metadata": {
    "tags": [
     "solution"
    ]
   },
   "outputs": [],
   "source": [
    "# TODO: Implement your solution."
   ]
  },
  {
   "cell_type": "code",
   "execution_count": null,
   "metadata": {},
   "outputs": [],
   "source": [
    "lc = LichaCisla()\n",
    "it = iter(lc)\n",
    "print(next(it))\n",
    "print(next(it))\n",
    "print(next(it))"
   ]
  },
  {
   "cell_type": "markdown",
   "metadata": {},
   "source": [
    "## 3. Napište iterátor pro výpis vlastností objektu, tj. napište generátor, který projde výpis volání funkce dir na příslušný objekt.\n",
    "\n",
    "##### Nápověda\n",
    "\n",
    "Funkce `dir()` vrací vlastnosti objektu jako seznam řetězců. Pochopitelně konečný."
   ]
  },
  {
   "cell_type": "code",
   "execution_count": null,
   "metadata": {
    "tags": [
     "solution"
    ]
   },
   "outputs": [],
   "source": [
    "# TODO: Implement your solution."
   ]
  },
  {
   "cell_type": "code",
   "execution_count": null,
   "metadata": {},
   "outputs": [],
   "source": [
    "it = Vlastnosti([])\n",
    "for v in it:\n",
    "    print(v)"
   ]
  },
  {
   "cell_type": "markdown",
   "metadata": {},
   "source": [
    "## 4. Napište iterátor `izip`, který aggreguje hodnoty každého z daných iterátorů stejně jako `zip`. Narozdíl od `zip` ale bude vracet iterátor."
   ]
  },
  {
   "cell_type": "code",
   "execution_count": null,
   "metadata": {
    "tags": [
     "solution"
    ]
   },
   "outputs": [],
   "source": [
    "# TODO: Implement your solution."
   ]
  },
  {
   "cell_type": "code",
   "execution_count": null,
   "metadata": {},
   "outputs": [],
   "source": [
    "for x, y in izip(iter([0, 1, 2, 3, 4, 5]), iter([10, 11, 12, 13, 15, 15])):\n",
    "    print(x, y)"
   ]
  },
  {
   "cell_type": "markdown",
   "metadata": {},
   "source": [
    "## 5. Napište iterátor `izip_longest`, který bere iterátory různé délky a pro kratší iterátory zarovnává iterables pomocí předvolené hodnoty."
   ]
  },
  {
   "cell_type": "code",
   "execution_count": null,
   "metadata": {
    "tags": [
     "solution"
    ]
   },
   "outputs": [],
   "source": [
    "# TODO: Implement your solution."
   ]
  },
  {
   "cell_type": "code",
   "execution_count": null,
   "metadata": {},
   "outputs": [],
   "source": [
    "for x, y, z in izip_longest(\n",
    "    -1,\n",
    "    iter([0, 1, 2, 3, 4, 5]),\n",
    "    iter([10, 11, 12, 13]),\n",
    "    iter([100, 101, 102, 103, 104]),\n",
    "):\n",
    "    print(x, y, z)"
   ]
  },
  {
   "cell_type": "markdown",
   "metadata": {},
   "source": [
    "## 6. Napište iterátor, který vrací nejvýše N prvků existujícího iterátoru\n",
    "\n",
    "Pokud bude zdrojový iterátor vracet méně prvků než N, korektně ukončete iteraci."
   ]
  },
  {
   "cell_type": "code",
   "execution_count": null,
   "metadata": {
    "tags": [
     "solution"
    ]
   },
   "outputs": [],
   "source": [
    "# TODO: Implement your solution."
   ]
  },
  {
   "cell_type": "code",
   "execution_count": null,
   "metadata": {},
   "outputs": [],
   "source": [
    "print(list(iterate_upto(iter(range(10)), 5)))\n",
    "print(list(iterate_upto(iter(range(3)), 5)))"
   ]
  },
  {
   "cell_type": "markdown",
   "metadata": {},
   "source": [
    "## 7. Napište iterátor, který spojí libovolný počet existujících iterátorů\n",
    "\n",
    "Tj. nejdříve vrátí všechny prvky prvního generátoru, pak druhého, atd."
   ]
  },
  {
   "cell_type": "code",
   "execution_count": null,
   "metadata": {
    "tags": [
     "solution"
    ]
   },
   "outputs": [],
   "source": [
    "# TODO: Implement your solution."
   ]
  },
  {
   "cell_type": "code",
   "execution_count": null,
   "metadata": {},
   "outputs": [],
   "source": [
    "print(list(chain(iter([1, 2, 3]), iter([4, 5, 6]), iter([7, 8, 9]))))\n",
    "print(list(chain(iter([1, 2, 3]))))\n",
    "print(list(chain()))"
   ]
  }
 ],
 "metadata": {
  "kernelspec": {
   "display_name": "Python 3 (ipykernel)",
   "language": "python",
   "name": "python3"
  },
  "language_info": {
   "codemirror_mode": {
    "name": "ipython",
    "version": 3
   },
   "file_extension": ".py",
   "mimetype": "text/x-python",
   "name": "python",
   "nbconvert_exporter": "python",
   "pygments_lexer": "ipython3",
   "version": "3.9.6"
  }
 },
 "nbformat": 4,
 "nbformat_minor": 4
}
