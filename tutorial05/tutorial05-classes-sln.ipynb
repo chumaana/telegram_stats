{
 "cells": [
  {
   "cell_type": "markdown",
   "metadata": {},
   "source": [
    "# Třídy"
   ]
  },
  {
   "cell_type": "code",
   "execution_count": null,
   "metadata": {},
   "outputs": [],
   "source": [
    "# Vynucení kontroly souladu s PEP8\n",
    "!pip install flake8 pycodestyle pycodestyle_magic\n",
    "%load_ext pycodestyle_magic\n",
    "%pycodestyle_on"
   ]
  },
  {
   "cell_type": "markdown",
   "metadata": {},
   "source": [
    "Budeme implementovat třídy na práci s grafy. Pro Python pochopitelně existuje nepočítaně knihoven pro záznam grafů a práci s nimi, nicméně je poučné (a dostatečně jednoduché) napsat si nějakou implementaci sami. Navíc si na ni budeme moci ukázat základy práce s třídami v Python'u, protože zavedení nového datového typu – kterým grafy jsou – je jedním z mála skutečně zdůvodnitelných důvodů, proč použít třídy ^_~."
   ]
  },
  {
   "cell_type": "code",
   "execution_count": null,
   "metadata": {},
   "outputs": [],
   "source": [
    "# Vynucení kontroly souladu s PEP8\n",
    "!pip install pycodestyle pycodestyle_magic\n",
    "%load_ext pycodestyle_magic\n",
    "%pycodestyle_on"
   ]
  },
  {
   "cell_type": "markdown",
   "metadata": {},
   "source": [
    "## Grafy"
   ]
  },
  {
   "cell_type": "code",
   "execution_count": null,
   "metadata": {},
   "outputs": [],
   "source": [
    "from PIL import Image\n",
    "import numpy as np\n",
    "\n",
    "img = Image.open('graph.png')\n",
    "img"
   ]
  },
  {
   "cell_type": "markdown",
   "metadata": {},
   "source": [
    "**Graf** je tvořen: \n",
    "* vrcholy (vertices, nodes),\n",
    "* hranami (edges) - spojuje 2 vrcholy.\n",
    "\n",
    "**Vlastnosti**\n",
    "* sousedi - uzly spojené hranou,\n",
    "* stupeň uzlu (degree) - počet hran vycházejících z uzlu."
   ]
  },
  {
   "cell_type": "markdown",
   "metadata": {},
   "source": [
    "## Třída `Vertex` "
   ]
  },
  {
   "cell_type": "markdown",
   "metadata": {},
   "source": [
    "### 1. Vytvořte třídu `Vertex`, jejíž třídní proměnná `id` bude držet pořadové číslo posledné vytvořeného vrcholu a každý vytvořený vrchol si bude odpovídající číslo držet ve svém atributu `id`. Vhodně předepište magickou metodu `__str__()`, kterážto se používá při výpisu informací o objektu (nejen) pomocí funkce `print()`.\n",
    "\n",
    "**Tip**: Zjevně se hodí využít služeb třídních metod.\n",
    "\n"
   ]
  },
  {
   "cell_type": "code",
   "execution_count": null,
   "metadata": {
    "tags": [
     "solution"
    ]
   },
   "outputs": [],
   "source": [
    "class Vertex:\n",
    "\n",
    "    id = 0\n",
    "\n",
    "    def __init__(self):\n",
    "        self.id = self.id_next()\n",
    "\n",
    "    @classmethod\n",
    "    def id_next(cls):\n",
    "        cls.id += 1\n",
    "        return cls.id\n",
    "\n",
    "    def __str__(self):\n",
    "        return 'Vrchol číslo ' + str(self.id)"
   ]
  },
  {
   "cell_type": "code",
   "execution_count": null,
   "metadata": {},
   "outputs": [],
   "source": [
    "v1 = Vertex()\n",
    "print(v1)\n",
    "print(v1.id)\n",
    "v2 = Vertex()\n",
    "print(v2)\n",
    "print(v2.id)"
   ]
  },
  {
   "cell_type": "markdown",
   "metadata": {},
   "source": [
    "### 2. Nyní doplňte uvedenou třídu o atribut `neighbours`, který bude ve formě množiny (protože každý soused musí mít při našem zjednodušení jedinečné ID) držet seznam všech vrcholů (tedy objektů typu `Vertex`!), a o metodu `add_neighbour(Vertex)` , která k danému vrcholu přidá právě jednoho souseda (a to opět jako objekt typu `Vertex`)\n",
    "\n",
    "**Pozor!** Přidáte-li vrcholu číslo 1 souseda číslo 2, zjevně vrchol číslo 2 musí obdržet souseda číslo 1!\n",
    "\n",
    "**Tip**:  Pokud rozšíříte popis objektu o seznam sousedů, rychle zjistíte, že výpis datového typu množina s prvky typu `Vertex` se vypisuje jinak, než jste možná čekali. Vše vyřeší doplnění metody `__repr__()`."
   ]
  },
  {
   "cell_type": "code",
   "execution_count": null,
   "metadata": {
    "tags": [
     "solution"
    ]
   },
   "outputs": [],
   "source": [
    "class Vertex:\n",
    "\n",
    "    id = 0\n",
    "\n",
    "    def __init__(self):\n",
    "        self.id = self.id_next()\n",
    "        self.neighbours = set()\n",
    "\n",
    "    @classmethod\n",
    "    def id_next(cls):\n",
    "        cls.id += 1\n",
    "        return cls.id\n",
    "\n",
    "    def add_neighbour(self, vertex):\n",
    "        self.neighbours.add(vertex)\n",
    "        vertex.neighbours.add(self)\n",
    "\n",
    "    def __str__(self):\n",
    "        return (\n",
    "            'Vrchol číslo '\n",
    "            + str(self.id)\n",
    "            + ' má sousedy '\n",
    "            + str(self.neighbours)\n",
    "        )\n",
    "\n",
    "    def __repr__(self):\n",
    "        return str(self.id)"
   ]
  },
  {
   "cell_type": "code",
   "execution_count": null,
   "metadata": {},
   "outputs": [],
   "source": [
    "v1 = Vertex()\n",
    "print(v1)\n",
    "v2 = Vertex()\n",
    "print(v2)\n",
    "\n",
    "v1.add_neighbour(v2)\n",
    "print(v1)\n",
    "print(v2)"
   ]
  },
  {
   "cell_type": "markdown",
   "metadata": {},
   "source": [
    "### 3. Upravte třídu z předchozího příkladu tak, aby (přejmenovaná) metoda `add_neighbours(Vertex, Vertex, …)` dokázala zpracovat libovolný počet argumentů, a to i nulový.\n",
    "\n",
    "**Tip**: Operátor * je jasná volba."
   ]
  },
  {
   "cell_type": "code",
   "execution_count": null,
   "metadata": {
    "tags": [
     "solution"
    ]
   },
   "outputs": [],
   "source": [
    "class Vertex:\n",
    "\n",
    "    id = 0\n",
    "\n",
    "    def __init__(self):\n",
    "        self.id = self.id_next()\n",
    "        self.neighbours = set()\n",
    "\n",
    "    @classmethod\n",
    "    def id_next(cls):\n",
    "        cls.id += 1\n",
    "        return cls.id\n",
    "\n",
    "    def add_neighbours(self, *vertices):\n",
    "        self.neighbours.update(vertices)\n",
    "        for vertex in vertices:\n",
    "            vertex.neighbours.add(self)\n",
    "\n",
    "    def __str__(self):\n",
    "        return (\n",
    "            'Vrchol číslo '\n",
    "            + str(self.id)\n",
    "            + ' má sousedy '\n",
    "            + str(self.neighbours)\n",
    "        )\n",
    "\n",
    "    def __repr__(self):\n",
    "        return str(self.id)"
   ]
  },
  {
   "cell_type": "code",
   "execution_count": null,
   "metadata": {},
   "outputs": [],
   "source": [
    "v1 = Vertex()\n",
    "v2 = Vertex()\n",
    "v3 = Vertex()\n",
    "\n",
    "v1.add_neighbours(v2, v3)\n",
    "print(v1)\n",
    "print(v2)\n",
    "print(v3)"
   ]
  },
  {
   "cell_type": "markdown",
   "metadata": {},
   "source": [
    "### 4. Doplňte metodu `degree()`, která vypíše stupeň uzlu.\n",
    "\n",
    "**Tip**: Stupeň (degree) vrcholu je počet jeho sousedů."
   ]
  },
  {
   "cell_type": "code",
   "execution_count": null,
   "metadata": {
    "tags": [
     "solution"
    ]
   },
   "outputs": [],
   "source": [
    "class Vertex:\n",
    "\n",
    "    id = 0\n",
    "\n",
    "    def __init__(self):\n",
    "        self.id = self.id_next()\n",
    "        self.neighbours = set()\n",
    "\n",
    "    @classmethod\n",
    "    def id_next(cls):\n",
    "        cls.id += 1\n",
    "        return cls.id\n",
    "\n",
    "    def add_neighbours(self, *vertices):\n",
    "        self.neighbours.update(vertices)\n",
    "        for vertex in vertices:\n",
    "            vertex.neighbours.add(self)\n",
    "\n",
    "    def degree(self):\n",
    "        return len(self.neighbours)\n",
    "\n",
    "    def __str__(self):\n",
    "        return (\n",
    "            'Vrchol číslo '\n",
    "            + str(self.id)\n",
    "            + ' má sousedy '\n",
    "            + str(self.neighbours)\n",
    "        )\n",
    "\n",
    "    def __repr__(self):\n",
    "        return str(self.id)"
   ]
  },
  {
   "cell_type": "code",
   "execution_count": null,
   "metadata": {},
   "outputs": [],
   "source": [
    "v1 = Vertex()\n",
    "v2 = Vertex()\n",
    "v3 = Vertex()\n",
    "\n",
    "v1.add_neighbours(v2, v3)\n",
    "print(v1, 'a stupeň', v1.degree())\n",
    "print(v2, 'a stupeň', v2.degree())"
   ]
  },
  {
   "cell_type": "markdown",
   "metadata": {},
   "source": [
    "### 5. Zkuste proto přepsat program tak, abyste aktuální stupeň vrcholu mohli získat dotazem `vertex.degree`.\n",
    "\n",
    "**Tip**: Tohle je práce pro protokol deskriptorů. A pokud – jako v tomto případě – nepotřebujete nic jiného než `getter`, je zcela výjimečně dekorátorová varianta kratší a přehlednější."
   ]
  },
  {
   "cell_type": "code",
   "execution_count": null,
   "metadata": {
    "tags": [
     "solution"
    ]
   },
   "outputs": [],
   "source": [
    "class Vertex:\n",
    "\n",
    "    id = 0\n",
    "\n",
    "    def __init__(self):\n",
    "        self.id = self.id_next()\n",
    "        self.neighbours = set()\n",
    "\n",
    "    @classmethod\n",
    "    def id_next(cls):\n",
    "        cls.id += 1\n",
    "        return cls.id\n",
    "\n",
    "    def add_neighbours(self, *vertices):\n",
    "        self.neighbours.update(vertices)\n",
    "        for vertex in vertices:\n",
    "            vertex.neighbours.add(self)\n",
    "\n",
    "    @property\n",
    "    def degree(self):\n",
    "        return len(self.neighbours)\n",
    "\n",
    "    def __str__(self):\n",
    "        return (\n",
    "            'Vrchol číslo '\n",
    "            + str(self.id)\n",
    "            + ' má sousedy '\n",
    "            + str(self.neighbours)\n",
    "        )\n",
    "\n",
    "    def __repr__(self):\n",
    "        return str(self.id)"
   ]
  },
  {
   "cell_type": "code",
   "execution_count": null,
   "metadata": {},
   "outputs": [],
   "source": [
    "v1 = Vertex()\n",
    "v2 = Vertex()\n",
    "v3 = Vertex()\n",
    "\n",
    "v1.add_neighbours(v2, v3)\n",
    "print(v1, 'a stupeň', v1.degree)\n",
    "print(v2, 'a stupeň', v2.degree)"
   ]
  },
  {
   "cell_type": "markdown",
   "metadata": {},
   "source": [
    "### 6. Doplňte vaši implementaci o metodu `remove_neighbours(Vertex, Vertex, ...)`, která ze seznamu sousedů daného vrcholu odstraní zadané (pokud jsou) sousedy.\n",
    "\n",
    "**Tip**: Pokud není důležité hlásit (či řešit) pokus o odstranění neexistujícího souseda, můžete s výhodou použít služeb množinové metody `discard()`. V opačném případě je čas pro `remove()`, ovšem kód se patřičně zesložití."
   ]
  },
  {
   "cell_type": "code",
   "execution_count": null,
   "metadata": {
    "tags": [
     "solution"
    ]
   },
   "outputs": [],
   "source": [
    "class Vertex:\n",
    "\n",
    "    id = 0\n",
    "\n",
    "    def __init__(self):\n",
    "        self.id = self.id_next()\n",
    "        self.neighbours = set()\n",
    "\n",
    "    @classmethod\n",
    "    def id_next(cls):\n",
    "        cls.id += 1\n",
    "        return cls.id\n",
    "\n",
    "    def add_neighbours(self, *vertices):\n",
    "        self.neighbours.update(vertices)\n",
    "        for vertex in vertices:\n",
    "            vertex.neighbours.add(self)\n",
    "\n",
    "    def remove_neigbours(self, *vertices):\n",
    "        for vertex in vertices:\n",
    "            self.neighbours.discard(vertex)\n",
    "            vertex.neighbours.discard(self)\n",
    "\n",
    "    @property\n",
    "    def degree(self):\n",
    "        return len(self.neighbours)\n",
    "\n",
    "    def __str__(self):\n",
    "        return (\n",
    "            'Vrchol číslo '\n",
    "            + str(self.id)\n",
    "            + ' má sousedy '\n",
    "            + str(self.neighbours)\n",
    "        )\n",
    "\n",
    "    def __repr__(self):\n",
    "        return str(self.id)"
   ]
  },
  {
   "cell_type": "code",
   "execution_count": null,
   "metadata": {},
   "outputs": [],
   "source": [
    "v1 = Vertex()\n",
    "v2 = Vertex()\n",
    "v3 = Vertex()\n",
    "v4 = Vertex()\n",
    "\n",
    "v1.add_neighbours(v2, v3, v4)\n",
    "print(v1)\n",
    "print(v2)\n",
    "print(v3)\n",
    "print(v4)\n",
    "v1.remove_neigbours(v2, v4)\n",
    "print(v1)\n",
    "print(v2)\n",
    "print(v3)\n",
    "print(v4)"
   ]
  },
  {
   "cell_type": "markdown",
   "metadata": {},
   "source": [
    "### 7. Doplňte metody na přidávání a odstraňování sousedů o kontrolu zda jsou volány se správnými parametry (tedy s objekty typu `Vertex`) \n",
    "\n",
    "**Tip**: Použijte výjimku `TypeError` a funkci `isinstance(instance, class`)."
   ]
  },
  {
   "cell_type": "code",
   "execution_count": null,
   "metadata": {
    "tags": [
     "solution"
    ]
   },
   "outputs": [],
   "source": [
    "class Vertex:\n",
    "\n",
    "    id = 0\n",
    "\n",
    "    def __init__(self):\n",
    "        self.id = self.id_next()\n",
    "        self.neighbours = set()\n",
    "\n",
    "    @classmethod\n",
    "    def id_next(cls):\n",
    "        cls.id += 1\n",
    "        return cls.id\n",
    "\n",
    "    def add_neighbours(self, *vertices):\n",
    "        for vertex in vertices:\n",
    "            if not isinstance(vertex, Vertex):\n",
    "                raise TypeError(\n",
    "                    f'Očekáván argument typu Vertex.'\n",
    "                    f' Zadáno: {type(vertex)}'\n",
    "                )\n",
    "            vertex.neighbours.add(self)\n",
    "        self.neighbours.update(vertices)\n",
    "\n",
    "    def remove_neighbours(self, *vertices):\n",
    "        for vertex in vertices:\n",
    "            if not isinstance(vertex, Vertex):\n",
    "                raise TypeError(\n",
    "                    f'Očekáván argument typu Vertex.'\n",
    "                    f' Zadáno: {type(vertex)}'\n",
    "                )\n",
    "            self.neighbours.discard(vertex)\n",
    "        for vertex in vertices:\n",
    "            vertex.neighbours.discard(self)\n",
    "\n",
    "    @property\n",
    "    def degree(self):\n",
    "        return len(self.neigbours)\n",
    "\n",
    "    def __str__(self):\n",
    "        return (\n",
    "            'Vrchol číslo '\n",
    "            + str(self.id)\n",
    "            + ' má sousedy '\n",
    "            + str(self.neighbours)\n",
    "        )\n",
    "\n",
    "    def __repr__(self):\n",
    "        return str(self.id)"
   ]
  },
  {
   "cell_type": "code",
   "execution_count": null,
   "metadata": {},
   "outputs": [],
   "source": [
    "v1 = Vertex()\n",
    "v2 = Vertex()\n",
    "v3 = Vertex()\n",
    "v4 = Vertex()\n",
    "\n",
    "v1.add_neighbours(v2, 3, v4)\n",
    "\n",
    "v1.add_neighbours(v2, v3, v4)\n",
    "print(v1)\n",
    "v1.remove_neighbours(v2, 4)"
   ]
  },
  {
   "cell_type": "markdown",
   "metadata": {},
   "source": [
    "## 8. Jelikož datový typ množina si nepamatuje pořadí, upravte výpis vrcholů tak, aby byl seřazený podle jejich ID.\n",
    "\n",
    "**Tip**: Jinými slovy musíte objekty typu `Vertex` naučit reagovat na funkci `sorted()`</a>."
   ]
  },
  {
   "cell_type": "code",
   "execution_count": null,
   "metadata": {
    "tags": [
     "solution"
    ]
   },
   "outputs": [],
   "source": [
    "class Vertex:\n",
    "\n",
    "    id = 0\n",
    "\n",
    "    def __init__(self):\n",
    "        self.id = self.id_next()\n",
    "        self.neighbours = set()\n",
    "\n",
    "    @classmethod\n",
    "    def id_next(cls):\n",
    "        cls.id += 1\n",
    "        return cls.id\n",
    "\n",
    "    def add_neighbours(self, *vertices):\n",
    "        for vertex in vertices:\n",
    "            if not isinstance(vertex, Vertex):\n",
    "                raise TypeError(\n",
    "                    f'Očekáván argument typu Vertex.'\n",
    "                    f' Zadáno: {type(vertex)}'\n",
    "                )\n",
    "            vertex.neighbours.add(self)\n",
    "        self.neighbours.update(vertices)\n",
    "\n",
    "    def remove_neighbours(self, *vertices):\n",
    "        for vertex in vertices:\n",
    "            if not isinstance(vertex, Vertex):\n",
    "                raise TypeError(\n",
    "                    f'Očekáván argument typu Vertex.'\n",
    "                    f' Zadáno: {type(vertex)}'\n",
    "                )\n",
    "            self.neighbours.discard(vertex)\n",
    "        for vertex in vertices:\n",
    "            vertex.neighbours.discard(self)\n",
    "\n",
    "    @property\n",
    "    def degree(self):\n",
    "        return len(self.neighbours)\n",
    "\n",
    "    def __lt__(self, other):\n",
    "        return self.id < other.id\n",
    "\n",
    "    def __str__(self):\n",
    "        return (\n",
    "            f'Vrchol číslo {self.id} má sousedy'\n",
    "            f' {sorted(self.neighbours)}'\n",
    "        )\n",
    "\n",
    "    def __repr__(self):\n",
    "        return str(self.id)"
   ]
  },
  {
   "cell_type": "code",
   "execution_count": null,
   "metadata": {},
   "outputs": [],
   "source": [
    "v1 = Vertex()\n",
    "v2 = Vertex()\n",
    "v3 = Vertex()\n",
    "v4 = Vertex()\n",
    "\n",
    "print(v1)\n",
    "print(v2)\n",
    "v1.add_neighbours(v2, v4, v3)\n",
    "print(v1)\n",
    "print(v2)"
   ]
  },
  {
   "cell_type": "markdown",
   "metadata": {},
   "source": [
    "## Třída `Graph`\n",
    "\n",
    "Graf je tvořen vrcholy, některé z nichž jsou spojeny hranami. Jelikož již máme k dispozici třídu `Vertex`, můžeme třídu `Graph` pro záznam grafu zavést několika možnými způsoby. "
   ]
  },
  {
   "cell_type": "markdown",
   "metadata": {},
   "source": [
    "### 9. Začněmež možností zadat vrcholy tvořící graf (ideálně již s existujícími propojeními) při zakládání třídy, tedy uvnitř její metody `__init__()`. Vrcholy patřící grafu budeme opět držet v datové struktuře množina.\n",
    "\n",
    "**PS**: Pro rozlišení mezi grafy opět každý z nich číslujte podobně jako vrcholy jedinečným identifikátorem."
   ]
  },
  {
   "cell_type": "code",
   "execution_count": null,
   "metadata": {
    "tags": [
     "solution"
    ]
   },
   "outputs": [],
   "source": [
    "class Graph:\n",
    "\n",
    "    id = 0\n",
    "\n",
    "    def __init__(self, *vertices):\n",
    "        self.id = self.id_next()\n",
    "        self.vertices = set(vertices)\n",
    "\n",
    "    @classmethod\n",
    "    def id_next(cls):\n",
    "        cls.id += 1\n",
    "        return cls.id\n",
    "\n",
    "    def __str__(self):\n",
    "        return (\n",
    "            f'Graf číslo {self.id} obsahuje vrcholy'\n",
    "            f' {sorted(self.vertices)}'\n",
    "        )"
   ]
  },
  {
   "cell_type": "code",
   "execution_count": null,
   "metadata": {},
   "outputs": [],
   "source": [
    "g1 = Graph(v1, v2, v3, v4)\n",
    "print(g1)\n",
    "\n",
    "g2 = Graph(v2, v1)\n",
    "print(g2)"
   ]
  },
  {
   "cell_type": "markdown",
   "metadata": {},
   "source": [
    "### 10. Upravte proto předchozí řešení tak, aby výpis informací o grafu obsahoval i přehled hran mezi vrcholy.\n",
    "\n",
    "**Tip**: Protože hrana v našem případě spojuje symetricky dva vrcholy, je zrovna tento požadavek docela komplikací, protože hrany „zpátky“ by to chtělo znovu nevypisovat, pokud už jsme vypsali příslušné hrany „tam“. Nicméně tak jako tak asi budete potřebovat smyčku přes vrcholy a je otázka, jestli ji rovnou nedat do vlastní metody určené jen a pouze právě k výpisu hran."
   ]
  },
  {
   "cell_type": "code",
   "execution_count": null,
   "metadata": {
    "tags": [
     "solution"
    ]
   },
   "outputs": [],
   "source": [
    "class Graph:\n",
    "\n",
    "    id = 0\n",
    "\n",
    "    def __init__(self, *vertices):\n",
    "        self.id = self.id_next()\n",
    "        self.vertices = set(vertices)\n",
    "\n",
    "    @classmethod\n",
    "    def id_next(cls):\n",
    "        cls.id += 1\n",
    "        return cls.id\n",
    "\n",
    "    @property\n",
    "    def edges(self):\n",
    "        edges = set()\n",
    "        for vertex in self.vertices:\n",
    "            for neigbour in vertex.neighbours:\n",
    "                edges.add(frozenset((vertex.id, neigbour.id)))\n",
    "        return edges\n",
    "\n",
    "    def __str__(self):\n",
    "        return (\n",
    "            f'Graf číslo {self.id} obsahuje vrcholy'\n",
    "            f' {sorted(self.vertices)}'\n",
    "            f' spojené hranami {self.edges}'\n",
    "        )"
   ]
  },
  {
   "cell_type": "code",
   "execution_count": null,
   "metadata": {},
   "outputs": [],
   "source": [
    "g1 = Graph(v1, v2, v3, v4)\n",
    "print(g1)"
   ]
  },
  {
   "cell_type": "markdown",
   "metadata": {},
   "source": [
    "### 11. Doplňte proto metodu  `add_vertices(Vertex, Vertex, …)`, která přidá libovolný počet zadaných vrcholů do grafu.\n",
    "\n",
    "**Tip**: Přidáváme tedy zatím stále kompletní vrcholy vybavené sousedy."
   ]
  },
  {
   "cell_type": "code",
   "execution_count": null,
   "metadata": {
    "tags": [
     "solution"
    ]
   },
   "outputs": [],
   "source": [
    "class Graph:\n",
    "\n",
    "    id = 0\n",
    "\n",
    "    def __init__(self, *vertices):\n",
    "        self.id = self.id_next()\n",
    "        self.vertices = set(vertices)\n",
    "\n",
    "    @classmethod\n",
    "    def id_next(cls):\n",
    "        cls.id += 1\n",
    "        return cls.id\n",
    "\n",
    "    def add_vertices(self, *vertices):\n",
    "        self.vertices.update(vertices)\n",
    "\n",
    "    @property\n",
    "    def edges(self):\n",
    "        edges = set()\n",
    "        for vertex in self.vertices:\n",
    "            for neigbour in vertex.neighbours:\n",
    "                edges.add(frozenset((vertex.id, neigbour.id)))\n",
    "        return edges\n",
    "\n",
    "    def __str__(self):\n",
    "        return (\n",
    "            f'Graf číslo {self.id} obsahuje vrcholy'\n",
    "            f' {sorted(self.vertices)}'\n",
    "            f' spojené hranami {self.edges}'\n",
    "        )"
   ]
  },
  {
   "cell_type": "code",
   "execution_count": null,
   "metadata": {},
   "outputs": [],
   "source": [
    "v1 = Vertex()\n",
    "v2 = Vertex()\n",
    "v3 = Vertex()\n",
    "v4 = Vertex()\n",
    "v1.add_neighbours(v2, v3, v4)\n",
    "print(v1)\n",
    "\n",
    "g1 = Graph(v1)\n",
    "print(g1)\n",
    "g1.add_vertices(v2, v3, v4)\n",
    "print(g1)"
   ]
  },
  {
   "cell_type": "markdown",
   "metadata": {},
   "source": [
    "### 12. Naimplementujte metodu `connect_vertices(vertex1, vertex2)`, která spojí hranou dva vrcholy.\n",
    "\n",
    "**Tip**:  Nyní tedy již přidáváme do grafu „čisté“ vrcholy a hrany doplňujeme až později."
   ]
  },
  {
   "cell_type": "code",
   "execution_count": null,
   "metadata": {},
   "outputs": [],
   "source": [
    "class Graph:\n",
    "\n",
    "    id = 0\n",
    "\n",
    "    def __init__(self, *vertices):\n",
    "        self.id = self.id_next()\n",
    "        self.vertices = set(vertices)\n",
    "\n",
    "    @classmethod\n",
    "    def id_next(cls):\n",
    "        cls.id += 1\n",
    "        return cls.id\n",
    "\n",
    "    def add_vertices(self, *vertices):\n",
    "        self.vertices.update(vertices)\n",
    "\n",
    "    @staticmethod\n",
    "    def connect_vertices(vertex1, vertex2):\n",
    "        vertex1.add_neighbours(vertex2)\n",
    "\n",
    "    @property\n",
    "    def edges(self):\n",
    "        edges = set()\n",
    "        for vertex in self.vertices:\n",
    "            for neigbour in vertex.neighbours:\n",
    "                edges.add(frozenset((vertex.id, neigbour.id)))\n",
    "        return edges\n",
    "\n",
    "    def __str__(self):\n",
    "        return (\n",
    "            f'Graf číslo {self.id} obsahuje vrcholy'\n",
    "            f' {sorted(self.vertices)}'\n",
    "            f' spojené hranami {self.edges}'\n",
    "        )"
   ]
  },
  {
   "cell_type": "code",
   "execution_count": null,
   "metadata": {},
   "outputs": [],
   "source": [
    "v1 = Vertex()\n",
    "v2 = Vertex()\n",
    "v3 = Vertex()\n",
    "print(v1)\n",
    "\n",
    "g1 = Graph(v1, v2, v3)\n",
    "print(g1)\n",
    "g1.connect_vertices(v1, v2)\n",
    "print(g1)"
   ]
  },
  {
   "cell_type": "markdown",
   "metadata": {},
   "source": [
    "### 13. Napište metodu `remove_vertices(Vertex, Vertex, ...)`, která odstraní zadané vrcholy. Při odstraňování vrcholu musíme odstranit také všechny hrany, které do něj vedou.\n",
    "\n",
    "**Tip**: Jedná se tedy o dvoukrokovou operaci – kromě odstranění samotného vrcholu ze seznamu (u nás množiny) vrcholů grafu, musíme také ze všech zainteresovaných vrcholů odstranit informace o případných hranách, které je mohou spojovat."
   ]
  },
  {
   "cell_type": "code",
   "execution_count": null,
   "metadata": {},
   "outputs": [],
   "source": [
    "class Graph:\n",
    "\n",
    "    id = 0\n",
    "\n",
    "    def __init__(self, *vertices):\n",
    "        self.id = self.id_next()\n",
    "        self.vertices = set(vertices)\n",
    "\n",
    "    @classmethod\n",
    "    def id_next(cls):\n",
    "        cls.id += 1\n",
    "        return cls.id\n",
    "\n",
    "    def add_vertices(self, *vertices):\n",
    "        self.vertices.update(vertices)\n",
    "\n",
    "    @staticmethod\n",
    "    def connect_vertices(vertex1, vertex2):\n",
    "        vertex1.add_neighbours(vertex2)\n",
    "\n",
    "    def remove_vertices(self, *vertices):\n",
    "        for vertex in vertices:\n",
    "            vertex.remove_neighbours(*vertex.neighbours)\n",
    "            self.vertices.discard(vertex)\n",
    "\n",
    "    @property\n",
    "    def edges(self):\n",
    "        edges = set()\n",
    "        for vertex in self.vertices:\n",
    "            for neigbour in vertex.neighbours:\n",
    "                edges.add(frozenset((vertex.id, neigbour.id)))\n",
    "        return edges\n",
    "\n",
    "    def __str__(self):\n",
    "        return (\n",
    "            f'Graf číslo {self.id} obsahuje vrcholy'\n",
    "            f' {sorted(self.vertices)}'\n",
    "            f' spojené hranami {self.edges}'\n",
    "        )"
   ]
  },
  {
   "cell_type": "code",
   "execution_count": null,
   "metadata": {},
   "outputs": [],
   "source": [
    "v1 = Vertex()\n",
    "v2 = Vertex()\n",
    "v3 = Vertex()\n",
    "\n",
    "g1 = Graph(v1, v2, v3)\n",
    "g1.connect_vertices(v1, v2)\n",
    "g1.connect_vertices(v1, v3)\n",
    "g1.connect_vertices(v2, v3)\n",
    "print(g1)\n",
    "print(v3)\n",
    "g1.remove_vertices(v3, v2)\n",
    "print(g1)\n",
    "print(v3)\n",
    "print(v2)"
   ]
  },
  {
   "cell_type": "markdown",
   "metadata": {},
   "source": [
    "### 14. Připište ještě metodu (nebo vlastnost) `export_graph()` , která vrátí informace o grafu v následující textové podobě: \n",
    "\n",
    "number_of_vertices; vertex_number-vertex_number,…\n",
    "\n",
    "**Tip**: V podstatě můžete využít kód pro výpis hran u popisu grafu. Záleží samozřejmě, jak konkrétně ho máte napsaný."
   ]
  },
  {
   "cell_type": "code",
   "execution_count": null,
   "metadata": {},
   "outputs": [],
   "source": [
    "class Graph:\n",
    "\n",
    "    id = 0\n",
    "\n",
    "    def __init__(self, *vertices):\n",
    "        self.id = self.id_next()\n",
    "        self.vertices = set(vertices)\n",
    "\n",
    "    @classmethod\n",
    "    def id_next(cls):\n",
    "        cls.id += 1\n",
    "        return cls.id\n",
    "\n",
    "    def add_vertices(self, *vertices):\n",
    "        self.vertices.update(vertices)\n",
    "\n",
    "    @staticmethod\n",
    "    def connect_vertices(vertex1, vertex2):\n",
    "        vertex1.add_neighbours(vertex2)\n",
    "\n",
    "    def remove_vertices(self, *vertices):\n",
    "        for vertex in vertices:\n",
    "            vertex.remove_neighbours(*vertex.neighbours)\n",
    "            self.vertices.discard(vertex)\n",
    "\n",
    "    @property\n",
    "    def vertex_number(self):\n",
    "        return len(self.vertices)\n",
    "\n",
    "    @property\n",
    "    def edges(self):\n",
    "        edges = set()\n",
    "        for vertex in self.vertices:\n",
    "            for neigbour in vertex.neighbours:\n",
    "                edges.add(frozenset((vertex.id, neigbour.id)))\n",
    "        return edges\n",
    "\n",
    "    @property\n",
    "    def export_graph(self):\n",
    "        s = str(self.vertex_number) + ';'\n",
    "        edges = sorted(tuple(e) for e in self.edges)\n",
    "        s += ','.join('-'.join(str(idx) for idx in edge) for edge in edges)\n",
    "        return s\n",
    "\n",
    "    def __str__(self):\n",
    "        return (\n",
    "            f'Graf číslo {self.id} obsahuje vrcholy'\n",
    "            f' {sorted(self.vertices)}'\n",
    "            f' spojené hranami {self.edges}'\n",
    "        )"
   ]
  },
  {
   "cell_type": "code",
   "execution_count": null,
   "metadata": {},
   "outputs": [],
   "source": [
    "v1 = Vertex()\n",
    "v2 = Vertex()\n",
    "v3 = Vertex()\n",
    "\n",
    "g1 = Graph(v1, v2, v3)\n",
    "g1.connect_vertices(v1, v2)\n",
    "g1.connect_vertices(v1, v3)\n",
    "g1.connect_vertices(v2, v3)\n",
    "print(g1)\n",
    "print(g1.export_graph)"
   ]
  },
  {
   "cell_type": "markdown",
   "metadata": {},
   "source": [
    "### 15.  Na konec tohoto cvičení implementujte ještě funkci opačnou k předchozí – metoda `import_graph(string)` naimportujte do podoby grafu jeho řetězcovou reprezentaci ve stejném formátu jako v předchozím kroku.\n",
    "\n",
    "**Tip**:  Menším problémem může být, že naše metody pro přidávání vrcholů očekávají na vstupu referenci na vrchol, zatímco tento textový formát referencuje vrcholy pomocí jejich ID. Nicméně pokud se omezíme na jediný graf, aby se nám nemotala globální ID vrcholů s jejich pořadovými čísly pro jednotlivé grafy, je řešení celkem jednoduché."
   ]
  },
  {
   "cell_type": "code",
   "execution_count": null,
   "metadata": {},
   "outputs": [],
   "source": [
    "class Graph:\n",
    "\n",
    "    id = 0\n",
    "\n",
    "    def __init__(self, *vertices):\n",
    "        self.id = self.id_next()\n",
    "        self.vertices = set(vertices)\n",
    "\n",
    "    @classmethod\n",
    "    def id_next(cls):\n",
    "        cls.id += 1\n",
    "        return cls.id\n",
    "\n",
    "    def add_vertices(self, *vertices):\n",
    "        self.vertices.update(vertices)\n",
    "\n",
    "    @staticmethod\n",
    "    def connect_vertices(vertex1, vertex2):\n",
    "        vertex1.add_neighbours(vertex2)\n",
    "\n",
    "    def remove_vertices(self, *vertices):\n",
    "        for vertex in vertices:\n",
    "            vertex.remove_neighbours(*vertex.neighbours)\n",
    "            self.vertices.discard(vertex)\n",
    "\n",
    "    @property\n",
    "    def vertex_number(self):\n",
    "        return len(self.vertices)\n",
    "\n",
    "    @property\n",
    "    def edges(self):\n",
    "        edges = set()\n",
    "        for vertex in self.vertices:\n",
    "            for neigbour in vertex.neighbours:\n",
    "                edges.add(frozenset((vertex.id, neigbour.id)))\n",
    "        return edges\n",
    "\n",
    "    @property\n",
    "    def export_graph(self):\n",
    "        s = str(self.vertex_number) + ';'\n",
    "        edges = sorted(tuple(e) for e in self.edges)\n",
    "        s += ','.join('-'.join(str(idx) for idx in edge) for edge in edges)\n",
    "        return s\n",
    "\n",
    "    def import_graph(self, xs):\n",
    "        vertex_number, edges = xs.split(';')\n",
    "        edges = [tuple(e.split('-')) for e in edges.split(',')]\n",
    "        vertices = set(e[0] for e in edges).union(set(e[1] for e in edges))\n",
    "        vertices = {idx: Vertex() for idx in vertices}\n",
    "\n",
    "        for idx, vertex in vertices.items():\n",
    "            vertex.id = idx\n",
    "\n",
    "        self.add_vertices(*list(vertices.values()))\n",
    "        for vertex_a, vertex_b in edges:\n",
    "            self.connect_vertices(vertices[vertex_a], vertices[vertex_b])\n",
    "\n",
    "    def __str__(self):\n",
    "        return (\n",
    "            f'Graf číslo {self.id} obsahuje vrcholy'\n",
    "            f' {sorted(self.vertices)}'\n",
    "            f' spojené hranami {self.edges}'\n",
    "        )"
   ]
  },
  {
   "cell_type": "code",
   "execution_count": null,
   "metadata": {},
   "outputs": [],
   "source": [
    "g1 = Graph()\n",
    "print(g1)\n",
    "print(g1.import_graph('4;1-3,1-2,2-3,3-4'))\n",
    "print(g1)"
   ]
  }
 ],
 "metadata": {
  "celltoolbar": "Tags",
  "kernelspec": {
   "display_name": "Python 3 (ipykernel)",
   "language": "python",
   "name": "python3"
  },
  "language_info": {
   "codemirror_mode": {
    "name": "ipython",
    "version": 3
   },
   "file_extension": ".py",
   "mimetype": "text/x-python",
   "name": "python",
   "nbconvert_exporter": "python",
   "pygments_lexer": "ipython3",
   "version": "3.9.6"
  }
 },
 "nbformat": 4,
 "nbformat_minor": 4
}
