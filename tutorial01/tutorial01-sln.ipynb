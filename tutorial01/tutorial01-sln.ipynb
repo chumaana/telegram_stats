{
 "cells": [
  {
   "cell_type": "code",
   "execution_count": null,
   "metadata": {},
   "outputs": [],
   "source": [
    "# Vynucení kontroly souladu s PEP8\n",
    "!pip install flake8 pycodestyle pycodestyle_magic\n",
    "%load_ext pycodestyle_magic\n",
    "%pycodestyle_on"
   ]
  },
  {
   "cell_type": "markdown",
   "metadata": {},
   "source": [
    "# Základy Python'u\n",
    "\n",
    "## 1. Práce s čísly:\n",
    "Proveďte následující úkoly a výsledek vypište pomocí funkce `print`\n",
    "\n",
    "1. Sečtěte a čísla 3, 4 a 5.\n",
    "2. Sečtěte druhé mocniny čísel 3, 4 a 5.\n",
    "3. Ověřte, že pro čísla 3, 4, 5 platí Pythagorova věta.\n",
    "4. Spočtěte v reálném oboru, kolikrát se vejde číslo 7 do čísla 51.\n",
    "5. Spočtěte v celočíselném oboru, kolikrát se vejde číslo 7 do čísla 51.\n",
    "6. Zjistěte, jaký je zbytek po celočíselném dělení čísla 51 číslem 7.\n"
   ]
  },
  {
   "cell_type": "markdown",
   "metadata": {},
   "source": [
    "### HINT\n",
    "Procvičování na základní operace s čísly aneb Python jako kalkulačka. Nezapomeňte na rozdíly mezi operátory /, // a %.\n"
   ]
  },
  {
   "cell_type": "code",
   "execution_count": null,
   "metadata": {
    "tags": [
     "solution"
    ]
   },
   "outputs": [],
   "source": [
    "# 1.\n",
    "print(3 + 4 + 5)\n",
    "\n",
    "# 2.\n",
    "print(3**2 + 4**2 + 5**2)\n",
    "\n",
    "# 3.\n",
    "print(3**2 + 4**2 == 5**2)\n",
    "\n",
    "# 4.\n",
    "print(51 / 7)\n",
    "\n",
    "# 5.\n",
    "print(51 // 7)\n",
    "\n",
    "# 6.\n",
    "print(51 % 7)"
   ]
  },
  {
   "cell_type": "markdown",
   "metadata": {},
   "source": [
    "## 2. Práce s řetězci:\n",
    "1. Zjistěte počet znaků ve vašem jméně. Pro načtení jména použijte funkci `input()`\n",
    "2. Vypište první znak vašeho jména.\n",
    "3. Vypište druhý znak vašeho jména.\n",
    "4. Vypište poslední znak vašeho jména.\n",
    "5. Vypište předposlední znak vašeho jména.\n",
    "\n"
   ]
  },
  {
   "cell_type": "markdown",
   "metadata": {},
   "source": [
    "### HINT\n",
    "Jen naprosté základy, pořádně probereme v budoucnosti. Nápověda: len(), [n]"
   ]
  },
  {
   "cell_type": "code",
   "execution_count": null,
   "metadata": {
    "tags": [
     "solution"
    ]
   },
   "outputs": [],
   "source": [
    "# 1.\n",
    "name = input(\"Zadejte vaše jméno: \")\n",
    "print(len(name))\n",
    "\n",
    "# 2.\n",
    "print(name[0])\n",
    "\n",
    "# 3.\n",
    "print(name[1])\n",
    "\n",
    "# 4.\n",
    "print(name[-1])\n",
    "\n",
    "# 5.\n",
    "print(name[-2])"
   ]
  },
  {
   "cell_type": "markdown",
   "metadata": {},
   "source": [
    "## 3. Podmínky:\n",
    "1. Vypište větší ze dvou zadaných čísel. Čísla si uložte do proměnných\n",
    "2. Upravte předchozí program – vypište obě zadaná čísla se slovním komentářem, které z nich je větší.\n",
    "3. Ukažte výsledek porovnání délek (počtu písmen) obou částí vašeho jména.\n",
    "4. Vyzkoušením obou možností uzávorkování zjistěte na výrazu False and False or True který z logických operátorů and a or má vyšší prioritu.\n",
    "5. Zopakujte si předchozí příklad pro zadání 0 and '' or \"Ahoj!\". Co zjistíte?"
   ]
  },
  {
   "cell_type": "markdown",
   "metadata": {},
   "source": [
    "### HINT \n",
    "if-else, skládání podmínek. Jde to samozřejmě i různě jinak.\n"
   ]
  },
  {
   "cell_type": "code",
   "execution_count": null,
   "metadata": {
    "tags": [
     "solution"
    ]
   },
   "outputs": [],
   "source": [
    "x, y = 2, 3\n",
    "\n",
    "# 1.\n",
    "if x >= y:\n",
    "    print(x)\n",
    "else:\n",
    "    print(y)\n",
    "\n",
    "\n",
    "# 2.\n",
    "if x > y:\n",
    "    print('číslo', x, 'je větší než číslo', y)\n",
    "elif x == y:\n",
    "    print('číslo', x, 'je stejně velké jako číslo', y)\n",
    "else:\n",
    "    print('číslo', y, 'je větší než číslo', x)\n",
    "\n",
    "# 3.\n",
    "print(len('Jan') > len('Novák'))\n",
    "\n",
    "# 4.\n",
    "print(False and False or True)\n",
    "print((False and False) or True)\n",
    "print(False and (False or True))\n",
    "\n",
    "# 5.\n",
    "print(0 and '' or \"Ahoj!\")\n",
    "print((0 and '') or \"Ahoj!\")\n",
    "print(0 and ('' or \"Ahoj!\"))"
   ]
  },
  {
   "cell_type": "markdown",
   "metadata": {},
   "source": [
    "## 4. Cyklus while:\n",
    "1. Vypište 11x pozdrav Ahoj!\n",
    "2. Vypište postupně čísla 0 až 9, tj. takto vzestupně.\n",
    "3. Vypište postupně čísla 9 až 0, tj. takto sestupně.\n",
    "4. Vypište postupně všechna písmenka ve vašem jméně. (Procházejte řetězec s vaším jménem po indexech a zaražte se na správné délce. Tj. použijte notaci [] a funkci len().)\n",
    "5. Vypište z vašeho jména každý druhý znak."
   ]
  },
  {
   "cell_type": "markdown",
   "metadata": {},
   "source": [
    "### HINT\n",
    "Nezapomeňte, že v těle cyklu musíte měnit to, na čem závisí podmínka, abyste z něj mohli vůbec někdy odejít (jinak než pomocí break). Jinak se zrovna tahle konstrukce používá skoro jako všude jinde (až na to, že v rámci podmínky nemůže být přiřazovací příkaz, což může ze začátku docela chybět).\n"
   ]
  },
  {
   "cell_type": "code",
   "execution_count": null,
   "metadata": {
    "tags": [
     "solution"
    ]
   },
   "outputs": [],
   "source": [
    "# 1.\n",
    "i = 0\n",
    "while i < 11:\n",
    "    print(\"Ahoj!\")\n",
    "    i += 1\n",
    "\n",
    "# 2.\n",
    "i = 0\n",
    "while i < 10:\n",
    "    print(i)\n",
    "    i += 1\n",
    "\n",
    "# 3.\n",
    "i = 9\n",
    "while i >= 0:\n",
    "    print(i)\n",
    "    i -= 1\n",
    "\n",
    "# 4.\n",
    "name = \"Jan Novák\"\n",
    "i = 0\n",
    "while i < len(name):\n",
    "    print(name[i])\n",
    "    i += 1\n",
    "\n",
    "\n",
    "# 5.\n",
    "i = 1\n",
    "while i < len(name):\n",
    "    print(name[i])\n",
    "    i += 2"
   ]
  },
  {
   "cell_type": "markdown",
   "metadata": {},
   "source": [
    "## 5. Cyklus for-in:\n",
    "1. Vypište si postupně všechna písmena ve vašem jméně.\n",
    "2. Vypište všechna čísla od 0 do 10.\n",
    "3. Vypište 11x pozdrav Ahoj!\n",
    "4. Sečtěte čísla mezi 0 a 10.\n",
    "5. Rozšiřte předchozí příklad – spočítejte průměrnou hodnotu z daných čísel. (Použijte funkci len() na příslušný rozsah.)\n",
    "6. Vypište z vašeho jména každý druhý znak.\n",
    "7. Vypište z vašeho jména každý třetí znak."
   ]
  },
  {
   "cell_type": "markdown",
   "metadata": {},
   "source": [
    "### HINT \n",
    "Pozor – for je v Python'u (narozdíl od předchozího while) hodně jiný! Skoro všechny příklady vyžadují aplikaci jednoduchého rozsahu ve formě range(n).\n"
   ]
  },
  {
   "cell_type": "code",
   "execution_count": null,
   "metadata": {
    "tags": [
     "solution"
    ]
   },
   "outputs": [],
   "source": [
    "name = \"Jan Novák\"\n",
    "\n",
    "# 1.\n",
    "for char in name:\n",
    "    print(char)\n",
    "\n",
    "# 2.\n",
    "for i in range(11):\n",
    "    print(i)\n",
    "\n",
    "# 3.\n",
    "for i in range(11):\n",
    "    print(\"Ahoj!\")\n",
    "\n",
    "# 4.\n",
    "sum = 0\n",
    "for i in range(11):\n",
    "    sum += i\n",
    "print(sum)\n",
    "\n",
    "# 5.\n",
    "sum = 0\n",
    "for i in range(11):\n",
    "    sum += i\n",
    "print(sum / len(range(11)))\n",
    "\n",
    "# 6.\n",
    "for i in range(len(name)):\n",
    "    if i % 2 == 1:\n",
    "        print(name[i])\n",
    "\n",
    "        # 7.\n",
    "for i in range(len(name)):\n",
    "    if i % 3 == 2:\n",
    "        print(name[i])"
   ]
  },
  {
   "cell_type": "markdown",
   "metadata": {},
   "source": [
    "## 6. Vytvořte následující rozsahy:\n",
    "1. čísla od 0 do 7\n",
    "2. čísla od 3 do 9\n",
    "3. čísla od 3 do 13 s krokem 3\n",
    "\n",
    "V následujících příkladech použijte záporný krok:\n",
    "\n",
    "4. čísla od 11 do 7\n",
    "5. čísla od 11 do 4 s krokem 2\n",
    "6. lichá čísla od 20 do 10"
   ]
  },
  {
   "cell_type": "markdown",
   "metadata": {},
   "source": [
    "### HINT \n",
    "Nezapomeňte, že koncové číslo rozsahu do výsledné sekvence již nepatří! Rozsahy jsou v Python'u velmi důležité a používají se skoro všude, proto se jim budeme ještě hodně věnovat."
   ]
  },
  {
   "cell_type": "code",
   "execution_count": null,
   "metadata": {
    "tags": [
     "solution"
    ]
   },
   "outputs": [],
   "source": [
    "# 1.\n",
    "print(list(range(8)))\n",
    "\n",
    "# 2.\n",
    "print(list(range(3, 10)))\n",
    "\n",
    "# 3.\n",
    "print(list(range(3, 14, 3)))\n",
    "\n",
    "# 4.\n",
    "print(list(range(11, 6, -1)))\n",
    "\n",
    "# 5.\n",
    "print(list(range(11, 3, -2)))\n",
    "\n",
    "# 6.\n",
    "print(list(range(19, 10, -2)))"
   ]
  },
  {
   "cell_type": "markdown",
   "metadata": {},
   "source": [
    "## 7. Základní práce s funkcemi:\n",
    "1. Napište funkci factorial(n).\n",
    "2. Napište funkci, která bude počítat třetí mocninu zadaného čísla.\n",
    "3. Napište funkci, která bude jako parametr brát dva parametry: jméno a příjmení. Příjmení je nepovinný parametr a při nezadání se nepoužije. Na výstupu vracet pozdrav daného člověka. \n",
    "4. Napište funkci, která vrátí strukturovaný aktuální čas. (Použijte datetime z modulu datetime a jeho metodu strftime().)\n"
   ]
  },
  {
   "cell_type": "markdown",
   "metadata": {},
   "source": [
    "### HINT\n",
    "Tak tohle cvičení je tady opravdu jenom proto, abyste si vyzkoušeli, jak se píše funkce v Python'u. Víc (dokonce mnohem víc) o funkcích sipovíme až na pozdějších přednáškách. Nultá úloha se odkazuje na přednášku, klidně ji ignorujte.\n"
   ]
  },
  {
   "cell_type": "code",
   "execution_count": null,
   "metadata": {
    "tags": [
     "solution"
    ]
   },
   "outputs": [],
   "source": [
    "# 1.\n",
    "def factorial(n):\n",
    "    if n == 0:\n",
    "        return 1\n",
    "    else:\n",
    "        return n * factorial(n-1)\n",
    "\n",
    "\n",
    "# 2.\n",
    "def pow3(x):\n",
    "    return x**3\n",
    "\n",
    "\n",
    "# 3.\n",
    "def greet(name, surname=None):\n",
    "    return f'Ahoj {name}{\" \" + surname if surname else \"\"}!'\n",
    "\n",
    "\n",
    "# 4.\n",
    "def get_time():\n",
    "    from datetime import datetime\n",
    "    return datetime.now().strftime(\"%m/%d/%Y, %H:%M:%S\")\n",
    "\n",
    "\n",
    "print(factorial(4))\n",
    "print(pow3(2))\n",
    "print(greet('Jan'))\n",
    "print(greet('Jan', \"Novák\"))\n",
    "time = get_time()\n",
    "print(time)"
   ]
  }
 ],
 "metadata": {
  "celltoolbar": "Tags",
  "kernelspec": {
   "display_name": "Python 3 (ipykernel)",
   "language": "python",
   "name": "python3"
  },
  "language_info": {
   "codemirror_mode": {
    "name": "ipython",
    "version": 3
   },
   "file_extension": ".py",
   "mimetype": "text/x-python",
   "name": "python",
   "nbconvert_exporter": "python",
   "pygments_lexer": "ipython3",
   "version": "3.9.6"
  }
 },
 "nbformat": 4,
 "nbformat_minor": 4
}
